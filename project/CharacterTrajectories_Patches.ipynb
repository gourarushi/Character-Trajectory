{
  "nbformat": 4,
  "nbformat_minor": 0,
  "metadata": {
    "colab": {
      "name": "CharacterTrajectories_Patches.ipynb",
      "provenance": [],
      "collapsed_sections": [],
      "toc_visible": true
    },
    "kernelspec": {
      "display_name": "Python 3",
      "name": "python3"
    },
    "widgets": {
      "application/vnd.jupyter.widget-state+json": {
        "9eac870fe99549e1a46b3dccbda1f6fc": {
          "model_module": "@jupyter-widgets/controls",
          "model_name": "HBoxModel",
          "state": {
            "_view_name": "HBoxView",
            "_dom_classes": [],
            "_model_name": "HBoxModel",
            "_view_module": "@jupyter-widgets/controls",
            "_model_module_version": "1.5.0",
            "_view_count": null,
            "_view_module_version": "1.5.0",
            "box_style": "",
            "layout": "IPY_MODEL_9caaaf5466c242d3abf2acf930b85a33",
            "_model_module": "@jupyter-widgets/controls",
            "children": [
              "IPY_MODEL_486fa5ff4dff470381a05250df897d10",
              "IPY_MODEL_8650f78f356f45a392dd6bf8150f75fa"
            ]
          }
        },
        "9caaaf5466c242d3abf2acf930b85a33": {
          "model_module": "@jupyter-widgets/base",
          "model_name": "LayoutModel",
          "state": {
            "_view_name": "LayoutView",
            "grid_template_rows": null,
            "right": null,
            "justify_content": null,
            "_view_module": "@jupyter-widgets/base",
            "overflow": null,
            "_model_module_version": "1.2.0",
            "_view_count": null,
            "flex_flow": null,
            "width": null,
            "min_width": null,
            "border": null,
            "align_items": null,
            "bottom": null,
            "_model_module": "@jupyter-widgets/base",
            "top": null,
            "grid_column": null,
            "overflow_y": null,
            "overflow_x": null,
            "grid_auto_flow": null,
            "grid_area": null,
            "grid_template_columns": null,
            "flex": null,
            "_model_name": "LayoutModel",
            "justify_items": null,
            "grid_row": null,
            "max_height": null,
            "align_content": null,
            "visibility": null,
            "align_self": null,
            "height": null,
            "min_height": null,
            "padding": null,
            "grid_auto_rows": null,
            "grid_gap": null,
            "max_width": null,
            "order": null,
            "_view_module_version": "1.2.0",
            "grid_template_areas": null,
            "object_position": null,
            "object_fit": null,
            "grid_auto_columns": null,
            "margin": null,
            "display": null,
            "left": null
          }
        },
        "486fa5ff4dff470381a05250df897d10": {
          "model_module": "@jupyter-widgets/controls",
          "model_name": "FloatProgressModel",
          "state": {
            "_view_name": "ProgressView",
            "style": "IPY_MODEL_4b468e008a654d58a2d616f4b71a642e",
            "_dom_classes": [],
            "description": "100%",
            "_model_name": "FloatProgressModel",
            "bar_style": "success",
            "max": 19,
            "_view_module": "@jupyter-widgets/controls",
            "_model_module_version": "1.5.0",
            "value": 19,
            "_view_count": null,
            "_view_module_version": "1.5.0",
            "orientation": "horizontal",
            "min": 0,
            "description_tooltip": null,
            "_model_module": "@jupyter-widgets/controls",
            "layout": "IPY_MODEL_48d25ae725ca4d0da61c3ae46f8d6ef7"
          }
        },
        "8650f78f356f45a392dd6bf8150f75fa": {
          "model_module": "@jupyter-widgets/controls",
          "model_name": "HTMLModel",
          "state": {
            "_view_name": "HTMLView",
            "style": "IPY_MODEL_7aceea75964c403c8ecf6616a6fd6491",
            "_dom_classes": [],
            "description": "",
            "_model_name": "HTMLModel",
            "placeholder": "​",
            "_view_module": "@jupyter-widgets/controls",
            "_model_module_version": "1.5.0",
            "value": " 19/19 [00:12&lt;00:00,  1.49it/s]",
            "_view_count": null,
            "_view_module_version": "1.5.0",
            "description_tooltip": null,
            "_model_module": "@jupyter-widgets/controls",
            "layout": "IPY_MODEL_43914ca20dcb4e68a011b73cccd4afe4"
          }
        },
        "4b468e008a654d58a2d616f4b71a642e": {
          "model_module": "@jupyter-widgets/controls",
          "model_name": "ProgressStyleModel",
          "state": {
            "_view_name": "StyleView",
            "_model_name": "ProgressStyleModel",
            "description_width": "initial",
            "_view_module": "@jupyter-widgets/base",
            "_model_module_version": "1.5.0",
            "_view_count": null,
            "_view_module_version": "1.2.0",
            "bar_color": null,
            "_model_module": "@jupyter-widgets/controls"
          }
        },
        "48d25ae725ca4d0da61c3ae46f8d6ef7": {
          "model_module": "@jupyter-widgets/base",
          "model_name": "LayoutModel",
          "state": {
            "_view_name": "LayoutView",
            "grid_template_rows": null,
            "right": null,
            "justify_content": null,
            "_view_module": "@jupyter-widgets/base",
            "overflow": null,
            "_model_module_version": "1.2.0",
            "_view_count": null,
            "flex_flow": null,
            "width": null,
            "min_width": null,
            "border": null,
            "align_items": null,
            "bottom": null,
            "_model_module": "@jupyter-widgets/base",
            "top": null,
            "grid_column": null,
            "overflow_y": null,
            "overflow_x": null,
            "grid_auto_flow": null,
            "grid_area": null,
            "grid_template_columns": null,
            "flex": null,
            "_model_name": "LayoutModel",
            "justify_items": null,
            "grid_row": null,
            "max_height": null,
            "align_content": null,
            "visibility": null,
            "align_self": null,
            "height": null,
            "min_height": null,
            "padding": null,
            "grid_auto_rows": null,
            "grid_gap": null,
            "max_width": null,
            "order": null,
            "_view_module_version": "1.2.0",
            "grid_template_areas": null,
            "object_position": null,
            "object_fit": null,
            "grid_auto_columns": null,
            "margin": null,
            "display": null,
            "left": null
          }
        },
        "7aceea75964c403c8ecf6616a6fd6491": {
          "model_module": "@jupyter-widgets/controls",
          "model_name": "DescriptionStyleModel",
          "state": {
            "_view_name": "StyleView",
            "_model_name": "DescriptionStyleModel",
            "description_width": "",
            "_view_module": "@jupyter-widgets/base",
            "_model_module_version": "1.5.0",
            "_view_count": null,
            "_view_module_version": "1.2.0",
            "_model_module": "@jupyter-widgets/controls"
          }
        },
        "43914ca20dcb4e68a011b73cccd4afe4": {
          "model_module": "@jupyter-widgets/base",
          "model_name": "LayoutModel",
          "state": {
            "_view_name": "LayoutView",
            "grid_template_rows": null,
            "right": null,
            "justify_content": null,
            "_view_module": "@jupyter-widgets/base",
            "overflow": null,
            "_model_module_version": "1.2.0",
            "_view_count": null,
            "flex_flow": null,
            "width": null,
            "min_width": null,
            "border": null,
            "align_items": null,
            "bottom": null,
            "_model_module": "@jupyter-widgets/base",
            "top": null,
            "grid_column": null,
            "overflow_y": null,
            "overflow_x": null,
            "grid_auto_flow": null,
            "grid_area": null,
            "grid_template_columns": null,
            "flex": null,
            "_model_name": "LayoutModel",
            "justify_items": null,
            "grid_row": null,
            "max_height": null,
            "align_content": null,
            "visibility": null,
            "align_self": null,
            "height": null,
            "min_height": null,
            "padding": null,
            "grid_auto_rows": null,
            "grid_gap": null,
            "max_width": null,
            "order": null,
            "_view_module_version": "1.2.0",
            "grid_template_areas": null,
            "object_position": null,
            "object_fit": null,
            "grid_auto_columns": null,
            "margin": null,
            "display": null,
            "left": null
          }
        },
        "8adba60a9d754434868c704f8631a8f6": {
          "model_module": "@jupyter-widgets/controls",
          "model_name": "HBoxModel",
          "state": {
            "_view_name": "HBoxView",
            "_dom_classes": [],
            "_model_name": "HBoxModel",
            "_view_module": "@jupyter-widgets/controls",
            "_model_module_version": "1.5.0",
            "_view_count": null,
            "_view_module_version": "1.5.0",
            "box_style": "",
            "layout": "IPY_MODEL_cc2f8e3ec9114262afe8faf993e20c80",
            "_model_module": "@jupyter-widgets/controls",
            "children": [
              "IPY_MODEL_2d6ab5cd7cd74e859ee017aad33b6c07",
              "IPY_MODEL_65e1567c447f44d9a3ac779eb7b1497e"
            ]
          }
        },
        "cc2f8e3ec9114262afe8faf993e20c80": {
          "model_module": "@jupyter-widgets/base",
          "model_name": "LayoutModel",
          "state": {
            "_view_name": "LayoutView",
            "grid_template_rows": null,
            "right": null,
            "justify_content": null,
            "_view_module": "@jupyter-widgets/base",
            "overflow": null,
            "_model_module_version": "1.2.0",
            "_view_count": null,
            "flex_flow": null,
            "width": null,
            "min_width": null,
            "border": null,
            "align_items": null,
            "bottom": null,
            "_model_module": "@jupyter-widgets/base",
            "top": null,
            "grid_column": null,
            "overflow_y": null,
            "overflow_x": null,
            "grid_auto_flow": null,
            "grid_area": null,
            "grid_template_columns": null,
            "flex": null,
            "_model_name": "LayoutModel",
            "justify_items": null,
            "grid_row": null,
            "max_height": null,
            "align_content": null,
            "visibility": null,
            "align_self": null,
            "height": null,
            "min_height": null,
            "padding": null,
            "grid_auto_rows": null,
            "grid_gap": null,
            "max_width": null,
            "order": null,
            "_view_module_version": "1.2.0",
            "grid_template_areas": null,
            "object_position": null,
            "object_fit": null,
            "grid_auto_columns": null,
            "margin": null,
            "display": null,
            "left": null
          }
        },
        "2d6ab5cd7cd74e859ee017aad33b6c07": {
          "model_module": "@jupyter-widgets/controls",
          "model_name": "FloatProgressModel",
          "state": {
            "_view_name": "ProgressView",
            "style": "IPY_MODEL_82b7012a6f1447468fcc7769a5ef8799",
            "_dom_classes": [],
            "description": "100%",
            "_model_name": "FloatProgressModel",
            "bar_style": "success",
            "max": 19,
            "_view_module": "@jupyter-widgets/controls",
            "_model_module_version": "1.5.0",
            "value": 19,
            "_view_count": null,
            "_view_module_version": "1.5.0",
            "orientation": "horizontal",
            "min": 0,
            "description_tooltip": null,
            "_model_module": "@jupyter-widgets/controls",
            "layout": "IPY_MODEL_80b91fef038844ee95655067340545af"
          }
        },
        "65e1567c447f44d9a3ac779eb7b1497e": {
          "model_module": "@jupyter-widgets/controls",
          "model_name": "HTMLModel",
          "state": {
            "_view_name": "HTMLView",
            "style": "IPY_MODEL_068bea4c563349e99748c63d06685075",
            "_dom_classes": [],
            "description": "",
            "_model_name": "HTMLModel",
            "placeholder": "​",
            "_view_module": "@jupyter-widgets/controls",
            "_model_module_version": "1.5.0",
            "value": " 19/19 [00:07&lt;00:00,  2.49it/s]",
            "_view_count": null,
            "_view_module_version": "1.5.0",
            "description_tooltip": null,
            "_model_module": "@jupyter-widgets/controls",
            "layout": "IPY_MODEL_a54275973a1d4bd49ce87cfca0eb662e"
          }
        },
        "82b7012a6f1447468fcc7769a5ef8799": {
          "model_module": "@jupyter-widgets/controls",
          "model_name": "ProgressStyleModel",
          "state": {
            "_view_name": "StyleView",
            "_model_name": "ProgressStyleModel",
            "description_width": "initial",
            "_view_module": "@jupyter-widgets/base",
            "_model_module_version": "1.5.0",
            "_view_count": null,
            "_view_module_version": "1.2.0",
            "bar_color": null,
            "_model_module": "@jupyter-widgets/controls"
          }
        },
        "80b91fef038844ee95655067340545af": {
          "model_module": "@jupyter-widgets/base",
          "model_name": "LayoutModel",
          "state": {
            "_view_name": "LayoutView",
            "grid_template_rows": null,
            "right": null,
            "justify_content": null,
            "_view_module": "@jupyter-widgets/base",
            "overflow": null,
            "_model_module_version": "1.2.0",
            "_view_count": null,
            "flex_flow": null,
            "width": null,
            "min_width": null,
            "border": null,
            "align_items": null,
            "bottom": null,
            "_model_module": "@jupyter-widgets/base",
            "top": null,
            "grid_column": null,
            "overflow_y": null,
            "overflow_x": null,
            "grid_auto_flow": null,
            "grid_area": null,
            "grid_template_columns": null,
            "flex": null,
            "_model_name": "LayoutModel",
            "justify_items": null,
            "grid_row": null,
            "max_height": null,
            "align_content": null,
            "visibility": null,
            "align_self": null,
            "height": null,
            "min_height": null,
            "padding": null,
            "grid_auto_rows": null,
            "grid_gap": null,
            "max_width": null,
            "order": null,
            "_view_module_version": "1.2.0",
            "grid_template_areas": null,
            "object_position": null,
            "object_fit": null,
            "grid_auto_columns": null,
            "margin": null,
            "display": null,
            "left": null
          }
        },
        "068bea4c563349e99748c63d06685075": {
          "model_module": "@jupyter-widgets/controls",
          "model_name": "DescriptionStyleModel",
          "state": {
            "_view_name": "StyleView",
            "_model_name": "DescriptionStyleModel",
            "description_width": "",
            "_view_module": "@jupyter-widgets/base",
            "_model_module_version": "1.5.0",
            "_view_count": null,
            "_view_module_version": "1.2.0",
            "_model_module": "@jupyter-widgets/controls"
          }
        },
        "a54275973a1d4bd49ce87cfca0eb662e": {
          "model_module": "@jupyter-widgets/base",
          "model_name": "LayoutModel",
          "state": {
            "_view_name": "LayoutView",
            "grid_template_rows": null,
            "right": null,
            "justify_content": null,
            "_view_module": "@jupyter-widgets/base",
            "overflow": null,
            "_model_module_version": "1.2.0",
            "_view_count": null,
            "flex_flow": null,
            "width": null,
            "min_width": null,
            "border": null,
            "align_items": null,
            "bottom": null,
            "_model_module": "@jupyter-widgets/base",
            "top": null,
            "grid_column": null,
            "overflow_y": null,
            "overflow_x": null,
            "grid_auto_flow": null,
            "grid_area": null,
            "grid_template_columns": null,
            "flex": null,
            "_model_name": "LayoutModel",
            "justify_items": null,
            "grid_row": null,
            "max_height": null,
            "align_content": null,
            "visibility": null,
            "align_self": null,
            "height": null,
            "min_height": null,
            "padding": null,
            "grid_auto_rows": null,
            "grid_gap": null,
            "max_width": null,
            "order": null,
            "_view_module_version": "1.2.0",
            "grid_template_areas": null,
            "object_position": null,
            "object_fit": null,
            "grid_auto_columns": null,
            "margin": null,
            "display": null,
            "left": null
          }
        },
        "03f85f89d682447bb4ffca6fb79dcd4a": {
          "model_module": "@jupyter-widgets/controls",
          "model_name": "HBoxModel",
          "state": {
            "_view_name": "HBoxView",
            "_dom_classes": [],
            "_model_name": "HBoxModel",
            "_view_module": "@jupyter-widgets/controls",
            "_model_module_version": "1.5.0",
            "_view_count": null,
            "_view_module_version": "1.5.0",
            "box_style": "",
            "layout": "IPY_MODEL_c1c3921730f84265aa61af4a9adeeb22",
            "_model_module": "@jupyter-widgets/controls",
            "children": [
              "IPY_MODEL_d098adaefc644b618f2bf5467f0f46db",
              "IPY_MODEL_5eba3125d01943b8b72158dc0eb77c6d"
            ]
          }
        },
        "c1c3921730f84265aa61af4a9adeeb22": {
          "model_module": "@jupyter-widgets/base",
          "model_name": "LayoutModel",
          "state": {
            "_view_name": "LayoutView",
            "grid_template_rows": null,
            "right": null,
            "justify_content": null,
            "_view_module": "@jupyter-widgets/base",
            "overflow": null,
            "_model_module_version": "1.2.0",
            "_view_count": null,
            "flex_flow": null,
            "width": null,
            "min_width": null,
            "border": null,
            "align_items": null,
            "bottom": null,
            "_model_module": "@jupyter-widgets/base",
            "top": null,
            "grid_column": null,
            "overflow_y": null,
            "overflow_x": null,
            "grid_auto_flow": null,
            "grid_area": null,
            "grid_template_columns": null,
            "flex": null,
            "_model_name": "LayoutModel",
            "justify_items": null,
            "grid_row": null,
            "max_height": null,
            "align_content": null,
            "visibility": null,
            "align_self": null,
            "height": null,
            "min_height": null,
            "padding": null,
            "grid_auto_rows": null,
            "grid_gap": null,
            "max_width": null,
            "order": null,
            "_view_module_version": "1.2.0",
            "grid_template_areas": null,
            "object_position": null,
            "object_fit": null,
            "grid_auto_columns": null,
            "margin": null,
            "display": null,
            "left": null
          }
        },
        "d098adaefc644b618f2bf5467f0f46db": {
          "model_module": "@jupyter-widgets/controls",
          "model_name": "FloatProgressModel",
          "state": {
            "_view_name": "ProgressView",
            "style": "IPY_MODEL_55a3e1ff6b054b2daead8977a23afd1b",
            "_dom_classes": [],
            "description": "100%",
            "_model_name": "FloatProgressModel",
            "bar_style": "success",
            "max": 1422,
            "_view_module": "@jupyter-widgets/controls",
            "_model_module_version": "1.5.0",
            "value": 1422,
            "_view_count": null,
            "_view_module_version": "1.5.0",
            "orientation": "horizontal",
            "min": 0,
            "description_tooltip": null,
            "_model_module": "@jupyter-widgets/controls",
            "layout": "IPY_MODEL_981ea6cc4e194f4c9f3c437f1f281054"
          }
        },
        "5eba3125d01943b8b72158dc0eb77c6d": {
          "model_module": "@jupyter-widgets/controls",
          "model_name": "HTMLModel",
          "state": {
            "_view_name": "HTMLView",
            "style": "IPY_MODEL_214792cc586c4d11a01543cb1f1b0a40",
            "_dom_classes": [],
            "description": "",
            "_model_name": "HTMLModel",
            "placeholder": "​",
            "_view_module": "@jupyter-widgets/controls",
            "_model_module_version": "1.5.0",
            "value": " 1422/1422 [08:06&lt;00:00,  2.92it/s]",
            "_view_count": null,
            "_view_module_version": "1.5.0",
            "description_tooltip": null,
            "_model_module": "@jupyter-widgets/controls",
            "layout": "IPY_MODEL_a91080b1f9a84df78ba05c99a1fc0617"
          }
        },
        "55a3e1ff6b054b2daead8977a23afd1b": {
          "model_module": "@jupyter-widgets/controls",
          "model_name": "ProgressStyleModel",
          "state": {
            "_view_name": "StyleView",
            "_model_name": "ProgressStyleModel",
            "description_width": "initial",
            "_view_module": "@jupyter-widgets/base",
            "_model_module_version": "1.5.0",
            "_view_count": null,
            "_view_module_version": "1.2.0",
            "bar_color": null,
            "_model_module": "@jupyter-widgets/controls"
          }
        },
        "981ea6cc4e194f4c9f3c437f1f281054": {
          "model_module": "@jupyter-widgets/base",
          "model_name": "LayoutModel",
          "state": {
            "_view_name": "LayoutView",
            "grid_template_rows": null,
            "right": null,
            "justify_content": null,
            "_view_module": "@jupyter-widgets/base",
            "overflow": null,
            "_model_module_version": "1.2.0",
            "_view_count": null,
            "flex_flow": null,
            "width": null,
            "min_width": null,
            "border": null,
            "align_items": null,
            "bottom": null,
            "_model_module": "@jupyter-widgets/base",
            "top": null,
            "grid_column": null,
            "overflow_y": null,
            "overflow_x": null,
            "grid_auto_flow": null,
            "grid_area": null,
            "grid_template_columns": null,
            "flex": null,
            "_model_name": "LayoutModel",
            "justify_items": null,
            "grid_row": null,
            "max_height": null,
            "align_content": null,
            "visibility": null,
            "align_self": null,
            "height": null,
            "min_height": null,
            "padding": null,
            "grid_auto_rows": null,
            "grid_gap": null,
            "max_width": null,
            "order": null,
            "_view_module_version": "1.2.0",
            "grid_template_areas": null,
            "object_position": null,
            "object_fit": null,
            "grid_auto_columns": null,
            "margin": null,
            "display": null,
            "left": null
          }
        },
        "214792cc586c4d11a01543cb1f1b0a40": {
          "model_module": "@jupyter-widgets/controls",
          "model_name": "DescriptionStyleModel",
          "state": {
            "_view_name": "StyleView",
            "_model_name": "DescriptionStyleModel",
            "description_width": "",
            "_view_module": "@jupyter-widgets/base",
            "_model_module_version": "1.5.0",
            "_view_count": null,
            "_view_module_version": "1.2.0",
            "_model_module": "@jupyter-widgets/controls"
          }
        },
        "a91080b1f9a84df78ba05c99a1fc0617": {
          "model_module": "@jupyter-widgets/base",
          "model_name": "LayoutModel",
          "state": {
            "_view_name": "LayoutView",
            "grid_template_rows": null,
            "right": null,
            "justify_content": null,
            "_view_module": "@jupyter-widgets/base",
            "overflow": null,
            "_model_module_version": "1.2.0",
            "_view_count": null,
            "flex_flow": null,
            "width": null,
            "min_width": null,
            "border": null,
            "align_items": null,
            "bottom": null,
            "_model_module": "@jupyter-widgets/base",
            "top": null,
            "grid_column": null,
            "overflow_y": null,
            "overflow_x": null,
            "grid_auto_flow": null,
            "grid_area": null,
            "grid_template_columns": null,
            "flex": null,
            "_model_name": "LayoutModel",
            "justify_items": null,
            "grid_row": null,
            "max_height": null,
            "align_content": null,
            "visibility": null,
            "align_self": null,
            "height": null,
            "min_height": null,
            "padding": null,
            "grid_auto_rows": null,
            "grid_gap": null,
            "max_width": null,
            "order": null,
            "_view_module_version": "1.2.0",
            "grid_template_areas": null,
            "object_position": null,
            "object_fit": null,
            "grid_auto_columns": null,
            "margin": null,
            "display": null,
            "left": null
          }
        },
        "0d08e7cb0ac5487d85c7dc104f8da0b8": {
          "model_module": "@jupyter-widgets/controls",
          "model_name": "HBoxModel",
          "state": {
            "_view_name": "HBoxView",
            "_dom_classes": [],
            "_model_name": "HBoxModel",
            "_view_module": "@jupyter-widgets/controls",
            "_model_module_version": "1.5.0",
            "_view_count": null,
            "_view_module_version": "1.5.0",
            "box_style": "",
            "layout": "IPY_MODEL_89abb654f316437381866a128d45016e",
            "_model_module": "@jupyter-widgets/controls",
            "children": [
              "IPY_MODEL_3a52f85d892343799a6d02aecf0af9b2",
              "IPY_MODEL_4b97de04b8d245a28924c5ddcc6b7f28"
            ]
          }
        },
        "89abb654f316437381866a128d45016e": {
          "model_module": "@jupyter-widgets/base",
          "model_name": "LayoutModel",
          "state": {
            "_view_name": "LayoutView",
            "grid_template_rows": null,
            "right": null,
            "justify_content": null,
            "_view_module": "@jupyter-widgets/base",
            "overflow": null,
            "_model_module_version": "1.2.0",
            "_view_count": null,
            "flex_flow": null,
            "width": null,
            "min_width": null,
            "border": null,
            "align_items": null,
            "bottom": null,
            "_model_module": "@jupyter-widgets/base",
            "top": null,
            "grid_column": null,
            "overflow_y": null,
            "overflow_x": null,
            "grid_auto_flow": null,
            "grid_area": null,
            "grid_template_columns": null,
            "flex": null,
            "_model_name": "LayoutModel",
            "justify_items": null,
            "grid_row": null,
            "max_height": null,
            "align_content": null,
            "visibility": null,
            "align_self": null,
            "height": null,
            "min_height": null,
            "padding": null,
            "grid_auto_rows": null,
            "grid_gap": null,
            "max_width": null,
            "order": null,
            "_view_module_version": "1.2.0",
            "grid_template_areas": null,
            "object_position": null,
            "object_fit": null,
            "grid_auto_columns": null,
            "margin": null,
            "display": null,
            "left": null
          }
        },
        "3a52f85d892343799a6d02aecf0af9b2": {
          "model_module": "@jupyter-widgets/controls",
          "model_name": "FloatProgressModel",
          "state": {
            "_view_name": "ProgressView",
            "style": "IPY_MODEL_b56a0046190648b5987770316714dd31",
            "_dom_classes": [],
            "description": "100%",
            "_model_name": "FloatProgressModel",
            "bar_style": "success",
            "max": 1436,
            "_view_module": "@jupyter-widgets/controls",
            "_model_module_version": "1.5.0",
            "value": 1436,
            "_view_count": null,
            "_view_module_version": "1.5.0",
            "orientation": "horizontal",
            "min": 0,
            "description_tooltip": null,
            "_model_module": "@jupyter-widgets/controls",
            "layout": "IPY_MODEL_c71eaacb97b94f5089e879ea1527069d"
          }
        },
        "4b97de04b8d245a28924c5ddcc6b7f28": {
          "model_module": "@jupyter-widgets/controls",
          "model_name": "HTMLModel",
          "state": {
            "_view_name": "HTMLView",
            "style": "IPY_MODEL_a73efb7fe0a5492fa484ec30177cd745",
            "_dom_classes": [],
            "description": "",
            "_model_name": "HTMLModel",
            "placeholder": "​",
            "_view_module": "@jupyter-widgets/controls",
            "_model_module_version": "1.5.0",
            "value": " 1436/1436 [04:04&lt;00:00,  5.87it/s]",
            "_view_count": null,
            "_view_module_version": "1.5.0",
            "description_tooltip": null,
            "_model_module": "@jupyter-widgets/controls",
            "layout": "IPY_MODEL_62671285d8054f35a74c14a29d3846b0"
          }
        },
        "b56a0046190648b5987770316714dd31": {
          "model_module": "@jupyter-widgets/controls",
          "model_name": "ProgressStyleModel",
          "state": {
            "_view_name": "StyleView",
            "_model_name": "ProgressStyleModel",
            "description_width": "initial",
            "_view_module": "@jupyter-widgets/base",
            "_model_module_version": "1.5.0",
            "_view_count": null,
            "_view_module_version": "1.2.0",
            "bar_color": null,
            "_model_module": "@jupyter-widgets/controls"
          }
        },
        "c71eaacb97b94f5089e879ea1527069d": {
          "model_module": "@jupyter-widgets/base",
          "model_name": "LayoutModel",
          "state": {
            "_view_name": "LayoutView",
            "grid_template_rows": null,
            "right": null,
            "justify_content": null,
            "_view_module": "@jupyter-widgets/base",
            "overflow": null,
            "_model_module_version": "1.2.0",
            "_view_count": null,
            "flex_flow": null,
            "width": null,
            "min_width": null,
            "border": null,
            "align_items": null,
            "bottom": null,
            "_model_module": "@jupyter-widgets/base",
            "top": null,
            "grid_column": null,
            "overflow_y": null,
            "overflow_x": null,
            "grid_auto_flow": null,
            "grid_area": null,
            "grid_template_columns": null,
            "flex": null,
            "_model_name": "LayoutModel",
            "justify_items": null,
            "grid_row": null,
            "max_height": null,
            "align_content": null,
            "visibility": null,
            "align_self": null,
            "height": null,
            "min_height": null,
            "padding": null,
            "grid_auto_rows": null,
            "grid_gap": null,
            "max_width": null,
            "order": null,
            "_view_module_version": "1.2.0",
            "grid_template_areas": null,
            "object_position": null,
            "object_fit": null,
            "grid_auto_columns": null,
            "margin": null,
            "display": null,
            "left": null
          }
        },
        "a73efb7fe0a5492fa484ec30177cd745": {
          "model_module": "@jupyter-widgets/controls",
          "model_name": "DescriptionStyleModel",
          "state": {
            "_view_name": "StyleView",
            "_model_name": "DescriptionStyleModel",
            "description_width": "",
            "_view_module": "@jupyter-widgets/base",
            "_model_module_version": "1.5.0",
            "_view_count": null,
            "_view_module_version": "1.2.0",
            "_model_module": "@jupyter-widgets/controls"
          }
        },
        "62671285d8054f35a74c14a29d3846b0": {
          "model_module": "@jupyter-widgets/base",
          "model_name": "LayoutModel",
          "state": {
            "_view_name": "LayoutView",
            "grid_template_rows": null,
            "right": null,
            "justify_content": null,
            "_view_module": "@jupyter-widgets/base",
            "overflow": null,
            "_model_module_version": "1.2.0",
            "_view_count": null,
            "flex_flow": null,
            "width": null,
            "min_width": null,
            "border": null,
            "align_items": null,
            "bottom": null,
            "_model_module": "@jupyter-widgets/base",
            "top": null,
            "grid_column": null,
            "overflow_y": null,
            "overflow_x": null,
            "grid_auto_flow": null,
            "grid_area": null,
            "grid_template_columns": null,
            "flex": null,
            "_model_name": "LayoutModel",
            "justify_items": null,
            "grid_row": null,
            "max_height": null,
            "align_content": null,
            "visibility": null,
            "align_self": null,
            "height": null,
            "min_height": null,
            "padding": null,
            "grid_auto_rows": null,
            "grid_gap": null,
            "max_width": null,
            "order": null,
            "_view_module_version": "1.2.0",
            "grid_template_areas": null,
            "object_position": null,
            "object_fit": null,
            "grid_auto_columns": null,
            "margin": null,
            "display": null,
            "left": null
          }
        },
        "7179c85163be44fa84bf078de1a03858": {
          "model_module": "@jupyter-widgets/controls",
          "model_name": "HBoxModel",
          "state": {
            "_view_name": "HBoxView",
            "_dom_classes": [],
            "_model_name": "HBoxModel",
            "_view_module": "@jupyter-widgets/controls",
            "_model_module_version": "1.5.0",
            "_view_count": null,
            "_view_module_version": "1.5.0",
            "box_style": "",
            "layout": "IPY_MODEL_a6da9a0400024f198ef53ab1850d2159",
            "_model_module": "@jupyter-widgets/controls",
            "children": [
              "IPY_MODEL_a2cb7dfd313c4e0caac0b35e5ae9e9d1",
              "IPY_MODEL_4227810b5d164fff90c7bce65f6d4918"
            ]
          }
        },
        "a6da9a0400024f198ef53ab1850d2159": {
          "model_module": "@jupyter-widgets/base",
          "model_name": "LayoutModel",
          "state": {
            "_view_name": "LayoutView",
            "grid_template_rows": null,
            "right": null,
            "justify_content": null,
            "_view_module": "@jupyter-widgets/base",
            "overflow": null,
            "_model_module_version": "1.2.0",
            "_view_count": null,
            "flex_flow": null,
            "width": null,
            "min_width": null,
            "border": null,
            "align_items": null,
            "bottom": null,
            "_model_module": "@jupyter-widgets/base",
            "top": null,
            "grid_column": null,
            "overflow_y": null,
            "overflow_x": null,
            "grid_auto_flow": null,
            "grid_area": null,
            "grid_template_columns": null,
            "flex": null,
            "_model_name": "LayoutModel",
            "justify_items": null,
            "grid_row": null,
            "max_height": null,
            "align_content": null,
            "visibility": null,
            "align_self": null,
            "height": null,
            "min_height": null,
            "padding": null,
            "grid_auto_rows": null,
            "grid_gap": null,
            "max_width": null,
            "order": null,
            "_view_module_version": "1.2.0",
            "grid_template_areas": null,
            "object_position": null,
            "object_fit": null,
            "grid_auto_columns": null,
            "margin": null,
            "display": null,
            "left": null
          }
        },
        "a2cb7dfd313c4e0caac0b35e5ae9e9d1": {
          "model_module": "@jupyter-widgets/controls",
          "model_name": "FloatProgressModel",
          "state": {
            "_view_name": "ProgressView",
            "style": "IPY_MODEL_9f2670465ff544628b894451f7d6a411",
            "_dom_classes": [],
            "description": "100%",
            "_model_name": "FloatProgressModel",
            "bar_style": "success",
            "max": 150,
            "_view_module": "@jupyter-widgets/controls",
            "_model_module_version": "1.5.0",
            "value": 150,
            "_view_count": null,
            "_view_module_version": "1.5.0",
            "orientation": "horizontal",
            "min": 0,
            "description_tooltip": null,
            "_model_module": "@jupyter-widgets/controls",
            "layout": "IPY_MODEL_f218c062cebd4fd3900736b86e983cdb"
          }
        },
        "4227810b5d164fff90c7bce65f6d4918": {
          "model_module": "@jupyter-widgets/controls",
          "model_name": "HTMLModel",
          "state": {
            "_view_name": "HTMLView",
            "style": "IPY_MODEL_25d584bb95774d5eaf3f7318f5c3ec82",
            "_dom_classes": [],
            "description": "",
            "_model_name": "HTMLModel",
            "placeholder": "​",
            "_view_module": "@jupyter-widgets/controls",
            "_model_module_version": "1.5.0",
            "value": " 150/150 [04:00&lt;00:00,  1.60s/it]",
            "_view_count": null,
            "_view_module_version": "1.5.0",
            "description_tooltip": null,
            "_model_module": "@jupyter-widgets/controls",
            "layout": "IPY_MODEL_9409c24f126245b2ae3d0adf44e30439"
          }
        },
        "9f2670465ff544628b894451f7d6a411": {
          "model_module": "@jupyter-widgets/controls",
          "model_name": "ProgressStyleModel",
          "state": {
            "_view_name": "StyleView",
            "_model_name": "ProgressStyleModel",
            "description_width": "initial",
            "_view_module": "@jupyter-widgets/base",
            "_model_module_version": "1.5.0",
            "_view_count": null,
            "_view_module_version": "1.2.0",
            "bar_color": null,
            "_model_module": "@jupyter-widgets/controls"
          }
        },
        "f218c062cebd4fd3900736b86e983cdb": {
          "model_module": "@jupyter-widgets/base",
          "model_name": "LayoutModel",
          "state": {
            "_view_name": "LayoutView",
            "grid_template_rows": null,
            "right": null,
            "justify_content": null,
            "_view_module": "@jupyter-widgets/base",
            "overflow": null,
            "_model_module_version": "1.2.0",
            "_view_count": null,
            "flex_flow": null,
            "width": null,
            "min_width": null,
            "border": null,
            "align_items": null,
            "bottom": null,
            "_model_module": "@jupyter-widgets/base",
            "top": null,
            "grid_column": null,
            "overflow_y": null,
            "overflow_x": null,
            "grid_auto_flow": null,
            "grid_area": null,
            "grid_template_columns": null,
            "flex": null,
            "_model_name": "LayoutModel",
            "justify_items": null,
            "grid_row": null,
            "max_height": null,
            "align_content": null,
            "visibility": null,
            "align_self": null,
            "height": null,
            "min_height": null,
            "padding": null,
            "grid_auto_rows": null,
            "grid_gap": null,
            "max_width": null,
            "order": null,
            "_view_module_version": "1.2.0",
            "grid_template_areas": null,
            "object_position": null,
            "object_fit": null,
            "grid_auto_columns": null,
            "margin": null,
            "display": null,
            "left": null
          }
        },
        "25d584bb95774d5eaf3f7318f5c3ec82": {
          "model_module": "@jupyter-widgets/controls",
          "model_name": "DescriptionStyleModel",
          "state": {
            "_view_name": "StyleView",
            "_model_name": "DescriptionStyleModel",
            "description_width": "",
            "_view_module": "@jupyter-widgets/base",
            "_model_module_version": "1.5.0",
            "_view_count": null,
            "_view_module_version": "1.2.0",
            "_model_module": "@jupyter-widgets/controls"
          }
        },
        "9409c24f126245b2ae3d0adf44e30439": {
          "model_module": "@jupyter-widgets/base",
          "model_name": "LayoutModel",
          "state": {
            "_view_name": "LayoutView",
            "grid_template_rows": null,
            "right": null,
            "justify_content": null,
            "_view_module": "@jupyter-widgets/base",
            "overflow": null,
            "_model_module_version": "1.2.0",
            "_view_count": null,
            "flex_flow": null,
            "width": null,
            "min_width": null,
            "border": null,
            "align_items": null,
            "bottom": null,
            "_model_module": "@jupyter-widgets/base",
            "top": null,
            "grid_column": null,
            "overflow_y": null,
            "overflow_x": null,
            "grid_auto_flow": null,
            "grid_area": null,
            "grid_template_columns": null,
            "flex": null,
            "_model_name": "LayoutModel",
            "justify_items": null,
            "grid_row": null,
            "max_height": null,
            "align_content": null,
            "visibility": null,
            "align_self": null,
            "height": null,
            "min_height": null,
            "padding": null,
            "grid_auto_rows": null,
            "grid_gap": null,
            "max_width": null,
            "order": null,
            "_view_module_version": "1.2.0",
            "grid_template_areas": null,
            "object_position": null,
            "object_fit": null,
            "grid_auto_columns": null,
            "margin": null,
            "display": null,
            "left": null
          }
        },
        "740a8189e5b64c38b3befaf032543db7": {
          "model_module": "@jupyter-widgets/controls",
          "model_name": "HBoxModel",
          "state": {
            "_view_name": "HBoxView",
            "_dom_classes": [],
            "_model_name": "HBoxModel",
            "_view_module": "@jupyter-widgets/controls",
            "_model_module_version": "1.5.0",
            "_view_count": null,
            "_view_module_version": "1.5.0",
            "box_style": "",
            "layout": "IPY_MODEL_8efae529330d4f2299dd40924e080a8d",
            "_model_module": "@jupyter-widgets/controls",
            "children": [
              "IPY_MODEL_541de766df514378b186d9002e249d86",
              "IPY_MODEL_6d795719d1fd45a792d15fdfcdc3e2ad"
            ]
          }
        },
        "8efae529330d4f2299dd40924e080a8d": {
          "model_module": "@jupyter-widgets/base",
          "model_name": "LayoutModel",
          "state": {
            "_view_name": "LayoutView",
            "grid_template_rows": null,
            "right": null,
            "justify_content": null,
            "_view_module": "@jupyter-widgets/base",
            "overflow": null,
            "_model_module_version": "1.2.0",
            "_view_count": null,
            "flex_flow": null,
            "width": null,
            "min_width": null,
            "border": null,
            "align_items": null,
            "bottom": null,
            "_model_module": "@jupyter-widgets/base",
            "top": null,
            "grid_column": null,
            "overflow_y": null,
            "overflow_x": null,
            "grid_auto_flow": null,
            "grid_area": null,
            "grid_template_columns": null,
            "flex": null,
            "_model_name": "LayoutModel",
            "justify_items": null,
            "grid_row": null,
            "max_height": null,
            "align_content": null,
            "visibility": null,
            "align_self": null,
            "height": null,
            "min_height": null,
            "padding": null,
            "grid_auto_rows": null,
            "grid_gap": null,
            "max_width": null,
            "order": null,
            "_view_module_version": "1.2.0",
            "grid_template_areas": null,
            "object_position": null,
            "object_fit": null,
            "grid_auto_columns": null,
            "margin": null,
            "display": null,
            "left": null
          }
        },
        "541de766df514378b186d9002e249d86": {
          "model_module": "@jupyter-widgets/controls",
          "model_name": "FloatProgressModel",
          "state": {
            "_view_name": "ProgressView",
            "style": "IPY_MODEL_91fd6435d4ed4b0eb59186e72a776cc7",
            "_dom_classes": [],
            "description": "100%",
            "_model_name": "FloatProgressModel",
            "bar_style": "success",
            "max": 352,
            "_view_module": "@jupyter-widgets/controls",
            "_model_module_version": "1.5.0",
            "value": 352,
            "_view_count": null,
            "_view_module_version": "1.5.0",
            "orientation": "horizontal",
            "min": 0,
            "description_tooltip": null,
            "_model_module": "@jupyter-widgets/controls",
            "layout": "IPY_MODEL_7704e1d2553c4dff9fda7c20c980b4b2"
          }
        },
        "6d795719d1fd45a792d15fdfcdc3e2ad": {
          "model_module": "@jupyter-widgets/controls",
          "model_name": "HTMLModel",
          "state": {
            "_view_name": "HTMLView",
            "style": "IPY_MODEL_713618831654414ba27067f53eca8f55",
            "_dom_classes": [],
            "description": "",
            "_model_name": "HTMLModel",
            "placeholder": "​",
            "_view_module": "@jupyter-widgets/controls",
            "_model_module_version": "1.5.0",
            "value": " 352/352 [20:04&lt;00:00,  3.42s/it]",
            "_view_count": null,
            "_view_module_version": "1.5.0",
            "description_tooltip": null,
            "_model_module": "@jupyter-widgets/controls",
            "layout": "IPY_MODEL_fb7452784dd746929169fabd88fa62fb"
          }
        },
        "91fd6435d4ed4b0eb59186e72a776cc7": {
          "model_module": "@jupyter-widgets/controls",
          "model_name": "ProgressStyleModel",
          "state": {
            "_view_name": "StyleView",
            "_model_name": "ProgressStyleModel",
            "description_width": "initial",
            "_view_module": "@jupyter-widgets/base",
            "_model_module_version": "1.5.0",
            "_view_count": null,
            "_view_module_version": "1.2.0",
            "bar_color": null,
            "_model_module": "@jupyter-widgets/controls"
          }
        },
        "7704e1d2553c4dff9fda7c20c980b4b2": {
          "model_module": "@jupyter-widgets/base",
          "model_name": "LayoutModel",
          "state": {
            "_view_name": "LayoutView",
            "grid_template_rows": null,
            "right": null,
            "justify_content": null,
            "_view_module": "@jupyter-widgets/base",
            "overflow": null,
            "_model_module_version": "1.2.0",
            "_view_count": null,
            "flex_flow": null,
            "width": null,
            "min_width": null,
            "border": null,
            "align_items": null,
            "bottom": null,
            "_model_module": "@jupyter-widgets/base",
            "top": null,
            "grid_column": null,
            "overflow_y": null,
            "overflow_x": null,
            "grid_auto_flow": null,
            "grid_area": null,
            "grid_template_columns": null,
            "flex": null,
            "_model_name": "LayoutModel",
            "justify_items": null,
            "grid_row": null,
            "max_height": null,
            "align_content": null,
            "visibility": null,
            "align_self": null,
            "height": null,
            "min_height": null,
            "padding": null,
            "grid_auto_rows": null,
            "grid_gap": null,
            "max_width": null,
            "order": null,
            "_view_module_version": "1.2.0",
            "grid_template_areas": null,
            "object_position": null,
            "object_fit": null,
            "grid_auto_columns": null,
            "margin": null,
            "display": null,
            "left": null
          }
        },
        "713618831654414ba27067f53eca8f55": {
          "model_module": "@jupyter-widgets/controls",
          "model_name": "DescriptionStyleModel",
          "state": {
            "_view_name": "StyleView",
            "_model_name": "DescriptionStyleModel",
            "description_width": "",
            "_view_module": "@jupyter-widgets/base",
            "_model_module_version": "1.5.0",
            "_view_count": null,
            "_view_module_version": "1.2.0",
            "_model_module": "@jupyter-widgets/controls"
          }
        },
        "fb7452784dd746929169fabd88fa62fb": {
          "model_module": "@jupyter-widgets/base",
          "model_name": "LayoutModel",
          "state": {
            "_view_name": "LayoutView",
            "grid_template_rows": null,
            "right": null,
            "justify_content": null,
            "_view_module": "@jupyter-widgets/base",
            "overflow": null,
            "_model_module_version": "1.2.0",
            "_view_count": null,
            "flex_flow": null,
            "width": null,
            "min_width": null,
            "border": null,
            "align_items": null,
            "bottom": null,
            "_model_module": "@jupyter-widgets/base",
            "top": null,
            "grid_column": null,
            "overflow_y": null,
            "overflow_x": null,
            "grid_auto_flow": null,
            "grid_area": null,
            "grid_template_columns": null,
            "flex": null,
            "_model_name": "LayoutModel",
            "justify_items": null,
            "grid_row": null,
            "max_height": null,
            "align_content": null,
            "visibility": null,
            "align_self": null,
            "height": null,
            "min_height": null,
            "padding": null,
            "grid_auto_rows": null,
            "grid_gap": null,
            "max_width": null,
            "order": null,
            "_view_module_version": "1.2.0",
            "grid_template_areas": null,
            "object_position": null,
            "object_fit": null,
            "grid_auto_columns": null,
            "margin": null,
            "display": null,
            "left": null
          }
        },
        "7a1b6a64f2ca4c94bb377cb1ed5c0507": {
          "model_module": "@jupyter-widgets/controls",
          "model_name": "HBoxModel",
          "state": {
            "_view_name": "HBoxView",
            "_dom_classes": [],
            "_model_name": "HBoxModel",
            "_view_module": "@jupyter-widgets/controls",
            "_model_module_version": "1.5.0",
            "_view_count": null,
            "_view_module_version": "1.5.0",
            "box_style": "",
            "layout": "IPY_MODEL_23eb344186d44fd8bcce6af76d930603",
            "_model_module": "@jupyter-widgets/controls",
            "children": [
              "IPY_MODEL_b40eba333002486282634642ac63e78a",
              "IPY_MODEL_3d4e3328ec3e40f6ad2777a1b3b9dbaf"
            ]
          }
        },
        "23eb344186d44fd8bcce6af76d930603": {
          "model_module": "@jupyter-widgets/base",
          "model_name": "LayoutModel",
          "state": {
            "_view_name": "LayoutView",
            "grid_template_rows": null,
            "right": null,
            "justify_content": null,
            "_view_module": "@jupyter-widgets/base",
            "overflow": null,
            "_model_module_version": "1.2.0",
            "_view_count": null,
            "flex_flow": null,
            "width": null,
            "min_width": null,
            "border": null,
            "align_items": null,
            "bottom": null,
            "_model_module": "@jupyter-widgets/base",
            "top": null,
            "grid_column": null,
            "overflow_y": null,
            "overflow_x": null,
            "grid_auto_flow": null,
            "grid_area": null,
            "grid_template_columns": null,
            "flex": null,
            "_model_name": "LayoutModel",
            "justify_items": null,
            "grid_row": null,
            "max_height": null,
            "align_content": null,
            "visibility": null,
            "align_self": null,
            "height": null,
            "min_height": null,
            "padding": null,
            "grid_auto_rows": null,
            "grid_gap": null,
            "max_width": null,
            "order": null,
            "_view_module_version": "1.2.0",
            "grid_template_areas": null,
            "object_position": null,
            "object_fit": null,
            "grid_auto_columns": null,
            "margin": null,
            "display": null,
            "left": null
          }
        },
        "b40eba333002486282634642ac63e78a": {
          "model_module": "@jupyter-widgets/controls",
          "model_name": "FloatProgressModel",
          "state": {
            "_view_name": "ProgressView",
            "style": "IPY_MODEL_66ec3ce7b7b74befbdf6a634e26a6bf5",
            "_dom_classes": [],
            "description": "100%",
            "_model_name": "FloatProgressModel",
            "bar_style": "success",
            "max": 472,
            "_view_module": "@jupyter-widgets/controls",
            "_model_module_version": "1.5.0",
            "value": 472,
            "_view_count": null,
            "_view_module_version": "1.5.0",
            "orientation": "horizontal",
            "min": 0,
            "description_tooltip": null,
            "_model_module": "@jupyter-widgets/controls",
            "layout": "IPY_MODEL_f2e14f5d27ca4eb3a77b6a956ffbabef"
          }
        },
        "3d4e3328ec3e40f6ad2777a1b3b9dbaf": {
          "model_module": "@jupyter-widgets/controls",
          "model_name": "HTMLModel",
          "state": {
            "_view_name": "HTMLView",
            "style": "IPY_MODEL_b430784bfa5b40ef869715ef6315baae",
            "_dom_classes": [],
            "description": "",
            "_model_name": "HTMLModel",
            "placeholder": "​",
            "_view_module": "@jupyter-widgets/controls",
            "_model_module_version": "1.5.0",
            "value": " 472/472 [20:01&lt;00:00,  2.55s/it]",
            "_view_count": null,
            "_view_module_version": "1.5.0",
            "description_tooltip": null,
            "_model_module": "@jupyter-widgets/controls",
            "layout": "IPY_MODEL_5fbe43cc79094eeeb86846f7aef8e152"
          }
        },
        "66ec3ce7b7b74befbdf6a634e26a6bf5": {
          "model_module": "@jupyter-widgets/controls",
          "model_name": "ProgressStyleModel",
          "state": {
            "_view_name": "StyleView",
            "_model_name": "ProgressStyleModel",
            "description_width": "initial",
            "_view_module": "@jupyter-widgets/base",
            "_model_module_version": "1.5.0",
            "_view_count": null,
            "_view_module_version": "1.2.0",
            "bar_color": null,
            "_model_module": "@jupyter-widgets/controls"
          }
        },
        "f2e14f5d27ca4eb3a77b6a956ffbabef": {
          "model_module": "@jupyter-widgets/base",
          "model_name": "LayoutModel",
          "state": {
            "_view_name": "LayoutView",
            "grid_template_rows": null,
            "right": null,
            "justify_content": null,
            "_view_module": "@jupyter-widgets/base",
            "overflow": null,
            "_model_module_version": "1.2.0",
            "_view_count": null,
            "flex_flow": null,
            "width": null,
            "min_width": null,
            "border": null,
            "align_items": null,
            "bottom": null,
            "_model_module": "@jupyter-widgets/base",
            "top": null,
            "grid_column": null,
            "overflow_y": null,
            "overflow_x": null,
            "grid_auto_flow": null,
            "grid_area": null,
            "grid_template_columns": null,
            "flex": null,
            "_model_name": "LayoutModel",
            "justify_items": null,
            "grid_row": null,
            "max_height": null,
            "align_content": null,
            "visibility": null,
            "align_self": null,
            "height": null,
            "min_height": null,
            "padding": null,
            "grid_auto_rows": null,
            "grid_gap": null,
            "max_width": null,
            "order": null,
            "_view_module_version": "1.2.0",
            "grid_template_areas": null,
            "object_position": null,
            "object_fit": null,
            "grid_auto_columns": null,
            "margin": null,
            "display": null,
            "left": null
          }
        },
        "b430784bfa5b40ef869715ef6315baae": {
          "model_module": "@jupyter-widgets/controls",
          "model_name": "DescriptionStyleModel",
          "state": {
            "_view_name": "StyleView",
            "_model_name": "DescriptionStyleModel",
            "description_width": "",
            "_view_module": "@jupyter-widgets/base",
            "_model_module_version": "1.5.0",
            "_view_count": null,
            "_view_module_version": "1.2.0",
            "_model_module": "@jupyter-widgets/controls"
          }
        },
        "5fbe43cc79094eeeb86846f7aef8e152": {
          "model_module": "@jupyter-widgets/base",
          "model_name": "LayoutModel",
          "state": {
            "_view_name": "LayoutView",
            "grid_template_rows": null,
            "right": null,
            "justify_content": null,
            "_view_module": "@jupyter-widgets/base",
            "overflow": null,
            "_model_module_version": "1.2.0",
            "_view_count": null,
            "flex_flow": null,
            "width": null,
            "min_width": null,
            "border": null,
            "align_items": null,
            "bottom": null,
            "_model_module": "@jupyter-widgets/base",
            "top": null,
            "grid_column": null,
            "overflow_y": null,
            "overflow_x": null,
            "grid_auto_flow": null,
            "grid_area": null,
            "grid_template_columns": null,
            "flex": null,
            "_model_name": "LayoutModel",
            "justify_items": null,
            "grid_row": null,
            "max_height": null,
            "align_content": null,
            "visibility": null,
            "align_self": null,
            "height": null,
            "min_height": null,
            "padding": null,
            "grid_auto_rows": null,
            "grid_gap": null,
            "max_width": null,
            "order": null,
            "_view_module_version": "1.2.0",
            "grid_template_areas": null,
            "object_position": null,
            "object_fit": null,
            "grid_auto_columns": null,
            "margin": null,
            "display": null,
            "left": null
          }
        }
      }
    }
  },
  "cells": [
    {
      "cell_type": "code",
      "metadata": {
        "colab": {
          "base_uri": "https://localhost:8080/"
        },
        "id": "WwTwpd3G7Rbj",
        "outputId": "f0432959-c386-4c77-fbdd-a0ab936331ca"
      },
      "source": [
        "!pip install guppy3"
      ],
      "execution_count": 20,
      "outputs": [
        {
          "output_type": "stream",
          "text": [
            "Collecting guppy3\n",
            "\u001b[?25l  Downloading https://files.pythonhosted.org/packages/10/8f/ae8ddf9a61491d64c4e16871225b30bf2524d0e54d2d8354852e6b066947/guppy3-3.1.0-cp36-cp36m-manylinux2010_x86_64.whl (605kB)\n",
            "\u001b[K     |████████████████████████████████| 614kB 8.1MB/s \n",
            "\u001b[?25hInstalling collected packages: guppy3\n",
            "Successfully installed guppy3-3.1.0\n"
          ],
          "name": "stdout"
        }
      ]
    },
    {
      "cell_type": "markdown",
      "metadata": {
        "id": "dRdZv9fuV0db"
      },
      "source": [
        "## Import modules"
      ]
    },
    {
      "cell_type": "code",
      "metadata": {
        "colab": {
          "base_uri": "https://localhost:8080/"
        },
        "id": "eR2fLsWLVo3D",
        "outputId": "e495ffe7-0778-4455-8674-178ddc08887f"
      },
      "source": [
        "import numpy as np\n",
        "import itertools\n",
        "\n",
        "# to get and read data\n",
        "import os\n",
        "from zipfile import ZipFile\n",
        "from scipy.io import arff\n",
        "\n",
        "# to plot the data\n",
        "%matplotlib inline\n",
        "import matplotlib\n",
        "import matplotlib.pyplot as plt\n",
        "\n",
        "# for neural network\n",
        "import torch\n",
        "import torch.nn as nn\n",
        "import torch.nn.functional as F\n",
        "import torch.optim as optim\n",
        "\n",
        "device = torch.device(\"cuda:0\" if torch.cuda.is_available() else \"cpu\")\n",
        "print(device)"
      ],
      "execution_count": 35,
      "outputs": [
        {
          "output_type": "stream",
          "text": [
            "cpu\n"
          ],
          "name": "stdout"
        }
      ]
    },
    {
      "cell_type": "code",
      "metadata": {
        "colab": {
          "base_uri": "https://localhost:8080/"
        },
        "id": "VQw0vscxDlKQ",
        "outputId": "68e359d8-2d65-446e-bc56-668c9db3a9b4"
      },
      "source": [
        "from google.colab import drive\n",
        "drive.mount('/content/drive')\n",
        "\n",
        "os.chdir(\"/content/drive/MyDrive/project\")\n",
        "from common_modules import data_f, network_f, patches_f, clusters_f\n",
        "from char_modules import preprocess_f, plotting_f"
      ],
      "execution_count": 36,
      "outputs": [
        {
          "output_type": "stream",
          "text": [
            "Drive already mounted at /content/drive; to attempt to forcibly remount, call drive.mount(\"/content/drive\", force_remount=True).\n"
          ],
          "name": "stdout"
        }
      ]
    },
    {
      "cell_type": "code",
      "metadata": {
        "colab": {
          "base_uri": "https://localhost:8080/"
        },
        "id": "MD8w9DH7XHlh",
        "outputId": "b58f9870-59d8-49b6-ce01-5731a58c0df2"
      },
      "source": [
        "import importlib\n",
        "importlib.reload(clusters_f)"
      ],
      "execution_count": 37,
      "outputs": [
        {
          "output_type": "execute_result",
          "data": {
            "text/plain": [
              "<module 'common_modules.clusters_f' from '/content/drive/MyDrive/project/common_modules/clusters_f.py'>"
            ]
          },
          "metadata": {
            "tags": []
          },
          "execution_count": 37
        }
      ]
    },
    {
      "cell_type": "markdown",
      "metadata": {
        "id": "G4hCtIEpUp4c"
      },
      "source": [
        "## get and read data"
      ]
    },
    {
      "cell_type": "markdown",
      "metadata": {
        "id": "60UX9yxGssKT"
      },
      "source": [
        "get data"
      ]
    },
    {
      "cell_type": "code",
      "metadata": {
        "colab": {
          "base_uri": "https://localhost:8080/"
        },
        "id": "_OoLkKjsSu7i",
        "outputId": "50bdfe8e-e697-445e-aee7-b56d29cebcfc"
      },
      "source": [
        "if not os.path.exists('CharacterTrajectories'):\n",
        "  # download zip\n",
        "  data_f.download_file(url = 'http://www.timeseriesclassification.com/Downloads/CharacterTrajectories.zip',\n",
        "                        saveAs = 'CharacterTrajectories.zip')\n",
        "  # extract all the contents of zip file in current directory\n",
        "  with ZipFile('CharacterTrajectories.zip', 'r') as zipObj:\n",
        "    zipObj.extractall('CharacterTrajectories')\n",
        "  print('folder extracted from zip')\n",
        "\n",
        "else:\n",
        "    print(\"folder exists\")"
      ],
      "execution_count": 12,
      "outputs": [
        {
          "output_type": "stream",
          "text": [
            "folder exists\n"
          ],
          "name": "stdout"
        }
      ]
    },
    {
      "cell_type": "markdown",
      "metadata": {
        "id": "o9hK9E-qsMSI"
      },
      "source": [
        "read data"
      ]
    },
    {
      "cell_type": "code",
      "metadata": {
        "id": "2uZCEvlPnuG_"
      },
      "source": [
        "# ignoring metadata at index 1, arff -> (data,meta)\n",
        "train_data, train_meta = arff.loadarff('CharacterTrajectories/CharacterTrajectories_TRAIN.arff')\n",
        "test_data, test_meta = arff.loadarff('CharacterTrajectories/CharacterTrajectories_TEST.arff')\n",
        "\n",
        "train_data = preprocess_f.remove_nan(train_data)\n",
        "test_data = preprocess_f.remove_nan(test_data)\n",
        "\n",
        "# subtract 1 to start indexing from 0\n",
        "train_data = [[input, label - 1] for input,label in train_data]\n",
        "test_data = [[input, label - 1] for input,label in test_data]"
      ],
      "execution_count": 13,
      "outputs": []
    },
    {
      "cell_type": "code",
      "metadata": {
        "colab": {
          "base_uri": "https://localhost:8080/",
          "height": 283
        },
        "id": "iZgBldgaWnVP",
        "outputId": "8516357e-c83c-40a2-b310-c0459dae9f74"
      },
      "source": [
        "# distribution of sample lenghts\n",
        "lengths = []\n",
        "\n",
        "for sample in itertools.chain(train_data,test_data):\n",
        "  input = sample[0][0]\n",
        "  input = np.array(input)\n",
        "  lengths.append(len(input))\n",
        "\n",
        "print('max length =',np.max(lengths))\n",
        "_ = plt.hist(lengths)"
      ],
      "execution_count": 14,
      "outputs": [
        {
          "output_type": "stream",
          "text": [
            "max length = 182\n"
          ],
          "name": "stdout"
        },
        {
          "output_type": "display_data",
          "data": {
            "image/png": "[encoded data removed]",
            "text/plain": [
              "<Figure size 432x288 with 1 Axes>"
            ]
          },
          "metadata": {
            "tags": [],
            "needs_background": "light"
          }
        }
      ]
    },
    {
      "cell_type": "code",
      "metadata": {
        "colab": {
          "base_uri": "https://localhost:8080/"
        },
        "id": "K-PTmOJa2pMX",
        "outputId": "45229dc7-6023-4dca-f0a4-bfdbeeea748b"
      },
      "source": [
        "classes = ['a','b','c','d','e','g','h','l','m','n','o','p','q','r','s','u','v','w','y','z']\n",
        "print('number of classes :',len(classes))\n",
        "\n",
        "print('\\ntrain data contains',len(train_data),'samples')\n",
        "print('test data contains',len(test_data),'samples')\n",
        "\n",
        "print('\\neach sample has 3 channels : x,y and force')"
      ],
      "execution_count": 8,
      "outputs": [
        {
          "output_type": "stream",
          "text": [
            "number of classes : 20\n",
            "\n",
            "train data contains 1422 samples\n",
            "test data contains 1436 samples\n",
            "\n",
            "each sample has 3 channels : x,y and force\n"
          ],
          "name": "stdout"
        }
      ]
    },
    {
      "cell_type": "markdown",
      "metadata": {
        "id": "9ogOLz1QZGuk"
      },
      "source": [
        "## clustering"
      ]
    },
    {
      "cell_type": "code",
      "metadata": {
        "id": "gFCU8mYAlg67"
      },
      "source": [
        "train_inputs, train_labels = preprocess_f.resize_samples(train_data,100)\n",
        "\n",
        "# flatten inputs to 2d array\n",
        "nsamples, nx, ny = train_inputs.shape\n",
        "train_inputs = train_inputs.reshape((nsamples,nx*ny))"
      ],
      "execution_count": 33,
      "outputs": []
    },
    {
      "cell_type": "markdown",
      "metadata": {
        "id": "9QtNiqsb3A-e"
      },
      "source": [
        "plot silhoutte index for number of cluster 2 to 20"
      ]
    },
    {
      "cell_type": "code",
      "metadata": {
        "colab": {
          "base_uri": "https://localhost:8080/",
          "height": 995,
          "referenced_widgets": [
            "9eac870fe99549e1a46b3dccbda1f6fc",
            "9caaaf5466c242d3abf2acf930b85a33",
            "486fa5ff4dff470381a05250df897d10",
            "8650f78f356f45a392dd6bf8150f75fa",
            "4b468e008a654d58a2d616f4b71a642e",
            "48d25ae725ca4d0da61c3ae46f8d6ef7",
            "7aceea75964c403c8ecf6616a6fd6491",
            "43914ca20dcb4e68a011b73cccd4afe4"
          ]
        },
        "id": "gE8pxuDhzwbi",
        "outputId": "71fee367-d1d5-43d9-919a-1168132bc2bb"
      },
      "source": [
        "clusters_f.form_clusters(train_inputs, \"KMeans\", train_labels)"
      ],
      "execution_count": 40,
      "outputs": [
        {
          "output_type": "display_data",
          "data": {
            "application/vnd.jupyter.widget-view+json": {
              "model_id": "9eac870fe99549e1a46b3dccbda1f6fc",
              "version_minor": 0,
              "version_major": 2
            },
            "text/plain": [
              "HBox(children=(FloatProgress(value=0.0, max=19.0), HTML(value='')))"
            ]
          },
          "metadata": {
            "tags": []
          }
        },
        {
          "output_type": "stream",
          "text": [
            "\n",
            "runtime:  12.608663320541382\n",
            "\n",
            "memory consumption:\n",
            "Partition of a set of 1808826 objects. Total size = 139625305 bytes.\n",
            " Index  Count   %     Size   % Cumulative  % Kind (class / dict of class)\n",
            "     0 1029162  57 32933184  24  32933184  24 numpy.float64\n",
            "     1 214047  12 31174921  22  64108105  46 str\n",
            "     2 202259  11 16280528  12  80388633  58 tuple\n",
            "     3  24283   1 10725344   8  91113977  65 list\n",
            "     4  85670   5  6922217   5  98036194  70 bytes\n",
            "     5  43652   2  6317240   5 104353434  75 types.CodeType\n",
            "     6  41019   2  5578584   4 109932018  79 function\n",
            "     7  12881   1  4970768   4 114902786  82 dict (no owner)\n",
            "     8   4846   0  4807784   3 119710570  86 type\n",
            "     9   2136   0  3147104   2 122857674  88 dict of module\n",
            "<1747 more rows. Type e.g. '_.more' to view.>\n",
            "\n"
          ],
          "name": "stdout"
        },
        {
          "output_type": "display_data",
          "data": {
            "image/png": "[encoded data removed]",
            "text/plain": [
              "<Figure size 432x288 with 1 Axes>"
            ]
          },
          "metadata": {
            "tags": [],
            "needs_background": "light"
          }
        },
        {
          "output_type": "stream",
          "text": [
            " num_clusters  silhouette     cal_har  dav_bould  adj_rand  adj_mut_inf  v_measure  fowlk_mall\n",
            "            2    0.232908  423.979819   1.783085  0.083810     0.306534   0.309080    0.293917\n",
            "            3    0.245155  403.417423   1.578160  0.142532     0.442877   0.446622    0.339162\n",
            "            4    0.231487  386.491122   1.525203  0.233601     0.537740   0.542035    0.399184\n",
            "            5    0.248468  363.787704   1.499210  0.279127     0.593076   0.597933    0.430258\n",
            "            6    0.271046  349.957056   1.337945  0.294650     0.616655   0.622330    0.440045\n",
            "            7    0.283897  340.218524   1.346605  0.337809     0.657346   0.663232    0.467861\n",
            "            8    0.286684  349.829363   1.213080  0.375775     0.673535   0.679930    0.486813\n",
            "            9    0.292114  352.251744   1.172335  0.442331     0.721353   0.727427    0.537876\n",
            "           10    0.301068  352.981782   1.232364  0.482030     0.746477   0.752612    0.567919\n",
            "           11    0.316915  357.613633   1.163256  0.536349     0.777503   0.783361    0.607121\n",
            "           12    0.320259  355.638170   1.184937  0.592481     0.786519   0.792575    0.644207\n",
            "           13    0.313865  347.582691   1.206825  0.624326     0.804807   0.810794    0.668398\n",
            "           14    0.319444  342.879873   1.160795  0.648013     0.818859   0.824863    0.687110\n",
            "           15    0.323148  338.165782   1.181080  0.680182     0.833411   0.839307    0.712222\n",
            "           16    0.321771  328.161349   1.221898  0.721746     0.847213   0.852940    0.745554\n",
            "           17    0.320967  324.166398   1.201167  0.753016     0.866703   0.872010    0.772669\n",
            "           18    0.330308  318.653950   1.223333  0.800372     0.883818   0.888679    0.813303\n",
            "           19    0.314772  306.357836   1.291060  0.739388     0.854866   0.861356    0.756159\n",
            "           20    0.307328  301.739520   1.306910  0.768796     0.873723   0.879630    0.781635\n"
          ],
          "name": "stdout"
        }
      ]
    },
    {
      "cell_type": "code",
      "metadata": {
        "colab": {
          "base_uri": "https://localhost:8080/",
          "height": 995,
          "referenced_widgets": [
            "8adba60a9d754434868c704f8631a8f6",
            "cc2f8e3ec9114262afe8faf993e20c80",
            "2d6ab5cd7cd74e859ee017aad33b6c07",
            "65e1567c447f44d9a3ac779eb7b1497e",
            "82b7012a6f1447468fcc7769a5ef8799",
            "80b91fef038844ee95655067340545af",
            "068bea4c563349e99748c63d06685075",
            "a54275973a1d4bd49ce87cfca0eb662e"
          ]
        },
        "id": "YWN2lzGi1wMT",
        "outputId": "1e8e5940-dfb2-487a-a3ef-65ac91d45cd2"
      },
      "source": [
        "clusters_f.form_clusters(train_inputs, \"AgglomerativeClustering\", train_labels)"
      ],
      "execution_count": 41,
      "outputs": [
        {
          "output_type": "display_data",
          "data": {
            "application/vnd.jupyter.widget-view+json": {
              "model_id": "8adba60a9d754434868c704f8631a8f6",
              "version_minor": 0,
              "version_major": 2
            },
            "text/plain": [
              "HBox(children=(FloatProgress(value=0.0, max=19.0), HTML(value='')))"
            ]
          },
          "metadata": {
            "tags": []
          }
        },
        {
          "output_type": "stream",
          "text": [
            "\n",
            "runtime:  7.469510793685913\n",
            "\n",
            "memory consumption:\n",
            "Partition of a set of 1809031 objects. Total size = 139638388 bytes.\n",
            " Index  Count   %     Size   % Cumulative  % Kind (class / dict of class)\n",
            "     0 1029160  57 32933120  24  32933120  24 numpy.float64\n",
            "     1 214062  12 31176290  22  64109410  46 str\n",
            "     2 202259  11 16280520  12  80389930  58 tuple\n",
            "     3  24312   1 10729464   8  91119394  65 list\n",
            "     4  85674   5  6922131   5  98041525  70 bytes\n",
            "     5  43652   2  6317240   5 104358765  75 types.CodeType\n",
            "     6  41016   2  5578176   4 109936941  79 function\n",
            "     7  12960   1  5000872   4 114937813  82 dict (no owner)\n",
            "     8   4846   0  4807784   3 119745597  86 type\n",
            "     9   2136   0  3147104   2 122892701  88 dict of module\n",
            "<1747 more rows. Type e.g. '_.more' to view.>\n",
            "\n"
          ],
          "name": "stdout"
        },
        {
          "output_type": "display_data",
          "data": {
            "image/png": "[encoded data removed]",
            "text/plain": [
              "<Figure size 432x288 with 1 Axes>"
            ]
          },
          "metadata": {
            "tags": [],
            "needs_background": "light"
          }
        },
        {
          "output_type": "stream",
          "text": [
            " num_clusters  silhouette     cal_har  dav_bould  adj_rand  adj_mut_inf  v_measure  fowlk_mall\n",
            "            2    0.251687  331.689990   1.417333  0.041007     0.262624   0.265531    0.264786\n",
            "            3    0.209996  349.780105   1.723966  0.151336     0.478016   0.481541    0.353254\n",
            "            4    0.227895  319.393502   1.476209  0.182378     0.538422   0.542994    0.376792\n",
            "            5    0.230879  307.915187   1.459246  0.226330     0.603279   0.608255    0.407877\n",
            "            6    0.227534  307.556096   1.497131  0.347831     0.688989   0.693550    0.493214\n",
            "            7    0.253625  311.848083   1.399329  0.373847     0.718793   0.723660    0.511205\n",
            "            8    0.277412  320.722633   1.262321  0.386544     0.738101   0.743365    0.519972\n",
            "            9    0.285628  327.261606   1.218627  0.446887     0.775959   0.780951    0.561652\n",
            "           10    0.291641  336.530201   1.243826  0.513094     0.789770   0.794871    0.600930\n",
            "           11    0.307252  346.129832   1.197073  0.584826     0.820059   0.824791    0.652066\n",
            "           12    0.314551  345.388568   1.189494  0.625048     0.831172   0.835968    0.677421\n",
            "           13    0.307457  337.477865   1.215053  0.657206     0.847453   0.852137    0.701576\n",
            "           14    0.312988  330.885917   1.164726  0.671079     0.857311   0.862065    0.712148\n",
            "           15    0.317806  326.964271   1.171071  0.700129     0.871013   0.875605    0.734611\n",
            "           16    0.318376  320.382902   1.233201  0.755503     0.882733   0.887135    0.777905\n",
            "           17    0.319041  315.717767   1.256063  0.786274     0.892815   0.897073    0.803097\n",
            "           18    0.318228  308.139399   1.228413  0.807671     0.900966   0.905130    0.821172\n",
            "           19    0.318012  301.142565   1.263694  0.823455     0.905662   0.909846    0.834379\n",
            "           20    0.322008  294.936946   1.257363  0.845429     0.914456   0.918449    0.854068\n"
          ],
          "name": "stdout"
        }
      ]
    },
    {
      "cell_type": "markdown",
      "metadata": {
        "id": "a8pAefaDebyf"
      },
      "source": [
        "## patches"
      ]
    },
    {
      "cell_type": "code",
      "metadata": {
        "colab": {
          "base_uri": "https://localhost:8080/",
          "height": 118,
          "referenced_widgets": [
            "03f85f89d682447bb4ffca6fb79dcd4a",
            "c1c3921730f84265aa61af4a9adeeb22",
            "d098adaefc644b618f2bf5467f0f46db",
            "5eba3125d01943b8b72158dc0eb77c6d",
            "55a3e1ff6b054b2daead8977a23afd1b",
            "981ea6cc4e194f4c9f3c437f1f281054",
            "214792cc586c4d11a01543cb1f1b0a40",
            "a91080b1f9a84df78ba05c99a1fc0617",
            "0d08e7cb0ac5487d85c7dc104f8da0b8",
            "89abb654f316437381866a128d45016e",
            "3a52f85d892343799a6d02aecf0af9b2",
            "4b97de04b8d245a28924c5ddcc6b7f28",
            "b56a0046190648b5987770316714dd31",
            "c71eaacb97b94f5089e879ea1527069d",
            "a73efb7fe0a5492fa484ec30177cd745",
            "62671285d8054f35a74c14a29d3846b0"
          ]
        },
        "id": "le8dyUPa4U1g",
        "outputId": "572ec60f-e8ab-48d9-b87f-383b802ff5e0"
      },
      "source": [
        "kwargs = {'window_size':20, 'stride':10, 'resizeTo':100, 'medianFilter':True, 'gaussianFilter':True, 'normalize':(-1,1)}\n",
        "\n",
        "kwargs['data'] = train_data\n",
        "train_inputs, train_labels, train_indexes = patches_f.dataToPatches(**kwargs)\n",
        "kwargs['data'] = test_data\n",
        "test_inputs, test_labels, test_indexes = patches_f.dataToPatches(**kwargs)"
      ],
      "execution_count": null,
      "outputs": [
        {
          "output_type": "display_data",
          "data": {
            "application/vnd.jupyter.widget-view+json": {
              "model_id": "03f85f89d682447bb4ffca6fb79dcd4a",
              "version_minor": 0,
              "version_major": 2
            },
            "text/plain": [
              "HBox(children=(FloatProgress(value=0.0, max=1422.0), HTML(value='')))"
            ]
          },
          "metadata": {
            "tags": []
          }
        },
        {
          "output_type": "stream",
          "text": [
            "\n"
          ],
          "name": "stdout"
        },
        {
          "output_type": "display_data",
          "data": {
            "application/vnd.jupyter.widget-view+json": {
              "model_id": "0d08e7cb0ac5487d85c7dc104f8da0b8",
              "version_minor": 0,
              "version_major": 2
            },
            "text/plain": [
              "HBox(children=(FloatProgress(value=0.0, max=1436.0), HTML(value='')))"
            ]
          },
          "metadata": {
            "tags": []
          }
        },
        {
          "output_type": "stream",
          "text": [
            "\n"
          ],
          "name": "stdout"
        }
      ]
    },
    {
      "cell_type": "markdown",
      "metadata": {
        "id": "n6bg9nUw2M-R"
      },
      "source": [
        "create dataset and dataloader"
      ]
    },
    {
      "cell_type": "code",
      "metadata": {
        "id": "Ute3wnqGY68R"
      },
      "source": [
        "train_loader, val_loader, test_loader = data_f.createLoaders(train_inputs, train_labels,\n",
        "                                                                  test_inputs, test_labels,\n",
        "                                                                  batch_size=32)"
      ],
      "execution_count": null,
      "outputs": []
    },
    {
      "cell_type": "markdown",
      "metadata": {
        "id": "nOGNeQqpHkF_"
      },
      "source": [
        "### visualize patches"
      ]
    },
    {
      "cell_type": "code",
      "metadata": {
        "colab": {
          "base_uri": "https://localhost:8080/",
          "height": 680
        },
        "id": "Lq9RgNXSSJfR",
        "outputId": "a49015f2-10b8-4c01-b28f-8033f005cb41"
      },
      "source": [
        "plotting_f.plotChar(train_data, train_indexes, train_inputs, char='a')"
      ],
      "execution_count": null,
      "outputs": [
        {
          "output_type": "stream",
          "text": [
            "a\n",
            "original sample\n"
          ],
          "name": "stdout"
        },
        {
          "output_type": "display_data",
          "data": {
            "image/png": "[encoded data removed]",
            "text/plain": [
              "<Figure size 432x288 with 1 Axes>"
            ]
          },
          "metadata": {
            "tags": [],
            "needs_background": "light"
          }
        },
        {
          "output_type": "stream",
          "text": [
            "11 patches\n"
          ],
          "name": "stdout"
        },
        {
          "output_type": "display_data",
          "data": {
            "image/png": "[encoded data removed]",
            "text/plain": [
              "<Figure size 1080x432 with 12 Axes>"
            ]
          },
          "metadata": {
            "tags": [],
            "needs_background": "light"
          }
        }
      ]
    },
    {
      "cell_type": "markdown",
      "metadata": {
        "id": "ivc26LiGkzVX"
      },
      "source": [
        "## neural network"
      ]
    },
    {
      "cell_type": "markdown",
      "metadata": {
        "id": "uX744zTQn6cj"
      },
      "source": [
        "### define network"
      ]
    },
    {
      "cell_type": "code",
      "metadata": {
        "id": "ZaqP1joSk1CU"
      },
      "source": [
        "class Net(nn.Module):\n",
        "    def __init__(self):\n",
        "        super(Net, self).__init__()\n",
        "        # 4 input channels, 6 output channels, row convolution kernel of size 3\n",
        "        self.conv1 = nn.Conv1d(4, 6, 3)\n",
        "        self.conv2 = nn.Conv1d(6, 16, 3)\n",
        "        # an affine operation: y = Wx + b\n",
        "        self.fc1 = nn.Linear(368, 120) \n",
        "        self.fc2 = nn.Linear(120, 84)\n",
        "        self.fc3 = nn.Linear(84, 20)\n",
        "\n",
        "    def forward(self, x):\n",
        "        # output given by : math.floor((inp-(k-1)-1)/s+1)\n",
        "        x = F.max_pool1d(F.relu(self.conv1(x)), 2)\n",
        "        x = F.max_pool1d(F.relu(self.conv2(x)), 2)\n",
        "        x = x.view(-1, self.num_flat_features(x))\n",
        "        x = F.relu(self.fc1(x))\n",
        "        x = F.relu(self.fc2(x))\n",
        "        x = self.fc3(x)\n",
        "        return x\n",
        "\n",
        "    def num_flat_features(self, x):\n",
        "        size = x.size()[1:]  # all dimensions except the batch dimension\n",
        "        num_features = 1\n",
        "        for s in size:\n",
        "            num_features *= s\n",
        "        return num_features"
      ],
      "execution_count": null,
      "outputs": []
    },
    {
      "cell_type": "markdown",
      "metadata": {
        "id": "sDyvdk9apc4R"
      },
      "source": [
        "### create network"
      ]
    },
    {
      "cell_type": "code",
      "metadata": {
        "id": "Tl5-WqbDdTyZ"
      },
      "source": [
        "net = Net().to(device)\n",
        "\n",
        "#Define a Loss function and optimizer\n",
        "criterion = nn.CrossEntropyLoss()\n",
        "optimizer = optim.SGD(net.parameters(), lr=0.001, momentum=0.9)"
      ],
      "execution_count": null,
      "outputs": []
    },
    {
      "cell_type": "markdown",
      "metadata": {
        "id": "S9GxTChEpgI5"
      },
      "source": [
        "### train network"
      ]
    },
    {
      "cell_type": "code",
      "metadata": {
        "colab": {
          "base_uri": "https://localhost:8080/",
          "height": 517,
          "referenced_widgets": [
            "7179c85163be44fa84bf078de1a03858",
            "a6da9a0400024f198ef53ab1850d2159",
            "a2cb7dfd313c4e0caac0b35e5ae9e9d1",
            "4227810b5d164fff90c7bce65f6d4918",
            "9f2670465ff544628b894451f7d6a411",
            "f218c062cebd4fd3900736b86e983cdb",
            "25d584bb95774d5eaf3f7318f5c3ec82",
            "9409c24f126245b2ae3d0adf44e30439"
          ]
        },
        "id": "JxBOWB_-dzpn",
        "outputId": "78284a0b-39ea-4181-9a5b-f8a41b87ae8f"
      },
      "source": [
        "best_params = network_f.trainNet(net,criterion,optimizer, \n",
        "                                  train_loader,val_loader,\n",
        "                                  epochs=150)"
      ],
      "execution_count": null,
      "outputs": [
        {
          "output_type": "display_data",
          "data": {
            "application/vnd.jupyter.widget-view+json": {
              "model_id": "7179c85163be44fa84bf078de1a03858",
              "version_minor": 0,
              "version_major": 2
            },
            "text/plain": [
              "HBox(children=(FloatProgress(value=0.0, max=150.0), HTML(value='')))"
            ]
          },
          "metadata": {
            "tags": []
          }
        },
        {
          "output_type": "stream",
          "text": [
            "epoch: 15, train loss: 1.687, val loss: 1.711\n",
            "epoch: 30, train loss: 0.989, val loss: 1.076\n",
            "epoch: 45, train loss: 0.790, val loss: 0.896\n",
            "epoch: 60, train loss: 0.671, val loss: 0.843\n",
            "epoch: 75, train loss: 0.598, val loss: 0.841\n",
            "epoch: 90, train loss: 0.533, val loss: 0.828\n",
            "epoch: 105, train loss: 0.486, val loss: 0.793\n",
            "epoch: 120, train loss: 0.453, val loss: 0.909\n",
            "epoch: 135, train loss: 0.414, val loss: 0.854\n",
            "epoch: 150, train loss: 0.386, val loss: 0.861\n",
            "\n",
            "Finished Training\n"
          ],
          "name": "stdout"
        },
        {
          "output_type": "display_data",
          "data": {
            "image/png": "[encoded data removed]",
            "text/plain": [
              "<Figure size 432x288 with 1 Axes>"
            ]
          },
          "metadata": {
            "tags": [],
            "needs_background": "light"
          }
        }
      ]
    },
    {
      "cell_type": "code",
      "metadata": {
        "colab": {
          "base_uri": "https://localhost:8080/"
        },
        "id": "kLFBN2-hR5cF",
        "outputId": "d7673668-2a6b-479a-ac9e-6c9542147285"
      },
      "source": [
        "net.load_state_dict(best_params)"
      ],
      "execution_count": null,
      "outputs": [
        {
          "output_type": "execute_result",
          "data": {
            "text/plain": [
              "<All keys matched successfully>"
            ]
          },
          "metadata": {
            "tags": []
          },
          "execution_count": 17
        }
      ]
    },
    {
      "cell_type": "markdown",
      "metadata": {
        "id": "B3ZjkhAEpi-E"
      },
      "source": [
        "### evaluate network"
      ]
    },
    {
      "cell_type": "code",
      "metadata": {
        "colab": {
          "base_uri": "https://localhost:8080/",
          "height": 1000,
          "referenced_widgets": [
            "740a8189e5b64c38b3befaf032543db7",
            "8efae529330d4f2299dd40924e080a8d",
            "541de766df514378b186d9002e249d86",
            "6d795719d1fd45a792d15fdfcdc3e2ad",
            "91fd6435d4ed4b0eb59186e72a776cc7",
            "7704e1d2553c4dff9fda7c20c980b4b2",
            "713618831654414ba27067f53eca8f55",
            "fb7452784dd746929169fabd88fa62fb",
            "7a1b6a64f2ca4c94bb377cb1ed5c0507",
            "23eb344186d44fd8bcce6af76d930603",
            "b40eba333002486282634642ac63e78a",
            "3d4e3328ec3e40f6ad2777a1b3b9dbaf",
            "66ec3ce7b7b74befbdf6a634e26a6bf5",
            "f2e14f5d27ca4eb3a77b6a956ffbabef",
            "b430784bfa5b40ef869715ef6315baae",
            "5fbe43cc79094eeeb86846f7aef8e152"
          ]
        },
        "id": "xRhndsv-Q1Ec",
        "outputId": "0857ae33-e030-4b1f-cd42-de91db52c4d6"
      },
      "source": [
        "print(\"evaluation results on train data\")\n",
        "network_f.evaluate(net,train_loader,classes)\n",
        "print(\"evaluation results on test data\")\n",
        "network_f.evaluate(net,test_loader,classes)"
      ],
      "execution_count": null,
      "outputs": [
        {
          "output_type": "stream",
          "text": [
            "evaluation results on train data\n"
          ],
          "name": "stdout"
        },
        {
          "output_type": "display_data",
          "data": {
            "application/vnd.jupyter.widget-view+json": {
              "model_id": "740a8189e5b64c38b3befaf032543db7",
              "version_minor": 0,
              "version_major": 2
            },
            "text/plain": [
              "HBox(children=(FloatProgress(value=0.0, max=352.0), HTML(value='')))"
            ]
          },
          "metadata": {
            "tags": []
          }
        },
        {
          "output_type": "stream",
          "text": [
            "\n",
            "              precision    recall  f1-score   support\n",
            "\n",
            "           a     0.7891    0.7632    0.7759       760\n",
            "           b     0.6301    0.7929    0.7022       623\n",
            "           c     0.9683    0.9735    0.9709       377\n",
            "           d     0.9141    0.7800    0.8418       641\n",
            "           e     0.9295    0.9606    0.9448       686\n",
            "           g     0.7989    0.7080    0.7507       589\n",
            "           h     0.6878    0.5872    0.6335       499\n",
            "           l     0.9944    0.9781    0.9862       365\n",
            "           m     0.8000    0.9231    0.8571       611\n",
            "           n     0.7244    0.5380    0.6174       474\n",
            "           o     0.9077    0.8817    0.8945       524\n",
            "           p     0.6974    0.6926    0.6950       579\n",
            "           q     0.9151    0.8744    0.8943       629\n",
            "           r     0.7727    0.5690    0.6554       478\n",
            "           s     0.7840    0.9193    0.8463       545\n",
            "           u     0.6339    0.6736    0.6532       527\n",
            "           v     0.9786    0.9786    0.9786       513\n",
            "           w     0.5120    0.7707    0.6153       471\n",
            "           y     0.8102    0.7280    0.7669       522\n",
            "           z     0.9628    0.9261    0.9441       839\n",
            "\n",
            "    accuracy                         0.8042     11252\n",
            "   macro avg     0.8106    0.8009    0.8012     11252\n",
            "weighted avg     0.8131    0.8042    0.8045     11252\n",
            "\n",
            "evaluation results on test data\n"
          ],
          "name": "stdout"
        },
        {
          "output_type": "display_data",
          "data": {
            "application/vnd.jupyter.widget-view+json": {
              "model_id": "7a1b6a64f2ca4c94bb377cb1ed5c0507",
              "version_minor": 0,
              "version_major": 2
            },
            "text/plain": [
              "HBox(children=(FloatProgress(value=0.0, max=472.0), HTML(value='')))"
            ]
          },
          "metadata": {
            "tags": []
          }
        },
        {
          "output_type": "stream",
          "text": [
            "\n",
            "              precision    recall  f1-score   support\n",
            "\n",
            "           a     0.6966    0.6520    0.6736      1000\n",
            "           b     0.5606    0.7090    0.6261       842\n",
            "           c     0.9117    0.9473    0.9291       512\n",
            "           d     0.8508    0.7585    0.8020       857\n",
            "           e     0.8808    0.9033    0.8919       900\n",
            "           g     0.6570    0.5500    0.5987       780\n",
            "           h     0.5712    0.4954    0.5306       656\n",
            "           l     0.9824    0.9084    0.9439       491\n",
            "           m     0.7263    0.8005    0.7616       812\n",
            "           n     0.5823    0.4175    0.4863       661\n",
            "           o     0.8278    0.8588    0.8430       694\n",
            "           p     0.6036    0.6130    0.6082       770\n",
            "           q     0.8270    0.8369    0.8319       834\n",
            "           r     0.6897    0.4791    0.5654       645\n",
            "           s     0.7809    0.8776    0.8264       727\n",
            "           u     0.5255    0.5755    0.5494       735\n",
            "           v     0.9171    0.9345    0.9257       687\n",
            "           w     0.4306    0.6232    0.5093       682\n",
            "           y     0.6815    0.6020    0.6393       711\n",
            "           z     0.9248    0.9248    0.9248      1104\n",
            "\n",
            "    accuracy                         0.7268     15100\n",
            "   macro avg     0.7314    0.7234    0.7234     15100\n",
            "weighted avg     0.7323    0.7268    0.7258     15100\n",
            "\n"
          ],
          "name": "stdout"
        }
      ]
    }
  ]
}