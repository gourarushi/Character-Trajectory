{
  "nbformat": 4,
  "nbformat_minor": 0,
  "metadata": {
    "colab": {
      "name": "CharacterTrajectories_Patches.ipynb",
      "provenance": [],
      "collapsed_sections": [],
      "toc_visible": true
    },
    "kernelspec": {
      "display_name": "Python 3",
      "name": "python3"
    },
    "widgets": {
      "application/vnd.jupyter.widget-state+json": {
        "57032e8957e4423aaf2585c9a13bbd13": {
          "model_module": "@jupyter-widgets/controls",
          "model_name": "HBoxModel",
          "state": {
            "_view_name": "HBoxView",
            "_dom_classes": [],
            "_model_name": "HBoxModel",
            "_view_module": "@jupyter-widgets/controls",
            "_model_module_version": "1.5.0",
            "_view_count": null,
            "_view_module_version": "1.5.0",
            "box_style": "",
            "layout": "IPY_MODEL_5c7f45053ff8453cbe2afb3937661a55",
            "_model_module": "@jupyter-widgets/controls",
            "children": [
              "IPY_MODEL_0f1952d6bc544a2296540b3a8fb818ec",
              "IPY_MODEL_113155ddd8ec4a86ae5994ef5fb3b72f"
            ]
          }
        },
        "5c7f45053ff8453cbe2afb3937661a55": {
          "model_module": "@jupyter-widgets/base",
          "model_name": "LayoutModel",
          "state": {
            "_view_name": "LayoutView",
            "grid_template_rows": null,
            "right": null,
            "justify_content": null,
            "_view_module": "@jupyter-widgets/base",
            "overflow": null,
            "_model_module_version": "1.2.0",
            "_view_count": null,
            "flex_flow": null,
            "width": null,
            "min_width": null,
            "border": null,
            "align_items": null,
            "bottom": null,
            "_model_module": "@jupyter-widgets/base",
            "top": null,
            "grid_column": null,
            "overflow_y": null,
            "overflow_x": null,
            "grid_auto_flow": null,
            "grid_area": null,
            "grid_template_columns": null,
            "flex": null,
            "_model_name": "LayoutModel",
            "justify_items": null,
            "grid_row": null,
            "max_height": null,
            "align_content": null,
            "visibility": null,
            "align_self": null,
            "height": null,
            "min_height": null,
            "padding": null,
            "grid_auto_rows": null,
            "grid_gap": null,
            "max_width": null,
            "order": null,
            "_view_module_version": "1.2.0",
            "grid_template_areas": null,
            "object_position": null,
            "object_fit": null,
            "grid_auto_columns": null,
            "margin": null,
            "display": null,
            "left": null
          }
        },
        "0f1952d6bc544a2296540b3a8fb818ec": {
          "model_module": "@jupyter-widgets/controls",
          "model_name": "FloatProgressModel",
          "state": {
            "_view_name": "ProgressView",
            "style": "IPY_MODEL_eac4aa65a10c46b89627606e03d92c45",
            "_dom_classes": [],
            "description": "100%",
            "_model_name": "FloatProgressModel",
            "bar_style": "success",
            "max": 2143,
            "_view_module": "@jupyter-widgets/controls",
            "_model_module_version": "1.5.0",
            "value": 2143,
            "_view_count": null,
            "_view_module_version": "1.5.0",
            "orientation": "horizontal",
            "min": 0,
            "description_tooltip": null,
            "_model_module": "@jupyter-widgets/controls",
            "layout": "IPY_MODEL_12be0e481bf9403797560ced08546a8b"
          }
        },
        "113155ddd8ec4a86ae5994ef5fb3b72f": {
          "model_module": "@jupyter-widgets/controls",
          "model_name": "HTMLModel",
          "state": {
            "_view_name": "HTMLView",
            "style": "IPY_MODEL_2570129163cf4e0ea28b2d9e04bcf8f2",
            "_dom_classes": [],
            "description": "",
            "_model_name": "HTMLModel",
            "placeholder": "​",
            "_view_module": "@jupyter-widgets/controls",
            "_model_module_version": "1.5.0",
            "value": " 2143/2143 [16:14&lt;00:00,  2.20it/s]",
            "_view_count": null,
            "_view_module_version": "1.5.0",
            "description_tooltip": null,
            "_model_module": "@jupyter-widgets/controls",
            "layout": "IPY_MODEL_2af3079146b24563933c712fd7c4c76c"
          }
        },
        "eac4aa65a10c46b89627606e03d92c45": {
          "model_module": "@jupyter-widgets/controls",
          "model_name": "ProgressStyleModel",
          "state": {
            "_view_name": "StyleView",
            "_model_name": "ProgressStyleModel",
            "description_width": "initial",
            "_view_module": "@jupyter-widgets/base",
            "_model_module_version": "1.5.0",
            "_view_count": null,
            "_view_module_version": "1.2.0",
            "bar_color": null,
            "_model_module": "@jupyter-widgets/controls"
          }
        },
        "12be0e481bf9403797560ced08546a8b": {
          "model_module": "@jupyter-widgets/base",
          "model_name": "LayoutModel",
          "state": {
            "_view_name": "LayoutView",
            "grid_template_rows": null,
            "right": null,
            "justify_content": null,
            "_view_module": "@jupyter-widgets/base",
            "overflow": null,
            "_model_module_version": "1.2.0",
            "_view_count": null,
            "flex_flow": null,
            "width": null,
            "min_width": null,
            "border": null,
            "align_items": null,
            "bottom": null,
            "_model_module": "@jupyter-widgets/base",
            "top": null,
            "grid_column": null,
            "overflow_y": null,
            "overflow_x": null,
            "grid_auto_flow": null,
            "grid_area": null,
            "grid_template_columns": null,
            "flex": null,
            "_model_name": "LayoutModel",
            "justify_items": null,
            "grid_row": null,
            "max_height": null,
            "align_content": null,
            "visibility": null,
            "align_self": null,
            "height": null,
            "min_height": null,
            "padding": null,
            "grid_auto_rows": null,
            "grid_gap": null,
            "max_width": null,
            "order": null,
            "_view_module_version": "1.2.0",
            "grid_template_areas": null,
            "object_position": null,
            "object_fit": null,
            "grid_auto_columns": null,
            "margin": null,
            "display": null,
            "left": null
          }
        },
        "2570129163cf4e0ea28b2d9e04bcf8f2": {
          "model_module": "@jupyter-widgets/controls",
          "model_name": "DescriptionStyleModel",
          "state": {
            "_view_name": "StyleView",
            "_model_name": "DescriptionStyleModel",
            "description_width": "",
            "_view_module": "@jupyter-widgets/base",
            "_model_module_version": "1.5.0",
            "_view_count": null,
            "_view_module_version": "1.2.0",
            "_model_module": "@jupyter-widgets/controls"
          }
        },
        "2af3079146b24563933c712fd7c4c76c": {
          "model_module": "@jupyter-widgets/base",
          "model_name": "LayoutModel",
          "state": {
            "_view_name": "LayoutView",
            "grid_template_rows": null,
            "right": null,
            "justify_content": null,
            "_view_module": "@jupyter-widgets/base",
            "overflow": null,
            "_model_module_version": "1.2.0",
            "_view_count": null,
            "flex_flow": null,
            "width": null,
            "min_width": null,
            "border": null,
            "align_items": null,
            "bottom": null,
            "_model_module": "@jupyter-widgets/base",
            "top": null,
            "grid_column": null,
            "overflow_y": null,
            "overflow_x": null,
            "grid_auto_flow": null,
            "grid_area": null,
            "grid_template_columns": null,
            "flex": null,
            "_model_name": "LayoutModel",
            "justify_items": null,
            "grid_row": null,
            "max_height": null,
            "align_content": null,
            "visibility": null,
            "align_self": null,
            "height": null,
            "min_height": null,
            "padding": null,
            "grid_auto_rows": null,
            "grid_gap": null,
            "max_width": null,
            "order": null,
            "_view_module_version": "1.2.0",
            "grid_template_areas": null,
            "object_position": null,
            "object_fit": null,
            "grid_auto_columns": null,
            "margin": null,
            "display": null,
            "left": null
          }
        },
        "53cbbfde9111446292062ec3b763a2c6": {
          "model_module": "@jupyter-widgets/controls",
          "model_name": "HBoxModel",
          "state": {
            "_view_name": "HBoxView",
            "_dom_classes": [],
            "_model_name": "HBoxModel",
            "_view_module": "@jupyter-widgets/controls",
            "_model_module_version": "1.5.0",
            "_view_count": null,
            "_view_module_version": "1.5.0",
            "box_style": "",
            "layout": "IPY_MODEL_92625e5071d94029b4d001d3166a1fac",
            "_model_module": "@jupyter-widgets/controls",
            "children": [
              "IPY_MODEL_a038157f54fa43fdba8c11053a1c0ee7",
              "IPY_MODEL_e0030fc08a5c49998dd8f512731dccc5"
            ]
          }
        },
        "92625e5071d94029b4d001d3166a1fac": {
          "model_module": "@jupyter-widgets/base",
          "model_name": "LayoutModel",
          "state": {
            "_view_name": "LayoutView",
            "grid_template_rows": null,
            "right": null,
            "justify_content": null,
            "_view_module": "@jupyter-widgets/base",
            "overflow": null,
            "_model_module_version": "1.2.0",
            "_view_count": null,
            "flex_flow": null,
            "width": null,
            "min_width": null,
            "border": null,
            "align_items": null,
            "bottom": null,
            "_model_module": "@jupyter-widgets/base",
            "top": null,
            "grid_column": null,
            "overflow_y": null,
            "overflow_x": null,
            "grid_auto_flow": null,
            "grid_area": null,
            "grid_template_columns": null,
            "flex": null,
            "_model_name": "LayoutModel",
            "justify_items": null,
            "grid_row": null,
            "max_height": null,
            "align_content": null,
            "visibility": null,
            "align_self": null,
            "height": null,
            "min_height": null,
            "padding": null,
            "grid_auto_rows": null,
            "grid_gap": null,
            "max_width": null,
            "order": null,
            "_view_module_version": "1.2.0",
            "grid_template_areas": null,
            "object_position": null,
            "object_fit": null,
            "grid_auto_columns": null,
            "margin": null,
            "display": null,
            "left": null
          }
        },
        "a038157f54fa43fdba8c11053a1c0ee7": {
          "model_module": "@jupyter-widgets/controls",
          "model_name": "FloatProgressModel",
          "state": {
            "_view_name": "ProgressView",
            "style": "IPY_MODEL_bdceeb933fa242ab9d914560618c91de",
            "_dom_classes": [],
            "description": "100%",
            "_model_name": "FloatProgressModel",
            "bar_style": "success",
            "max": 29,
            "_view_module": "@jupyter-widgets/controls",
            "_model_module_version": "1.5.0",
            "value": 29,
            "_view_count": null,
            "_view_module_version": "1.5.0",
            "orientation": "horizontal",
            "min": 0,
            "description_tooltip": null,
            "_model_module": "@jupyter-widgets/controls",
            "layout": "IPY_MODEL_f2189b93e253436e8d258ffb5638928c"
          }
        },
        "e0030fc08a5c49998dd8f512731dccc5": {
          "model_module": "@jupyter-widgets/controls",
          "model_name": "HTMLModel",
          "state": {
            "_view_name": "HTMLView",
            "style": "IPY_MODEL_eb5a32442fe9445480833acae914a3d1",
            "_dom_classes": [],
            "description": "",
            "_model_name": "HTMLModel",
            "placeholder": "​",
            "_view_module": "@jupyter-widgets/controls",
            "_model_module_version": "1.5.0",
            "value": " 29/29 [57:54&lt;00:00, 119.83s/it]",
            "_view_count": null,
            "_view_module_version": "1.5.0",
            "description_tooltip": null,
            "_model_module": "@jupyter-widgets/controls",
            "layout": "IPY_MODEL_2f982324e7d74235a4b91be3d4b336a0"
          }
        },
        "bdceeb933fa242ab9d914560618c91de": {
          "model_module": "@jupyter-widgets/controls",
          "model_name": "ProgressStyleModel",
          "state": {
            "_view_name": "StyleView",
            "_model_name": "ProgressStyleModel",
            "description_width": "initial",
            "_view_module": "@jupyter-widgets/base",
            "_model_module_version": "1.5.0",
            "_view_count": null,
            "_view_module_version": "1.2.0",
            "bar_color": null,
            "_model_module": "@jupyter-widgets/controls"
          }
        },
        "f2189b93e253436e8d258ffb5638928c": {
          "model_module": "@jupyter-widgets/base",
          "model_name": "LayoutModel",
          "state": {
            "_view_name": "LayoutView",
            "grid_template_rows": null,
            "right": null,
            "justify_content": null,
            "_view_module": "@jupyter-widgets/base",
            "overflow": null,
            "_model_module_version": "1.2.0",
            "_view_count": null,
            "flex_flow": null,
            "width": null,
            "min_width": null,
            "border": null,
            "align_items": null,
            "bottom": null,
            "_model_module": "@jupyter-widgets/base",
            "top": null,
            "grid_column": null,
            "overflow_y": null,
            "overflow_x": null,
            "grid_auto_flow": null,
            "grid_area": null,
            "grid_template_columns": null,
            "flex": null,
            "_model_name": "LayoutModel",
            "justify_items": null,
            "grid_row": null,
            "max_height": null,
            "align_content": null,
            "visibility": null,
            "align_self": null,
            "height": null,
            "min_height": null,
            "padding": null,
            "grid_auto_rows": null,
            "grid_gap": null,
            "max_width": null,
            "order": null,
            "_view_module_version": "1.2.0",
            "grid_template_areas": null,
            "object_position": null,
            "object_fit": null,
            "grid_auto_columns": null,
            "margin": null,
            "display": null,
            "left": null
          }
        },
        "eb5a32442fe9445480833acae914a3d1": {
          "model_module": "@jupyter-widgets/controls",
          "model_name": "DescriptionStyleModel",
          "state": {
            "_view_name": "StyleView",
            "_model_name": "DescriptionStyleModel",
            "description_width": "",
            "_view_module": "@jupyter-widgets/base",
            "_model_module_version": "1.5.0",
            "_view_count": null,
            "_view_module_version": "1.2.0",
            "_model_module": "@jupyter-widgets/controls"
          }
        },
        "2f982324e7d74235a4b91be3d4b336a0": {
          "model_module": "@jupyter-widgets/base",
          "model_name": "LayoutModel",
          "state": {
            "_view_name": "LayoutView",
            "grid_template_rows": null,
            "right": null,
            "justify_content": null,
            "_view_module": "@jupyter-widgets/base",
            "overflow": null,
            "_model_module_version": "1.2.0",
            "_view_count": null,
            "flex_flow": null,
            "width": null,
            "min_width": null,
            "border": null,
            "align_items": null,
            "bottom": null,
            "_model_module": "@jupyter-widgets/base",
            "top": null,
            "grid_column": null,
            "overflow_y": null,
            "overflow_x": null,
            "grid_auto_flow": null,
            "grid_area": null,
            "grid_template_columns": null,
            "flex": null,
            "_model_name": "LayoutModel",
            "justify_items": null,
            "grid_row": null,
            "max_height": null,
            "align_content": null,
            "visibility": null,
            "align_self": null,
            "height": null,
            "min_height": null,
            "padding": null,
            "grid_auto_rows": null,
            "grid_gap": null,
            "max_width": null,
            "order": null,
            "_view_module_version": "1.2.0",
            "grid_template_areas": null,
            "object_position": null,
            "object_fit": null,
            "grid_auto_columns": null,
            "margin": null,
            "display": null,
            "left": null
          }
        },
        "4726f723f85e4a5ca8fb1d0423404cb5": {
          "model_module": "@jupyter-widgets/controls",
          "model_name": "HBoxModel",
          "state": {
            "_view_name": "HBoxView",
            "_dom_classes": [],
            "_model_name": "HBoxModel",
            "_view_module": "@jupyter-widgets/controls",
            "_model_module_version": "1.5.0",
            "_view_count": null,
            "_view_module_version": "1.5.0",
            "box_style": "",
            "layout": "IPY_MODEL_8aaa50fc06ae4607af0629094c1f6932",
            "_model_module": "@jupyter-widgets/controls",
            "children": [
              "IPY_MODEL_1813161a9f774cdbbbbe8b0645404944",
              "IPY_MODEL_93a44b2e7b354caba7bfa9700d859ae9"
            ]
          }
        },
        "8aaa50fc06ae4607af0629094c1f6932": {
          "model_module": "@jupyter-widgets/base",
          "model_name": "LayoutModel",
          "state": {
            "_view_name": "LayoutView",
            "grid_template_rows": null,
            "right": null,
            "justify_content": null,
            "_view_module": "@jupyter-widgets/base",
            "overflow": null,
            "_model_module_version": "1.2.0",
            "_view_count": null,
            "flex_flow": null,
            "width": null,
            "min_width": null,
            "border": null,
            "align_items": null,
            "bottom": null,
            "_model_module": "@jupyter-widgets/base",
            "top": null,
            "grid_column": null,
            "overflow_y": null,
            "overflow_x": null,
            "grid_auto_flow": null,
            "grid_area": null,
            "grid_template_columns": null,
            "flex": null,
            "_model_name": "LayoutModel",
            "justify_items": null,
            "grid_row": null,
            "max_height": null,
            "align_content": null,
            "visibility": null,
            "align_self": null,
            "height": null,
            "min_height": null,
            "padding": null,
            "grid_auto_rows": null,
            "grid_gap": null,
            "max_width": null,
            "order": null,
            "_view_module_version": "1.2.0",
            "grid_template_areas": null,
            "object_position": null,
            "object_fit": null,
            "grid_auto_columns": null,
            "margin": null,
            "display": null,
            "left": null
          }
        },
        "1813161a9f774cdbbbbe8b0645404944": {
          "model_module": "@jupyter-widgets/controls",
          "model_name": "FloatProgressModel",
          "state": {
            "_view_name": "ProgressView",
            "style": "IPY_MODEL_b28eb2176ed243418c7112dd73eaf9b1",
            "_dom_classes": [],
            "description": "100%",
            "_model_name": "FloatProgressModel",
            "bar_style": "success",
            "max": 20,
            "_view_module": "@jupyter-widgets/controls",
            "_model_module_version": "1.5.0",
            "value": 20,
            "_view_count": null,
            "_view_module_version": "1.5.0",
            "orientation": "horizontal",
            "min": 0,
            "description_tooltip": null,
            "_model_module": "@jupyter-widgets/controls",
            "layout": "IPY_MODEL_a3daf93c7209406ba2bf35666eaf9184"
          }
        },
        "93a44b2e7b354caba7bfa9700d859ae9": {
          "model_module": "@jupyter-widgets/controls",
          "model_name": "HTMLModel",
          "state": {
            "_view_name": "HTMLView",
            "style": "IPY_MODEL_82cc39ecdbaa4cf2a8eeaa0d82aac2af",
            "_dom_classes": [],
            "description": "",
            "_model_name": "HTMLModel",
            "placeholder": "​",
            "_view_module": "@jupyter-widgets/controls",
            "_model_module_version": "1.5.0",
            "value": " 20/20 [1:50:32&lt;00:00, 331.63s/it]",
            "_view_count": null,
            "_view_module_version": "1.5.0",
            "description_tooltip": null,
            "_model_module": "@jupyter-widgets/controls",
            "layout": "IPY_MODEL_afcb462c1116492e967d49acc62429da"
          }
        },
        "b28eb2176ed243418c7112dd73eaf9b1": {
          "model_module": "@jupyter-widgets/controls",
          "model_name": "ProgressStyleModel",
          "state": {
            "_view_name": "StyleView",
            "_model_name": "ProgressStyleModel",
            "description_width": "initial",
            "_view_module": "@jupyter-widgets/base",
            "_model_module_version": "1.5.0",
            "_view_count": null,
            "_view_module_version": "1.2.0",
            "bar_color": null,
            "_model_module": "@jupyter-widgets/controls"
          }
        },
        "a3daf93c7209406ba2bf35666eaf9184": {
          "model_module": "@jupyter-widgets/base",
          "model_name": "LayoutModel",
          "state": {
            "_view_name": "LayoutView",
            "grid_template_rows": null,
            "right": null,
            "justify_content": null,
            "_view_module": "@jupyter-widgets/base",
            "overflow": null,
            "_model_module_version": "1.2.0",
            "_view_count": null,
            "flex_flow": null,
            "width": null,
            "min_width": null,
            "border": null,
            "align_items": null,
            "bottom": null,
            "_model_module": "@jupyter-widgets/base",
            "top": null,
            "grid_column": null,
            "overflow_y": null,
            "overflow_x": null,
            "grid_auto_flow": null,
            "grid_area": null,
            "grid_template_columns": null,
            "flex": null,
            "_model_name": "LayoutModel",
            "justify_items": null,
            "grid_row": null,
            "max_height": null,
            "align_content": null,
            "visibility": null,
            "align_self": null,
            "height": null,
            "min_height": null,
            "padding": null,
            "grid_auto_rows": null,
            "grid_gap": null,
            "max_width": null,
            "order": null,
            "_view_module_version": "1.2.0",
            "grid_template_areas": null,
            "object_position": null,
            "object_fit": null,
            "grid_auto_columns": null,
            "margin": null,
            "display": null,
            "left": null
          }
        },
        "82cc39ecdbaa4cf2a8eeaa0d82aac2af": {
          "model_module": "@jupyter-widgets/controls",
          "model_name": "DescriptionStyleModel",
          "state": {
            "_view_name": "StyleView",
            "_model_name": "DescriptionStyleModel",
            "description_width": "",
            "_view_module": "@jupyter-widgets/base",
            "_model_module_version": "1.5.0",
            "_view_count": null,
            "_view_module_version": "1.2.0",
            "_model_module": "@jupyter-widgets/controls"
          }
        },
        "afcb462c1116492e967d49acc62429da": {
          "model_module": "@jupyter-widgets/base",
          "model_name": "LayoutModel",
          "state": {
            "_view_name": "LayoutView",
            "grid_template_rows": null,
            "right": null,
            "justify_content": null,
            "_view_module": "@jupyter-widgets/base",
            "overflow": null,
            "_model_module_version": "1.2.0",
            "_view_count": null,
            "flex_flow": null,
            "width": null,
            "min_width": null,
            "border": null,
            "align_items": null,
            "bottom": null,
            "_model_module": "@jupyter-widgets/base",
            "top": null,
            "grid_column": null,
            "overflow_y": null,
            "overflow_x": null,
            "grid_auto_flow": null,
            "grid_area": null,
            "grid_template_columns": null,
            "flex": null,
            "_model_name": "LayoutModel",
            "justify_items": null,
            "grid_row": null,
            "max_height": null,
            "align_content": null,
            "visibility": null,
            "align_self": null,
            "height": null,
            "min_height": null,
            "padding": null,
            "grid_auto_rows": null,
            "grid_gap": null,
            "max_width": null,
            "order": null,
            "_view_module_version": "1.2.0",
            "grid_template_areas": null,
            "object_position": null,
            "object_fit": null,
            "grid_auto_columns": null,
            "margin": null,
            "display": null,
            "left": null
          }
        },
        "a1d3f40ae97940f3babe415dfa614e65": {
          "model_module": "@jupyter-widgets/controls",
          "model_name": "HBoxModel",
          "state": {
            "_view_name": "HBoxView",
            "_dom_classes": [],
            "_model_name": "HBoxModel",
            "_view_module": "@jupyter-widgets/controls",
            "_model_module_version": "1.5.0",
            "_view_count": null,
            "_view_module_version": "1.5.0",
            "box_style": "",
            "layout": "IPY_MODEL_eec21b60c41a473f96657098ebf78c9f",
            "_model_module": "@jupyter-widgets/controls",
            "children": [
              "IPY_MODEL_b11ccd0751214e7e8d359b0a6b952f9f",
              "IPY_MODEL_4964c7fa32f24fe39fbfdfdf539a6ab9"
            ]
          }
        },
        "eec21b60c41a473f96657098ebf78c9f": {
          "model_module": "@jupyter-widgets/base",
          "model_name": "LayoutModel",
          "state": {
            "_view_name": "LayoutView",
            "grid_template_rows": null,
            "right": null,
            "justify_content": null,
            "_view_module": "@jupyter-widgets/base",
            "overflow": null,
            "_model_module_version": "1.2.0",
            "_view_count": null,
            "flex_flow": null,
            "width": null,
            "min_width": null,
            "border": null,
            "align_items": null,
            "bottom": null,
            "_model_module": "@jupyter-widgets/base",
            "top": null,
            "grid_column": null,
            "overflow_y": null,
            "overflow_x": null,
            "grid_auto_flow": null,
            "grid_area": null,
            "grid_template_columns": null,
            "flex": null,
            "_model_name": "LayoutModel",
            "justify_items": null,
            "grid_row": null,
            "max_height": null,
            "align_content": null,
            "visibility": null,
            "align_self": null,
            "height": null,
            "min_height": null,
            "padding": null,
            "grid_auto_rows": null,
            "grid_gap": null,
            "max_width": null,
            "order": null,
            "_view_module_version": "1.2.0",
            "grid_template_areas": null,
            "object_position": null,
            "object_fit": null,
            "grid_auto_columns": null,
            "margin": null,
            "display": null,
            "left": null
          }
        },
        "b11ccd0751214e7e8d359b0a6b952f9f": {
          "model_module": "@jupyter-widgets/controls",
          "model_name": "FloatProgressModel",
          "state": {
            "_view_name": "ProgressView",
            "style": "IPY_MODEL_d6608af6ff0c4c99909ff7aa33c90cee",
            "_dom_classes": [],
            "description": "100%",
            "_model_name": "FloatProgressModel",
            "bar_style": "success",
            "max": 20,
            "_view_module": "@jupyter-widgets/controls",
            "_model_module_version": "1.5.0",
            "value": 20,
            "_view_count": null,
            "_view_module_version": "1.5.0",
            "orientation": "horizontal",
            "min": 0,
            "description_tooltip": null,
            "_model_module": "@jupyter-widgets/controls",
            "layout": "IPY_MODEL_96388f4d9d4940668acfa5edddac1640"
          }
        },
        "4964c7fa32f24fe39fbfdfdf539a6ab9": {
          "model_module": "@jupyter-widgets/controls",
          "model_name": "HTMLModel",
          "state": {
            "_view_name": "HTMLView",
            "style": "IPY_MODEL_1e9b15f7bf5e491db983e90e88c9c74e",
            "_dom_classes": [],
            "description": "",
            "_model_name": "HTMLModel",
            "placeholder": "​",
            "_view_module": "@jupyter-widgets/controls",
            "_model_module_version": "1.5.0",
            "value": " 20/20 [1:22:17&lt;00:00, 246.89s/it]",
            "_view_count": null,
            "_view_module_version": "1.5.0",
            "description_tooltip": null,
            "_model_module": "@jupyter-widgets/controls",
            "layout": "IPY_MODEL_4d68f7ab32d0465aa068b3c7b3f98cfb"
          }
        },
        "d6608af6ff0c4c99909ff7aa33c90cee": {
          "model_module": "@jupyter-widgets/controls",
          "model_name": "ProgressStyleModel",
          "state": {
            "_view_name": "StyleView",
            "_model_name": "ProgressStyleModel",
            "description_width": "initial",
            "_view_module": "@jupyter-widgets/base",
            "_model_module_version": "1.5.0",
            "_view_count": null,
            "_view_module_version": "1.2.0",
            "bar_color": null,
            "_model_module": "@jupyter-widgets/controls"
          }
        },
        "96388f4d9d4940668acfa5edddac1640": {
          "model_module": "@jupyter-widgets/base",
          "model_name": "LayoutModel",
          "state": {
            "_view_name": "LayoutView",
            "grid_template_rows": null,
            "right": null,
            "justify_content": null,
            "_view_module": "@jupyter-widgets/base",
            "overflow": null,
            "_model_module_version": "1.2.0",
            "_view_count": null,
            "flex_flow": null,
            "width": null,
            "min_width": null,
            "border": null,
            "align_items": null,
            "bottom": null,
            "_model_module": "@jupyter-widgets/base",
            "top": null,
            "grid_column": null,
            "overflow_y": null,
            "overflow_x": null,
            "grid_auto_flow": null,
            "grid_area": null,
            "grid_template_columns": null,
            "flex": null,
            "_model_name": "LayoutModel",
            "justify_items": null,
            "grid_row": null,
            "max_height": null,
            "align_content": null,
            "visibility": null,
            "align_self": null,
            "height": null,
            "min_height": null,
            "padding": null,
            "grid_auto_rows": null,
            "grid_gap": null,
            "max_width": null,
            "order": null,
            "_view_module_version": "1.2.0",
            "grid_template_areas": null,
            "object_position": null,
            "object_fit": null,
            "grid_auto_columns": null,
            "margin": null,
            "display": null,
            "left": null
          }
        },
        "1e9b15f7bf5e491db983e90e88c9c74e": {
          "model_module": "@jupyter-widgets/controls",
          "model_name": "DescriptionStyleModel",
          "state": {
            "_view_name": "StyleView",
            "_model_name": "DescriptionStyleModel",
            "description_width": "",
            "_view_module": "@jupyter-widgets/base",
            "_model_module_version": "1.5.0",
            "_view_count": null,
            "_view_module_version": "1.2.0",
            "_model_module": "@jupyter-widgets/controls"
          }
        },
        "4d68f7ab32d0465aa068b3c7b3f98cfb": {
          "model_module": "@jupyter-widgets/base",
          "model_name": "LayoutModel",
          "state": {
            "_view_name": "LayoutView",
            "grid_template_rows": null,
            "right": null,
            "justify_content": null,
            "_view_module": "@jupyter-widgets/base",
            "overflow": null,
            "_model_module_version": "1.2.0",
            "_view_count": null,
            "flex_flow": null,
            "width": null,
            "min_width": null,
            "border": null,
            "align_items": null,
            "bottom": null,
            "_model_module": "@jupyter-widgets/base",
            "top": null,
            "grid_column": null,
            "overflow_y": null,
            "overflow_x": null,
            "grid_auto_flow": null,
            "grid_area": null,
            "grid_template_columns": null,
            "flex": null,
            "_model_name": "LayoutModel",
            "justify_items": null,
            "grid_row": null,
            "max_height": null,
            "align_content": null,
            "visibility": null,
            "align_self": null,
            "height": null,
            "min_height": null,
            "padding": null,
            "grid_auto_rows": null,
            "grid_gap": null,
            "max_width": null,
            "order": null,
            "_view_module_version": "1.2.0",
            "grid_template_areas": null,
            "object_position": null,
            "object_fit": null,
            "grid_auto_columns": null,
            "margin": null,
            "display": null,
            "left": null
          }
        },
        "37a50dfd1f504039a8c3baa0bcb9f15d": {
          "model_module": "@jupyter-widgets/controls",
          "model_name": "HBoxModel",
          "state": {
            "_view_name": "HBoxView",
            "_dom_classes": [],
            "_model_name": "HBoxModel",
            "_view_module": "@jupyter-widgets/controls",
            "_model_module_version": "1.5.0",
            "_view_count": null,
            "_view_module_version": "1.5.0",
            "box_style": "",
            "layout": "IPY_MODEL_76c0eaa4ddb048daa7375172c34ff9c8",
            "_model_module": "@jupyter-widgets/controls",
            "children": [
              "IPY_MODEL_8ca85e6e764446daa07088289413c1ed",
              "IPY_MODEL_a5d0575f209a4abd86b9feee8818d8d6"
            ]
          }
        },
        "76c0eaa4ddb048daa7375172c34ff9c8": {
          "model_module": "@jupyter-widgets/base",
          "model_name": "LayoutModel",
          "state": {
            "_view_name": "LayoutView",
            "grid_template_rows": null,
            "right": null,
            "justify_content": null,
            "_view_module": "@jupyter-widgets/base",
            "overflow": null,
            "_model_module_version": "1.2.0",
            "_view_count": null,
            "flex_flow": null,
            "width": null,
            "min_width": null,
            "border": null,
            "align_items": null,
            "bottom": null,
            "_model_module": "@jupyter-widgets/base",
            "top": null,
            "grid_column": null,
            "overflow_y": null,
            "overflow_x": null,
            "grid_auto_flow": null,
            "grid_area": null,
            "grid_template_columns": null,
            "flex": null,
            "_model_name": "LayoutModel",
            "justify_items": null,
            "grid_row": null,
            "max_height": null,
            "align_content": null,
            "visibility": null,
            "align_self": null,
            "height": null,
            "min_height": null,
            "padding": null,
            "grid_auto_rows": null,
            "grid_gap": null,
            "max_width": null,
            "order": null,
            "_view_module_version": "1.2.0",
            "grid_template_areas": null,
            "object_position": null,
            "object_fit": null,
            "grid_auto_columns": null,
            "margin": null,
            "display": null,
            "left": null
          }
        },
        "8ca85e6e764446daa07088289413c1ed": {
          "model_module": "@jupyter-widgets/controls",
          "model_name": "FloatProgressModel",
          "state": {
            "_view_name": "ProgressView",
            "style": "IPY_MODEL_1f2378013c114456988dc2d00b8c69f1",
            "_dom_classes": [],
            "description": "100%",
            "_model_name": "FloatProgressModel",
            "bar_style": "success",
            "max": 1,
            "_view_module": "@jupyter-widgets/controls",
            "_model_module_version": "1.5.0",
            "value": 1,
            "_view_count": null,
            "_view_module_version": "1.5.0",
            "orientation": "horizontal",
            "min": 0,
            "description_tooltip": null,
            "_model_module": "@jupyter-widgets/controls",
            "layout": "IPY_MODEL_3f720a0dc7d84fb59c53fa0973f898fb"
          }
        },
        "a5d0575f209a4abd86b9feee8818d8d6": {
          "model_module": "@jupyter-widgets/controls",
          "model_name": "HTMLModel",
          "state": {
            "_view_name": "HTMLView",
            "style": "IPY_MODEL_08aba702373b4aa29206b4a256f8f3b2",
            "_dom_classes": [],
            "description": "",
            "_model_name": "HTMLModel",
            "placeholder": "​",
            "_view_module": "@jupyter-widgets/controls",
            "_model_module_version": "1.5.0",
            "value": " 1/1 [19:50&lt;00:00, 1190.97s/it]",
            "_view_count": null,
            "_view_module_version": "1.5.0",
            "description_tooltip": null,
            "_model_module": "@jupyter-widgets/controls",
            "layout": "IPY_MODEL_78b6ea42559c45599a3c02abf3062a6e"
          }
        },
        "1f2378013c114456988dc2d00b8c69f1": {
          "model_module": "@jupyter-widgets/controls",
          "model_name": "ProgressStyleModel",
          "state": {
            "_view_name": "StyleView",
            "_model_name": "ProgressStyleModel",
            "description_width": "initial",
            "_view_module": "@jupyter-widgets/base",
            "_model_module_version": "1.5.0",
            "_view_count": null,
            "_view_module_version": "1.2.0",
            "bar_color": null,
            "_model_module": "@jupyter-widgets/controls"
          }
        },
        "3f720a0dc7d84fb59c53fa0973f898fb": {
          "model_module": "@jupyter-widgets/base",
          "model_name": "LayoutModel",
          "state": {
            "_view_name": "LayoutView",
            "grid_template_rows": null,
            "right": null,
            "justify_content": null,
            "_view_module": "@jupyter-widgets/base",
            "overflow": null,
            "_model_module_version": "1.2.0",
            "_view_count": null,
            "flex_flow": null,
            "width": null,
            "min_width": null,
            "border": null,
            "align_items": null,
            "bottom": null,
            "_model_module": "@jupyter-widgets/base",
            "top": null,
            "grid_column": null,
            "overflow_y": null,
            "overflow_x": null,
            "grid_auto_flow": null,
            "grid_area": null,
            "grid_template_columns": null,
            "flex": null,
            "_model_name": "LayoutModel",
            "justify_items": null,
            "grid_row": null,
            "max_height": null,
            "align_content": null,
            "visibility": null,
            "align_self": null,
            "height": null,
            "min_height": null,
            "padding": null,
            "grid_auto_rows": null,
            "grid_gap": null,
            "max_width": null,
            "order": null,
            "_view_module_version": "1.2.0",
            "grid_template_areas": null,
            "object_position": null,
            "object_fit": null,
            "grid_auto_columns": null,
            "margin": null,
            "display": null,
            "left": null
          }
        },
        "08aba702373b4aa29206b4a256f8f3b2": {
          "model_module": "@jupyter-widgets/controls",
          "model_name": "DescriptionStyleModel",
          "state": {
            "_view_name": "StyleView",
            "_model_name": "DescriptionStyleModel",
            "description_width": "",
            "_view_module": "@jupyter-widgets/base",
            "_model_module_version": "1.5.0",
            "_view_count": null,
            "_view_module_version": "1.2.0",
            "_model_module": "@jupyter-widgets/controls"
          }
        },
        "78b6ea42559c45599a3c02abf3062a6e": {
          "model_module": "@jupyter-widgets/base",
          "model_name": "LayoutModel",
          "state": {
            "_view_name": "LayoutView",
            "grid_template_rows": null,
            "right": null,
            "justify_content": null,
            "_view_module": "@jupyter-widgets/base",
            "overflow": null,
            "_model_module_version": "1.2.0",
            "_view_count": null,
            "flex_flow": null,
            "width": null,
            "min_width": null,
            "border": null,
            "align_items": null,
            "bottom": null,
            "_model_module": "@jupyter-widgets/base",
            "top": null,
            "grid_column": null,
            "overflow_y": null,
            "overflow_x": null,
            "grid_auto_flow": null,
            "grid_area": null,
            "grid_template_columns": null,
            "flex": null,
            "_model_name": "LayoutModel",
            "justify_items": null,
            "grid_row": null,
            "max_height": null,
            "align_content": null,
            "visibility": null,
            "align_self": null,
            "height": null,
            "min_height": null,
            "padding": null,
            "grid_auto_rows": null,
            "grid_gap": null,
            "max_width": null,
            "order": null,
            "_view_module_version": "1.2.0",
            "grid_template_areas": null,
            "object_position": null,
            "object_fit": null,
            "grid_auto_columns": null,
            "margin": null,
            "display": null,
            "left": null
          }
        },
        "fab5b0a215e94f868f97d0f6ef8a71f5": {
          "model_module": "@jupyter-widgets/controls",
          "model_name": "HBoxModel",
          "state": {
            "_view_name": "HBoxView",
            "_dom_classes": [],
            "_model_name": "HBoxModel",
            "_view_module": "@jupyter-widgets/controls",
            "_model_module_version": "1.5.0",
            "_view_count": null,
            "_view_module_version": "1.5.0",
            "box_style": "",
            "layout": "IPY_MODEL_6ba21ef49dd34d44bb9c02e0d8805078",
            "_model_module": "@jupyter-widgets/controls",
            "children": [
              "IPY_MODEL_9eab099c9788462ebbe82d2ff37d7565",
              "IPY_MODEL_57a0d0824b04432a9fb6760297448608"
            ]
          }
        },
        "6ba21ef49dd34d44bb9c02e0d8805078": {
          "model_module": "@jupyter-widgets/base",
          "model_name": "LayoutModel",
          "state": {
            "_view_name": "LayoutView",
            "grid_template_rows": null,
            "right": null,
            "justify_content": null,
            "_view_module": "@jupyter-widgets/base",
            "overflow": null,
            "_model_module_version": "1.2.0",
            "_view_count": null,
            "flex_flow": null,
            "width": null,
            "min_width": null,
            "border": null,
            "align_items": null,
            "bottom": null,
            "_model_module": "@jupyter-widgets/base",
            "top": null,
            "grid_column": null,
            "overflow_y": null,
            "overflow_x": null,
            "grid_auto_flow": null,
            "grid_area": null,
            "grid_template_columns": null,
            "flex": null,
            "_model_name": "LayoutModel",
            "justify_items": null,
            "grid_row": null,
            "max_height": null,
            "align_content": null,
            "visibility": null,
            "align_self": null,
            "height": null,
            "min_height": null,
            "padding": null,
            "grid_auto_rows": null,
            "grid_gap": null,
            "max_width": null,
            "order": null,
            "_view_module_version": "1.2.0",
            "grid_template_areas": null,
            "object_position": null,
            "object_fit": null,
            "grid_auto_columns": null,
            "margin": null,
            "display": null,
            "left": null
          }
        },
        "9eab099c9788462ebbe82d2ff37d7565": {
          "model_module": "@jupyter-widgets/controls",
          "model_name": "FloatProgressModel",
          "state": {
            "_view_name": "ProgressView",
            "style": "IPY_MODEL_3cef411198fa4f6095cd76df3f2d316d",
            "_dom_classes": [],
            "description": "100%",
            "_model_name": "FloatProgressModel",
            "bar_style": "success",
            "max": 150,
            "_view_module": "@jupyter-widgets/controls",
            "_model_module_version": "1.5.0",
            "value": 150,
            "_view_count": null,
            "_view_module_version": "1.5.0",
            "orientation": "horizontal",
            "min": 0,
            "description_tooltip": null,
            "_model_module": "@jupyter-widgets/controls",
            "layout": "IPY_MODEL_706507ec26c94ef59da00c2ad3ad76ed"
          }
        },
        "57a0d0824b04432a9fb6760297448608": {
          "model_module": "@jupyter-widgets/controls",
          "model_name": "HTMLModel",
          "state": {
            "_view_name": "HTMLView",
            "style": "IPY_MODEL_31b9d209b9624d20a18d35336cb1c432",
            "_dom_classes": [],
            "description": "",
            "_model_name": "HTMLModel",
            "placeholder": "​",
            "_view_module": "@jupyter-widgets/controls",
            "_model_module_version": "1.5.0",
            "value": " 150/150 [03:50&lt;00:00,  1.54s/it]",
            "_view_count": null,
            "_view_module_version": "1.5.0",
            "description_tooltip": null,
            "_model_module": "@jupyter-widgets/controls",
            "layout": "IPY_MODEL_81227b9129a84efea393fdadbc910b82"
          }
        },
        "3cef411198fa4f6095cd76df3f2d316d": {
          "model_module": "@jupyter-widgets/controls",
          "model_name": "ProgressStyleModel",
          "state": {
            "_view_name": "StyleView",
            "_model_name": "ProgressStyleModel",
            "description_width": "initial",
            "_view_module": "@jupyter-widgets/base",
            "_model_module_version": "1.5.0",
            "_view_count": null,
            "_view_module_version": "1.2.0",
            "bar_color": null,
            "_model_module": "@jupyter-widgets/controls"
          }
        },
        "706507ec26c94ef59da00c2ad3ad76ed": {
          "model_module": "@jupyter-widgets/base",
          "model_name": "LayoutModel",
          "state": {
            "_view_name": "LayoutView",
            "grid_template_rows": null,
            "right": null,
            "justify_content": null,
            "_view_module": "@jupyter-widgets/base",
            "overflow": null,
            "_model_module_version": "1.2.0",
            "_view_count": null,
            "flex_flow": null,
            "width": null,
            "min_width": null,
            "border": null,
            "align_items": null,
            "bottom": null,
            "_model_module": "@jupyter-widgets/base",
            "top": null,
            "grid_column": null,
            "overflow_y": null,
            "overflow_x": null,
            "grid_auto_flow": null,
            "grid_area": null,
            "grid_template_columns": null,
            "flex": null,
            "_model_name": "LayoutModel",
            "justify_items": null,
            "grid_row": null,
            "max_height": null,
            "align_content": null,
            "visibility": null,
            "align_self": null,
            "height": null,
            "min_height": null,
            "padding": null,
            "grid_auto_rows": null,
            "grid_gap": null,
            "max_width": null,
            "order": null,
            "_view_module_version": "1.2.0",
            "grid_template_areas": null,
            "object_position": null,
            "object_fit": null,
            "grid_auto_columns": null,
            "margin": null,
            "display": null,
            "left": null
          }
        },
        "31b9d209b9624d20a18d35336cb1c432": {
          "model_module": "@jupyter-widgets/controls",
          "model_name": "DescriptionStyleModel",
          "state": {
            "_view_name": "StyleView",
            "_model_name": "DescriptionStyleModel",
            "description_width": "",
            "_view_module": "@jupyter-widgets/base",
            "_model_module_version": "1.5.0",
            "_view_count": null,
            "_view_module_version": "1.2.0",
            "_model_module": "@jupyter-widgets/controls"
          }
        },
        "81227b9129a84efea393fdadbc910b82": {
          "model_module": "@jupyter-widgets/base",
          "model_name": "LayoutModel",
          "state": {
            "_view_name": "LayoutView",
            "grid_template_rows": null,
            "right": null,
            "justify_content": null,
            "_view_module": "@jupyter-widgets/base",
            "overflow": null,
            "_model_module_version": "1.2.0",
            "_view_count": null,
            "flex_flow": null,
            "width": null,
            "min_width": null,
            "border": null,
            "align_items": null,
            "bottom": null,
            "_model_module": "@jupyter-widgets/base",
            "top": null,
            "grid_column": null,
            "overflow_y": null,
            "overflow_x": null,
            "grid_auto_flow": null,
            "grid_area": null,
            "grid_template_columns": null,
            "flex": null,
            "_model_name": "LayoutModel",
            "justify_items": null,
            "grid_row": null,
            "max_height": null,
            "align_content": null,
            "visibility": null,
            "align_self": null,
            "height": null,
            "min_height": null,
            "padding": null,
            "grid_auto_rows": null,
            "grid_gap": null,
            "max_width": null,
            "order": null,
            "_view_module_version": "1.2.0",
            "grid_template_areas": null,
            "object_position": null,
            "object_fit": null,
            "grid_auto_columns": null,
            "margin": null,
            "display": null,
            "left": null
          }
        },
        "a57ed9d4e8f34659bade27997aad157e": {
          "model_module": "@jupyter-widgets/controls",
          "model_name": "HBoxModel",
          "state": {
            "_view_name": "HBoxView",
            "_dom_classes": [],
            "_model_name": "HBoxModel",
            "_view_module": "@jupyter-widgets/controls",
            "_model_module_version": "1.5.0",
            "_view_count": null,
            "_view_module_version": "1.5.0",
            "box_style": "",
            "layout": "IPY_MODEL_548dd7a2527a41ac96340dec0fa86dcc",
            "_model_module": "@jupyter-widgets/controls",
            "children": [
              "IPY_MODEL_9503e58caab04554921bad0515cd3aad",
              "IPY_MODEL_0946143944254144a92f4808f279c2ff"
            ]
          }
        },
        "548dd7a2527a41ac96340dec0fa86dcc": {
          "model_module": "@jupyter-widgets/base",
          "model_name": "LayoutModel",
          "state": {
            "_view_name": "LayoutView",
            "grid_template_rows": null,
            "right": null,
            "justify_content": null,
            "_view_module": "@jupyter-widgets/base",
            "overflow": null,
            "_model_module_version": "1.2.0",
            "_view_count": null,
            "flex_flow": null,
            "width": null,
            "min_width": null,
            "border": null,
            "align_items": null,
            "bottom": null,
            "_model_module": "@jupyter-widgets/base",
            "top": null,
            "grid_column": null,
            "overflow_y": null,
            "overflow_x": null,
            "grid_auto_flow": null,
            "grid_area": null,
            "grid_template_columns": null,
            "flex": null,
            "_model_name": "LayoutModel",
            "justify_items": null,
            "grid_row": null,
            "max_height": null,
            "align_content": null,
            "visibility": null,
            "align_self": null,
            "height": null,
            "min_height": null,
            "padding": null,
            "grid_auto_rows": null,
            "grid_gap": null,
            "max_width": null,
            "order": null,
            "_view_module_version": "1.2.0",
            "grid_template_areas": null,
            "object_position": null,
            "object_fit": null,
            "grid_auto_columns": null,
            "margin": null,
            "display": null,
            "left": null
          }
        },
        "9503e58caab04554921bad0515cd3aad": {
          "model_module": "@jupyter-widgets/controls",
          "model_name": "FloatProgressModel",
          "state": {
            "_view_name": "ProgressView",
            "style": "IPY_MODEL_4d270812475a49d7a29fbaebf1d16a7c",
            "_dom_classes": [],
            "description": "100%",
            "_model_name": "FloatProgressModel",
            "bar_style": "success",
            "max": 352,
            "_view_module": "@jupyter-widgets/controls",
            "_model_module_version": "1.5.0",
            "value": 352,
            "_view_count": null,
            "_view_module_version": "1.5.0",
            "orientation": "horizontal",
            "min": 0,
            "description_tooltip": null,
            "_model_module": "@jupyter-widgets/controls",
            "layout": "IPY_MODEL_d10fb41de99e45858992719f4eb532dd"
          }
        },
        "0946143944254144a92f4808f279c2ff": {
          "model_module": "@jupyter-widgets/controls",
          "model_name": "HTMLModel",
          "state": {
            "_view_name": "HTMLView",
            "style": "IPY_MODEL_2fa0d94d95bf4f7585507a56ed6fe01f",
            "_dom_classes": [],
            "description": "",
            "_model_name": "HTMLModel",
            "placeholder": "​",
            "_view_module": "@jupyter-widgets/controls",
            "_model_module_version": "1.5.0",
            "value": " 352/352 [00:04&lt;00:00, 83.45it/s]",
            "_view_count": null,
            "_view_module_version": "1.5.0",
            "description_tooltip": null,
            "_model_module": "@jupyter-widgets/controls",
            "layout": "IPY_MODEL_d7da35cc064c43cea499647213c78a95"
          }
        },
        "4d270812475a49d7a29fbaebf1d16a7c": {
          "model_module": "@jupyter-widgets/controls",
          "model_name": "ProgressStyleModel",
          "state": {
            "_view_name": "StyleView",
            "_model_name": "ProgressStyleModel",
            "description_width": "initial",
            "_view_module": "@jupyter-widgets/base",
            "_model_module_version": "1.5.0",
            "_view_count": null,
            "_view_module_version": "1.2.0",
            "bar_color": null,
            "_model_module": "@jupyter-widgets/controls"
          }
        },
        "d10fb41de99e45858992719f4eb532dd": {
          "model_module": "@jupyter-widgets/base",
          "model_name": "LayoutModel",
          "state": {
            "_view_name": "LayoutView",
            "grid_template_rows": null,
            "right": null,
            "justify_content": null,
            "_view_module": "@jupyter-widgets/base",
            "overflow": null,
            "_model_module_version": "1.2.0",
            "_view_count": null,
            "flex_flow": null,
            "width": null,
            "min_width": null,
            "border": null,
            "align_items": null,
            "bottom": null,
            "_model_module": "@jupyter-widgets/base",
            "top": null,
            "grid_column": null,
            "overflow_y": null,
            "overflow_x": null,
            "grid_auto_flow": null,
            "grid_area": null,
            "grid_template_columns": null,
            "flex": null,
            "_model_name": "LayoutModel",
            "justify_items": null,
            "grid_row": null,
            "max_height": null,
            "align_content": null,
            "visibility": null,
            "align_self": null,
            "height": null,
            "min_height": null,
            "padding": null,
            "grid_auto_rows": null,
            "grid_gap": null,
            "max_width": null,
            "order": null,
            "_view_module_version": "1.2.0",
            "grid_template_areas": null,
            "object_position": null,
            "object_fit": null,
            "grid_auto_columns": null,
            "margin": null,
            "display": null,
            "left": null
          }
        },
        "2fa0d94d95bf4f7585507a56ed6fe01f": {
          "model_module": "@jupyter-widgets/controls",
          "model_name": "DescriptionStyleModel",
          "state": {
            "_view_name": "StyleView",
            "_model_name": "DescriptionStyleModel",
            "description_width": "",
            "_view_module": "@jupyter-widgets/base",
            "_model_module_version": "1.5.0",
            "_view_count": null,
            "_view_module_version": "1.2.0",
            "_model_module": "@jupyter-widgets/controls"
          }
        },
        "d7da35cc064c43cea499647213c78a95": {
          "model_module": "@jupyter-widgets/base",
          "model_name": "LayoutModel",
          "state": {
            "_view_name": "LayoutView",
            "grid_template_rows": null,
            "right": null,
            "justify_content": null,
            "_view_module": "@jupyter-widgets/base",
            "overflow": null,
            "_model_module_version": "1.2.0",
            "_view_count": null,
            "flex_flow": null,
            "width": null,
            "min_width": null,
            "border": null,
            "align_items": null,
            "bottom": null,
            "_model_module": "@jupyter-widgets/base",
            "top": null,
            "grid_column": null,
            "overflow_y": null,
            "overflow_x": null,
            "grid_auto_flow": null,
            "grid_area": null,
            "grid_template_columns": null,
            "flex": null,
            "_model_name": "LayoutModel",
            "justify_items": null,
            "grid_row": null,
            "max_height": null,
            "align_content": null,
            "visibility": null,
            "align_self": null,
            "height": null,
            "min_height": null,
            "padding": null,
            "grid_auto_rows": null,
            "grid_gap": null,
            "max_width": null,
            "order": null,
            "_view_module_version": "1.2.0",
            "grid_template_areas": null,
            "object_position": null,
            "object_fit": null,
            "grid_auto_columns": null,
            "margin": null,
            "display": null,
            "left": null
          }
        },
        "5354b830380d43d786900aa010383327": {
          "model_module": "@jupyter-widgets/controls",
          "model_name": "HBoxModel",
          "state": {
            "_view_name": "HBoxView",
            "_dom_classes": [],
            "_model_name": "HBoxModel",
            "_view_module": "@jupyter-widgets/controls",
            "_model_module_version": "1.5.0",
            "_view_count": null,
            "_view_module_version": "1.5.0",
            "box_style": "",
            "layout": "IPY_MODEL_c659f9b4fd064fb480981643ffde5cf7",
            "_model_module": "@jupyter-widgets/controls",
            "children": [
              "IPY_MODEL_221b173675034f798fcef1b3815c0e30",
              "IPY_MODEL_cd7bb82a617345a1a82cbeb93d943fae"
            ]
          }
        },
        "c659f9b4fd064fb480981643ffde5cf7": {
          "model_module": "@jupyter-widgets/base",
          "model_name": "LayoutModel",
          "state": {
            "_view_name": "LayoutView",
            "grid_template_rows": null,
            "right": null,
            "justify_content": null,
            "_view_module": "@jupyter-widgets/base",
            "overflow": null,
            "_model_module_version": "1.2.0",
            "_view_count": null,
            "flex_flow": null,
            "width": null,
            "min_width": null,
            "border": null,
            "align_items": null,
            "bottom": null,
            "_model_module": "@jupyter-widgets/base",
            "top": null,
            "grid_column": null,
            "overflow_y": null,
            "overflow_x": null,
            "grid_auto_flow": null,
            "grid_area": null,
            "grid_template_columns": null,
            "flex": null,
            "_model_name": "LayoutModel",
            "justify_items": null,
            "grid_row": null,
            "max_height": null,
            "align_content": null,
            "visibility": null,
            "align_self": null,
            "height": null,
            "min_height": null,
            "padding": null,
            "grid_auto_rows": null,
            "grid_gap": null,
            "max_width": null,
            "order": null,
            "_view_module_version": "1.2.0",
            "grid_template_areas": null,
            "object_position": null,
            "object_fit": null,
            "grid_auto_columns": null,
            "margin": null,
            "display": null,
            "left": null
          }
        },
        "221b173675034f798fcef1b3815c0e30": {
          "model_module": "@jupyter-widgets/controls",
          "model_name": "FloatProgressModel",
          "state": {
            "_view_name": "ProgressView",
            "style": "IPY_MODEL_b94336e11b2d44b9a676769333323be2",
            "_dom_classes": [],
            "description": "100%",
            "_model_name": "FloatProgressModel",
            "bar_style": "success",
            "max": 472,
            "_view_module": "@jupyter-widgets/controls",
            "_model_module_version": "1.5.0",
            "value": 472,
            "_view_count": null,
            "_view_module_version": "1.5.0",
            "orientation": "horizontal",
            "min": 0,
            "description_tooltip": null,
            "_model_module": "@jupyter-widgets/controls",
            "layout": "IPY_MODEL_857c06b7fc1a4f58af822c2cd878a321"
          }
        },
        "cd7bb82a617345a1a82cbeb93d943fae": {
          "model_module": "@jupyter-widgets/controls",
          "model_name": "HTMLModel",
          "state": {
            "_view_name": "HTMLView",
            "style": "IPY_MODEL_e8a0ef82812b4f0faf320ba47039d6b1",
            "_dom_classes": [],
            "description": "",
            "_model_name": "HTMLModel",
            "placeholder": "​",
            "_view_module": "@jupyter-widgets/controls",
            "_model_module_version": "1.5.0",
            "value": " 472/472 [00:02&lt;00:00, 179.29it/s]",
            "_view_count": null,
            "_view_module_version": "1.5.0",
            "description_tooltip": null,
            "_model_module": "@jupyter-widgets/controls",
            "layout": "IPY_MODEL_643ec88194ff45c0a92846dcdde88c9f"
          }
        },
        "b94336e11b2d44b9a676769333323be2": {
          "model_module": "@jupyter-widgets/controls",
          "model_name": "ProgressStyleModel",
          "state": {
            "_view_name": "StyleView",
            "_model_name": "ProgressStyleModel",
            "description_width": "initial",
            "_view_module": "@jupyter-widgets/base",
            "_model_module_version": "1.5.0",
            "_view_count": null,
            "_view_module_version": "1.2.0",
            "bar_color": null,
            "_model_module": "@jupyter-widgets/controls"
          }
        },
        "857c06b7fc1a4f58af822c2cd878a321": {
          "model_module": "@jupyter-widgets/base",
          "model_name": "LayoutModel",
          "state": {
            "_view_name": "LayoutView",
            "grid_template_rows": null,
            "right": null,
            "justify_content": null,
            "_view_module": "@jupyter-widgets/base",
            "overflow": null,
            "_model_module_version": "1.2.0",
            "_view_count": null,
            "flex_flow": null,
            "width": null,
            "min_width": null,
            "border": null,
            "align_items": null,
            "bottom": null,
            "_model_module": "@jupyter-widgets/base",
            "top": null,
            "grid_column": null,
            "overflow_y": null,
            "overflow_x": null,
            "grid_auto_flow": null,
            "grid_area": null,
            "grid_template_columns": null,
            "flex": null,
            "_model_name": "LayoutModel",
            "justify_items": null,
            "grid_row": null,
            "max_height": null,
            "align_content": null,
            "visibility": null,
            "align_self": null,
            "height": null,
            "min_height": null,
            "padding": null,
            "grid_auto_rows": null,
            "grid_gap": null,
            "max_width": null,
            "order": null,
            "_view_module_version": "1.2.0",
            "grid_template_areas": null,
            "object_position": null,
            "object_fit": null,
            "grid_auto_columns": null,
            "margin": null,
            "display": null,
            "left": null
          }
        },
        "e8a0ef82812b4f0faf320ba47039d6b1": {
          "model_module": "@jupyter-widgets/controls",
          "model_name": "DescriptionStyleModel",
          "state": {
            "_view_name": "StyleView",
            "_model_name": "DescriptionStyleModel",
            "description_width": "",
            "_view_module": "@jupyter-widgets/base",
            "_model_module_version": "1.5.0",
            "_view_count": null,
            "_view_module_version": "1.2.0",
            "_model_module": "@jupyter-widgets/controls"
          }
        },
        "643ec88194ff45c0a92846dcdde88c9f": {
          "model_module": "@jupyter-widgets/base",
          "model_name": "LayoutModel",
          "state": {
            "_view_name": "LayoutView",
            "grid_template_rows": null,
            "right": null,
            "justify_content": null,
            "_view_module": "@jupyter-widgets/base",
            "overflow": null,
            "_model_module_version": "1.2.0",
            "_view_count": null,
            "flex_flow": null,
            "width": null,
            "min_width": null,
            "border": null,
            "align_items": null,
            "bottom": null,
            "_model_module": "@jupyter-widgets/base",
            "top": null,
            "grid_column": null,
            "overflow_y": null,
            "overflow_x": null,
            "grid_auto_flow": null,
            "grid_area": null,
            "grid_template_columns": null,
            "flex": null,
            "_model_name": "LayoutModel",
            "justify_items": null,
            "grid_row": null,
            "max_height": null,
            "align_content": null,
            "visibility": null,
            "align_self": null,
            "height": null,
            "min_height": null,
            "padding": null,
            "grid_auto_rows": null,
            "grid_gap": null,
            "max_width": null,
            "order": null,
            "_view_module_version": "1.2.0",
            "grid_template_areas": null,
            "object_position": null,
            "object_fit": null,
            "grid_auto_columns": null,
            "margin": null,
            "display": null,
            "left": null
          }
        }
      }
    }
  },
  "cells": [
    {
      "cell_type": "code",
      "metadata": {
        "colab": {
          "base_uri": "https://localhost:8080/"
        },
        "id": "WwTwpd3G7Rbj",
        "outputId": "421f4a1a-2493-4403-ad5c-e1598799647b"
      },
      "source": [
        "!pip install guppy3"
      ],
      "execution_count": 16,
      "outputs": [
        {
          "output_type": "stream",
          "text": [
            "Requirement already satisfied: guppy3 in /usr/local/lib/python3.6/dist-packages (3.1.0)\n"
          ],
          "name": "stdout"
        }
      ]
    },
    {
      "cell_type": "markdown",
      "metadata": {
        "id": "dRdZv9fuV0db"
      },
      "source": [
        "## Import modules"
      ]
    },
    {
      "cell_type": "code",
      "metadata": {
        "colab": {
          "base_uri": "https://localhost:8080/"
        },
        "id": "eR2fLsWLVo3D",
        "outputId": "1f510956-4417-43cf-cfb5-7f238395b09e"
      },
      "source": [
        "import numpy as np\n",
        "\n",
        "# to get and read data\n",
        "import os\n",
        "from scipy.io import loadmat\n",
        "\n",
        "# to plot the data\n",
        "%matplotlib inline\n",
        "import matplotlib\n",
        "import matplotlib.pyplot as plt\n",
        "\n",
        "# for neural network\n",
        "import torch\n",
        "import torch.nn as nn\n",
        "import torch.nn.functional as F\n",
        "import torch.optim as optim\n",
        "\n",
        "device = torch.device(\"cuda:0\" if torch.cuda.is_available() else \"cpu\")\n",
        "print(device)"
      ],
      "execution_count": 25,
      "outputs": [
        {
          "output_type": "stream",
          "text": [
            "cpu\n"
          ],
          "name": "stdout"
        }
      ]
    },
    {
      "cell_type": "code",
      "metadata": {
        "colab": {
          "base_uri": "https://localhost:8080/"
        },
        "id": "VQw0vscxDlKQ",
        "outputId": "3d8bc41b-9a71-4962-e381-6d6e4a54eb1c"
      },
      "source": [
        "from google.colab import drive\n",
        "drive.mount('/content/drive')\n",
        "\n",
        "os.chdir(\"/content/drive/MyDrive/project\")\n",
        "from common_modules import data_f, network_f, patches_f, clusters_f\n",
        "from char_modules import preprocess_f, plotting_f"
      ],
      "execution_count": 28,
      "outputs": [
        {
          "output_type": "stream",
          "text": [
            "Drive already mounted at /content/drive; to attempt to forcibly remount, call drive.mount(\"/content/drive\", force_remount=True).\n"
          ],
          "name": "stdout"
        }
      ]
    },
    {
      "cell_type": "code",
      "metadata": {
        "colab": {
          "base_uri": "https://localhost:8080/"
        },
        "id": "MD8w9DH7XHlh",
        "outputId": "61504109-4212-47a8-ec57-88cae3076880"
      },
      "source": [
        "import importlib\n",
        "importlib.reload(patches_f)"
      ],
      "execution_count": 29,
      "outputs": [
        {
          "output_type": "execute_result",
          "data": {
            "text/plain": [
              "<module 'common_modules.patches_f' from '/content/drive/MyDrive/project/common_modules/patches_f.py'>"
            ]
          },
          "metadata": {
            "tags": []
          },
          "execution_count": 29
        }
      ]
    },
    {
      "cell_type": "markdown",
      "metadata": {
        "id": "G4hCtIEpUp4c"
      },
      "source": [
        "## get and read data"
      ]
    },
    {
      "cell_type": "markdown",
      "metadata": {
        "id": "60UX9yxGssKT"
      },
      "source": [
        "get data"
      ]
    },
    {
      "cell_type": "code",
      "metadata": {
        "colab": {
          "base_uri": "https://localhost:8080/"
        },
        "id": "_OoLkKjsSu7i",
        "outputId": "294f9144-9464-4e04-b83a-b9ae78b1decf"
      },
      "source": [
        "data_f.download_file(url = \"https://archive.ics.uci.edu/ml/machine-learning-databases/character-trajectories/mixoutALL_shifted.mat\",\n",
        "                        saveAs = \"mixoutALL_shifted.mat\")\n",
        "\n",
        "#load the file\n",
        "mat = loadmat('mixoutALL_shifted.mat')\n",
        "print(mat.keys())"
      ],
      "execution_count": 30,
      "outputs": [
        {
          "output_type": "stream",
          "text": [
            "file already exists\n",
            "dict_keys(['__header__', '__version__', '__globals__', 'consts', 'mixout'])\n"
          ],
          "name": "stdout"
        }
      ]
    },
    {
      "cell_type": "markdown",
      "metadata": {
        "id": "o9hK9E-qsMSI"
      },
      "source": [
        "read data"
      ]
    },
    {
      "cell_type": "code",
      "metadata": {
        "colab": {
          "base_uri": "https://localhost:8080/"
        },
        "id": "nB_CkjE-6YsX",
        "outputId": "06da731a-83a0-448b-b58d-ae273a93d8d4"
      },
      "source": [
        "consts = mat['consts'][0][0]\r\n",
        "#print(consts)\r\n",
        "\r\n",
        "classes = [char[0] for char in consts[3][0]]\r\n",
        "print(classes)\r\n",
        "print('number of classes :',len(classes))\r\n",
        "\r\n",
        "#subtract 1 since np array indexing is from 0\r\n",
        "labels = consts[4][0] - 1\r\n",
        "inputs = mat['mixout'][0]\r\n",
        "\r\n",
        "train_inputs, test_inputs, train_labels, test_labels = data_f.train_test_split(inputs, labels, test_size=0.25, random_state=0)\r\n",
        "\r\n",
        "train_data = list(zip(train_inputs, train_labels))\r\n",
        "test_data = list(zip(test_inputs, test_labels))"
      ],
      "execution_count": 31,
      "outputs": [
        {
          "output_type": "stream",
          "text": [
            "['a', 'b', 'c', 'd', 'e', 'g', 'h', 'l', 'm', 'n', 'o', 'p', 'q', 'r', 's', 'u', 'v', 'w', 'y', 'z']\n",
            "number of classes : 20\n"
          ],
          "name": "stdout"
        }
      ]
    },
    {
      "cell_type": "code",
      "metadata": {
        "colab": {
          "base_uri": "https://localhost:8080/",
          "height": 283
        },
        "id": "iZgBldgaWnVP",
        "outputId": "bfa680d4-03cf-49a2-9cb5-4782ee0ece19"
      },
      "source": [
        "# distribution of sample lenghts\n",
        "lengths = []\n",
        "\n",
        "for sample in inputs:\n",
        "  input = sample[0]\n",
        "  input = np.array(input)\n",
        "  lengths.append(len(input))\n",
        "\n",
        "print('max length =',np.max(lengths))\n",
        "_ = plt.hist(lengths)"
      ],
      "execution_count": 32,
      "outputs": [
        {
          "output_type": "stream",
          "text": [
            "max length = 205\n"
          ],
          "name": "stdout"
        },
        {
          "output_type": "display_data",
          "data": {
            "image/png": "[encoded data removed]",
            "text/plain": [
              "<Figure size 432x288 with 1 Axes>"
            ]
          },
          "metadata": {
            "tags": [],
            "needs_background": "light"
          }
        }
      ]
    },
    {
      "cell_type": "markdown",
      "metadata": {
        "id": "a8pAefaDebyf"
      },
      "source": [
        "## patches"
      ]
    },
    {
      "cell_type": "code",
      "metadata": {
        "id": "le8dyUPa4U1g",
        "colab": {
          "base_uri": "https://localhost:8080/",
          "height": 67,
          "referenced_widgets": [
            "57032e8957e4423aaf2585c9a13bbd13",
            "5c7f45053ff8453cbe2afb3937661a55",
            "0f1952d6bc544a2296540b3a8fb818ec",
            "113155ddd8ec4a86ae5994ef5fb3b72f",
            "eac4aa65a10c46b89627606e03d92c45",
            "12be0e481bf9403797560ced08546a8b",
            "2570129163cf4e0ea28b2d9e04bcf8f2",
            "2af3079146b24563933c712fd7c4c76c"
          ]
        },
        "outputId": "09444e7b-8adf-42c9-9b3b-91803a60249e"
      },
      "source": [
        "kwargs = {'window_size':20, 'stride':10, 'resizeTo':200} #, \"normalize\":(-1,1)}\n",
        "\n",
        "kwargs['data'] = train_data\n",
        "train_inputs, train_labels, train_indexes = patches_f.dataToPatches(**kwargs)\n",
        "kwargs['data'] = test_data\n",
        "#test_inputs, test_labels, test_indexes = patches_f.dataToPatches(**kwargs)"
      ],
      "execution_count": 33,
      "outputs": [
        {
          "output_type": "display_data",
          "data": {
            "application/vnd.jupyter.widget-view+json": {
              "model_id": "57032e8957e4423aaf2585c9a13bbd13",
              "version_minor": 0,
              "version_major": 2
            },
            "text/plain": [
              "HBox(children=(FloatProgress(value=0.0, max=2143.0), HTML(value='')))"
            ]
          },
          "metadata": {
            "tags": []
          }
        },
        {
          "output_type": "stream",
          "text": [
            "\n"
          ],
          "name": "stdout"
        }
      ]
    },
    {
      "cell_type": "markdown",
      "metadata": {
        "id": "n6bg9nUw2M-R"
      },
      "source": [
        "create dataset and dataloader"
      ]
    },
    {
      "cell_type": "code",
      "metadata": {
        "id": "Ute3wnqGY68R"
      },
      "source": [
        "train_loader, val_loader, test_loader = data_f.createLoaders(train_inputs, train_labels,\n",
        "                                                                  test_inputs, test_labels,\n",
        "                                                                  batch_size=32)"
      ],
      "execution_count": 34,
      "outputs": []
    },
    {
      "cell_type": "markdown",
      "metadata": {
        "id": "nOGNeQqpHkF_"
      },
      "source": [
        "### visualize patches"
      ]
    },
    {
      "cell_type": "code",
      "metadata": {
        "colab": {
          "base_uri": "https://localhost:8080/",
          "height": 679
        },
        "id": "bABPfJwPGoRs",
        "outputId": "3d2a2573-891b-4d9b-e031-464a4375aef8"
      },
      "source": [
        "plotting_f.plotTimeSeries(train_data, train_indexes, train_inputs, char='a', index=0)"
      ],
      "execution_count": 35,
      "outputs": [
        {
          "output_type": "stream",
          "text": [
            "a\n",
            "original sample\n"
          ],
          "name": "stdout"
        },
        {
          "output_type": "display_data",
          "data": {
            "image/png": "[encoded data removed]",
            "text/plain": [
              "<Figure size 432x288 with 1 Axes>"
            ]
          },
          "metadata": {
            "tags": [],
            "needs_background": "light"
          }
        },
        {
          "output_type": "stream",
          "text": [
            "19 patches\n"
          ],
          "name": "stdout"
        },
        {
          "output_type": "display_data",
          "data": {
            "image/png": "[encoded data removed]",
            "text/plain": [
              "<Figure size 1080x432 with 20 Axes>"
            ]
          },
          "metadata": {
            "tags": [],
            "needs_background": "light"
          }
        }
      ]
    },
    {
      "cell_type": "code",
      "metadata": {
        "colab": {
          "base_uri": "https://localhost:8080/",
          "height": 737
        },
        "id": "Lq9RgNXSSJfR",
        "outputId": "cf544a84-8df0-47ec-a999-6183a57fe8ea"
      },
      "source": [
        "plotting_f.plotChar(train_data, train_indexes, train_inputs, char='a', index=0)"
      ],
      "execution_count": 36,
      "outputs": [
        {
          "output_type": "stream",
          "text": [
            "a\n",
            "original sample\n"
          ],
          "name": "stdout"
        },
        {
          "output_type": "display_data",
          "data": {
            "image/png": "[encoded data removed]",
            "text/plain": [
              "<Figure size 432x288 with 1 Axes>"
            ]
          },
          "metadata": {
            "tags": [],
            "needs_background": "light"
          }
        },
        {
          "output_type": "stream",
          "text": [
            "19 patches\n"
          ],
          "name": "stdout"
        },
        {
          "output_type": "stream",
          "text": [
            "/content/drive/MyDrive/project/char_modules/plotting_f.py:19: RuntimeWarning: invalid value encountered in true_divide\n",
            "  color = (force - np.min(force)) / (np.max(force)-np.min(force))\n"
          ],
          "name": "stderr"
        },
        {
          "output_type": "display_data",
          "data": {
            "image/png": "[encoded data removed]",
            "text/plain": [
              "<Figure size 1080x432 with 20 Axes>"
            ]
          },
          "metadata": {
            "tags": [],
            "needs_background": "light"
          }
        }
      ]
    },
    {
      "cell_type": "markdown",
      "metadata": {
        "id": "9ogOLz1QZGuk"
      },
      "source": [
        "## clustering"
      ]
    },
    {
      "cell_type": "code",
      "metadata": {
        "id": "gFCU8mYAlg67"
      },
      "source": [
        "# flatten inputs to 2d array\n",
        "nsamples, nx, ny = train_inputs.shape\n",
        "sample_shape = nx, ny\n",
        "train_inputs2d = train_inputs.reshape((nsamples,nx*ny))"
      ],
      "execution_count": 37,
      "outputs": []
    },
    {
      "cell_type": "markdown",
      "metadata": {
        "id": "nS4LqQkDMTyg"
      },
      "source": [
        "### using scikit"
      ]
    },
    {
      "cell_type": "markdown",
      "metadata": {
        "id": "9QtNiqsb3A-e"
      },
      "source": [
        "plot silhoutte index for number of cluster 2 to 21"
      ]
    },
    {
      "cell_type": "code",
      "metadata": {
        "colab": {
          "base_uri": "https://localhost:8080/",
          "height": 1000,
          "referenced_widgets": [
            "53cbbfde9111446292062ec3b763a2c6",
            "92625e5071d94029b4d001d3166a1fac",
            "a038157f54fa43fdba8c11053a1c0ee7",
            "e0030fc08a5c49998dd8f512731dccc5",
            "bdceeb933fa242ab9d914560618c91de",
            "f2189b93e253436e8d258ffb5638928c",
            "eb5a32442fe9445480833acae914a3d1",
            "2f982324e7d74235a4b91be3d4b336a0"
          ]
        },
        "id": "gE8pxuDhzwbi",
        "outputId": "735f691f-0c46-490d-fe5f-228148d541ea"
      },
      "source": [
        "_ = clusters_f.form_clusters(train_inputs2d, \"KMeans\", list(range(2,31)), train_labels) #list(range(2,22))"
      ],
      "execution_count": 38,
      "outputs": [
        {
          "output_type": "stream",
          "text": [
            "/usr/local/lib/python3.6/dist-packages/torch/distributed/distributed_c10d.py:126: UserWarning: torch.distributed.reduce_op is deprecated, please use torch.distributed.ReduceOp instead\n",
            "  warnings.warn(\"torch.distributed.reduce_op is deprecated, please use \"\n"
          ],
          "name": "stderr"
        },
        {
          "output_type": "display_data",
          "data": {
            "application/vnd.jupyter.widget-view+json": {
              "model_id": "53cbbfde9111446292062ec3b763a2c6",
              "version_minor": 0,
              "version_major": 2
            },
            "text/plain": [
              "HBox(children=(FloatProgress(value=0.0, max=29.0), HTML(value='')))"
            ]
          },
          "metadata": {
            "tags": []
          }
        },
        {
          "output_type": "stream",
          "text": [
            "\n",
            "runtime:  3475.282212495804\n",
            "\n",
            "memory consumption:\n",
            "Partition of a set of 2858891 objects. Total size = 739553573 bytes.\n",
            " Index  Count   %     Size   % Cumulative  % Kind (class / dict of class)\n",
            "     0   5817   0 523550784  71 523550784  71 numpy.ndarray\n",
            "     1 2037973  71 65215136   9 588765920  80 numpy.float64\n",
            "     2  49396   2 54395912   7 643161832  87 list\n",
            "     3 211349   7 30799144   4 673960976  91 str\n",
            "     4 207759   7 16627048   2 690588024  93 tuple\n",
            "     5  85437   3  6894518   1 697482542  94 bytes\n",
            "     6  43545   2  6301840   1 703784382  95 types.CodeType\n",
            "     7  41356   1  5624416   1 709408798  96 function\n",
            "     8  13882   0  5215392   1 714624190  97 dict (no owner)\n",
            "     9   4826   0  4787296   1 719411486  97 type\n",
            "<1842 more rows. Type e.g. '_.more' to view.>\n",
            "\n"
          ],
          "name": "stdout"
        },
        {
          "output_type": "display_data",
          "data": {
            "image/png": "[encoded data removed]",
            "text/plain": [
              "<Figure size 432x288 with 1 Axes>"
            ]
          },
          "metadata": {
            "tags": [],
            "needs_background": "light"
          }
        },
        {
          "output_type": "stream",
          "text": [
            " n_clusters  silhouette      cal_har  dav_bould  adj_rand  adj_mut_inf  v_measure  fowlk_mall\n",
            "          2    0.217193  3376.289529   2.171858  0.000319     0.002925   0.003065    0.203581\n",
            "          3    0.079754  2948.812004   2.610327  0.001758     0.005689   0.005934    0.169354\n",
            "          4    0.137830  2803.772234   1.988634  0.001961     0.024209   0.024574    0.181775\n",
            "          5    0.090398  2860.834453   1.937609  0.002726     0.015134   0.015587    0.161153\n",
            "          6    0.164272  2862.002526   1.911173  0.005816     0.040442   0.040974    0.157672\n",
            "          7    0.172401  2829.937248   1.905194  0.009849     0.054982   0.055581    0.149960\n",
            "          8    0.154768  2773.893066   1.918788  0.014138     0.050678   0.051337    0.131811\n",
            "          9    0.161881  2867.074944   1.795213  0.011665     0.056240   0.056982    0.128984\n",
            "         10    0.175455  2798.232052   1.800271  0.015441     0.056267   0.057079    0.125336\n",
            "         11    0.183454  2796.528740   1.766357  0.016307     0.061323   0.062182    0.110285\n",
            "         12    0.157320  2712.019546   1.842161  0.020921     0.069917   0.070819    0.100223\n",
            "         13    0.204294  2713.217647   1.765421  0.015572     0.058168   0.059160    0.095403\n",
            "         14    0.197924  2781.876407   1.880628  0.023149     0.075272   0.076290    0.089471\n",
            "         15    0.214556  2728.528640   1.652754  0.020008     0.075570   0.076672    0.091990\n",
            "         16    0.213771  2703.220183   1.730071  0.019411     0.074400   0.075557    0.084472\n",
            "         17    0.226363  2704.736108   1.703096  0.015614     0.074026   0.075244    0.076968\n",
            "         18    0.242649  2696.865841   1.580896  0.021111     0.083124   0.084382    0.078135\n",
            "         19    0.237296  2685.726509   1.520068  0.017779     0.087548   0.088875    0.076715\n",
            "         20    0.248905  2640.986037   1.640756  0.019570     0.084058   0.085467    0.080914\n",
            "         21    0.266105  2676.355279   1.660681  0.023481     0.080432   0.081887    0.077485\n",
            "         22    0.272028  2691.076813   1.496400  0.020397     0.096678   0.098164    0.073021\n",
            "         23    0.267557  2636.790267   1.387806  0.017652     0.086081   0.087655    0.071964\n",
            "         24    0.307970  2674.041431   1.419022  0.018795     0.083809   0.085434    0.069156\n",
            "         25    0.288016  2656.837483   1.403882  0.019616     0.090201   0.091876    0.068985\n",
            "         26    0.307879  2684.882787   1.381526  0.019375     0.096411   0.098130    0.067334\n",
            "         27    0.309427  2672.737942   1.386090  0.020478     0.100597   0.102366    0.067632\n",
            "         28    0.315143  2677.583656   1.393895  0.019976     0.102032   0.103863    0.067460\n",
            "         29    0.340451  2651.492441   1.352027  0.019052     0.097042   0.098927    0.063593\n",
            "         30    0.340823  2623.632734   1.343569  0.021202     0.106716   0.108640    0.065249\n"
          ],
          "name": "stdout"
        }
      ]
    },
    {
      "cell_type": "code",
      "metadata": {
        "colab": {
          "base_uri": "https://localhost:8080/",
          "height": 1000,
          "referenced_widgets": [
            "4726f723f85e4a5ca8fb1d0423404cb5",
            "8aaa50fc06ae4607af0629094c1f6932",
            "1813161a9f774cdbbbbe8b0645404944",
            "93a44b2e7b354caba7bfa9700d859ae9",
            "b28eb2176ed243418c7112dd73eaf9b1",
            "a3daf93c7209406ba2bf35666eaf9184",
            "82cc39ecdbaa4cf2a8eeaa0d82aac2af",
            "afcb462c1116492e967d49acc62429da"
          ]
        },
        "id": "YWN2lzGi1wMT",
        "outputId": "28249792-08df-4795-8c4a-b692eefdf64c"
      },
      "source": [
        "_ = clusters_f.form_clusters(train_inputs2d, \"AgglomerativeClustering\", list(range(2,22)), train_labels)"
      ],
      "execution_count": null,
      "outputs": [
        {
          "output_type": "display_data",
          "data": {
            "application/vnd.jupyter.widget-view+json": {
              "model_id": "4726f723f85e4a5ca8fb1d0423404cb5",
              "version_minor": 0,
              "version_major": 2
            },
            "text/plain": [
              "HBox(children=(FloatProgress(value=0.0, max=20.0), HTML(value='')))"
            ]
          },
          "metadata": {
            "tags": []
          }
        },
        {
          "output_type": "stream",
          "text": [
            "\n",
            "runtime:  6632.2175941467285\n",
            "\n",
            "memory consumption:\n",
            "Partition of a set of 881890 objects. Total size = 255694521 bytes.\n",
            " Index  Count   %     Size   % Cumulative  % Kind (class / dict of class)\n",
            "     0   3202   0 145364781  57 145364781  57 numpy.ndarray\n",
            "     1 259838  29 36073076  14 181437857  71 str\n",
            "     2 224066  25 17800352   7 199238209  78 tuple\n",
            "     3  92638  11  7343231   3 206581440  81 bytes\n",
            "     4  47148   5  6822136   3 213403576  83 types.CodeType\n",
            "     5  17291   2  6207560   2 219611136  86 dict (no owner)\n",
            "     6  44521   5  6054856   2 225665992  88 function\n",
            "     7   5653   1  5509592   2 231175584  90 type\n",
            "     8   2353   0  3401800   1 234577384  92 dict of module\n",
            "     9   5653   1  2884056   1 237461440  93 dict of type\n",
            "<2254 more rows. Type e.g. '_.more' to view.>\n",
            "\n"
          ],
          "name": "stdout"
        },
        {
          "output_type": "display_data",
          "data": {
            "image/png": "[encoded data removed]",
            "text/plain": [
              "<Figure size 432x288 with 1 Axes>"
            ]
          },
          "metadata": {
            "tags": [],
            "needs_background": "light"
          }
        },
        {
          "output_type": "stream",
          "text": [
            " n_clusters  silhouette       cal_har  dav_bould  adj_rand  adj_mut_inf  v_measure  fowlk_mall\n",
            "          2    0.511452  60296.289303   0.705493  0.002436     0.009207   0.009361    0.167481\n",
            "          3    0.339315  42403.274547   0.964584  0.003250     0.017651   0.017937    0.156858\n",
            "          4    0.279211  38470.236047   1.179686  0.011898     0.041634   0.042020    0.143506\n",
            "          5    0.222397  31950.692297   1.708382  0.021216     0.053462   0.053936    0.130828\n",
            "          6    0.180313  27621.483043   1.824683  0.021917     0.059147   0.059712    0.120895\n",
            "          7    0.184173  24284.335038   1.755266  0.023450     0.064394   0.065050    0.116702\n",
            "          8    0.179112  21676.037135   1.848024  0.026927     0.069643   0.070382    0.111736\n",
            "          9    0.171871  19584.824690   2.029033  0.026594     0.075853   0.076675    0.107630\n",
            "         10    0.174561  17985.634120   1.990475  0.027951     0.084621   0.085527    0.107566\n",
            "         11    0.180842  16726.144177   2.047831  0.030882     0.099834   0.100810    0.108430\n",
            "         12    0.177425  15699.225223   2.084898  0.032095     0.101530   0.102586    0.106915\n",
            "         13    0.179631  14820.873343   2.204304  0.031389     0.101895   0.103020    0.099712\n",
            "         14    0.176338  14080.338391   2.169905  0.031833     0.104014   0.105215    0.097934\n",
            "         15    0.181242  13435.194646   2.106583  0.032110     0.107644   0.108919    0.096968\n",
            "         16    0.184885  12875.314421   2.046231  0.031932     0.113761   0.115109    0.096032\n",
            "         17    0.191496  12375.055873   1.997339  0.033449     0.119131   0.120543    0.095303\n",
            "         18    0.193342  11924.929766   1.976957  0.032792     0.120406   0.121891    0.093632\n",
            "         19    0.160133  11513.804315   1.967560  0.036677     0.126750   0.128281    0.090695\n",
            "         20    0.149411  11148.432750   1.900599  0.036974     0.128690   0.130294    0.090559\n",
            "         21    0.150588  10819.907935   1.871240  0.037334     0.133802   0.135474    0.090606\n"
          ],
          "name": "stdout"
        }
      ]
    },
    {
      "cell_type": "code",
      "metadata": {
        "colab": {
          "base_uri": "https://localhost:8080/",
          "height": 1000,
          "referenced_widgets": [
            "a1d3f40ae97940f3babe415dfa614e65",
            "eec21b60c41a473f96657098ebf78c9f",
            "b11ccd0751214e7e8d359b0a6b952f9f",
            "4964c7fa32f24fe39fbfdfdf539a6ab9",
            "d6608af6ff0c4c99909ff7aa33c90cee",
            "96388f4d9d4940668acfa5edddac1640",
            "1e9b15f7bf5e491db983e90e88c9c74e",
            "4d68f7ab32d0465aa068b3c7b3f98cfb"
          ]
        },
        "id": "3FlfJPHTtC7v",
        "outputId": "6517c97c-1987-47e5-d444-fdcc5b9d01bd"
      },
      "source": [
        "_ = clusters_f.form_clusters(train_inputs2d, \"DBSCAN\", np.linspace(0.6,4,20) , train_labels)"
      ],
      "execution_count": null,
      "outputs": [
        {
          "output_type": "display_data",
          "data": {
            "application/vnd.jupyter.widget-view+json": {
              "model_id": "a1d3f40ae97940f3babe415dfa614e65",
              "version_minor": 0,
              "version_major": 2
            },
            "text/plain": [
              "HBox(children=(FloatProgress(value=0.0, max=20.0), HTML(value='')))"
            ]
          },
          "metadata": {
            "tags": []
          }
        },
        {
          "output_type": "stream",
          "text": [
            "\n",
            "runtime:  4937.640772342682\n",
            "\n",
            "memory consumption:\n",
            "Partition of a set of 766291 objects. Total size = 454097386 bytes.\n",
            " Index  Count   %     Size   % Cumulative  % Kind (class / dict of class)\n",
            "     0   3200   0 357543699  79 357543699  79 numpy.ndarray\n",
            "     1 205356  27 30399659   7 387943358  85 str\n",
            "     2 204939  27 16453408   4 404396766  89 tuple\n",
            "     3  85568  11  6916536   2 411313302  91 bytes\n",
            "     4  43618   6  6312336   1 417625638  92 types.CodeType\n",
            "     5  40992   5  5574912   1 423200550  93 function\n",
            "     6  13169   2  5013848   1 428214398  94 dict (no owner)\n",
            "     7   4830   1  4792808   1 433007206  95 type\n",
            "     8   2139   0  3127344   1 436134550  96 dict of module\n",
            "     9   4830   1  2542352   1 438676902  97 dict of type\n",
            "<1744 more rows. Type e.g. '_.more' to view.>\n",
            "\n"
          ],
          "name": "stdout"
        },
        {
          "output_type": "display_data",
          "data": {
            "image/png": "[encoded data removed]",
            "text/plain": [
              "<Figure size 432x288 with 1 Axes>"
            ]
          },
          "metadata": {
            "tags": [],
            "needs_background": "light"
          }
        },
        {
          "output_type": "stream",
          "text": [
            "      eps  n_clusters  silhouette      cal_har  dav_bould  adj_rand  adj_mut_inf  v_measure  fowlk_mall\n",
            " 0.600000         399   -0.344673    68.437880   1.384979  0.001123     0.261598   0.293386    0.164425\n",
            " 0.778947         563   -0.188626    76.253041   1.439526  0.006987     0.351735   0.384002    0.130468\n",
            " 0.957895         581   -0.065329   120.528850   1.434614  0.018820     0.408967   0.435968    0.105802\n",
            " 1.136842         512   -0.013431   201.993534   1.477898  0.029635     0.421960   0.444241    0.092373\n",
            " 1.315789         445    0.022245   297.871826   1.620373  0.040497     0.428469   0.447336    0.087152\n",
            " 1.494737         383    0.009549   393.038924   1.591292  0.042815     0.402557   0.419771    0.084127\n",
            " 1.673684         324    0.007603   500.332442   1.628895  0.044478     0.388648   0.403718    0.082862\n",
            " 1.852632         239   -0.059562   595.172566   1.775006  0.039819     0.354466   0.366998    0.083717\n",
            " 2.031579         185   -0.070642   648.220691   1.825090  0.031589     0.290088   0.301160    0.078023\n",
            " 2.210526         139   -0.107412   689.358671   1.868021  0.023776     0.222994   0.232498    0.076935\n",
            " 2.389474          88   -0.149513   831.713177   1.907552  0.016972     0.154143   0.161249    0.077362\n",
            " 2.568421          65   -0.177057   954.593800   1.929929  0.012563     0.120539   0.126511    0.089273\n",
            " 2.747368          36   -0.323381   648.479884   1.874190  0.002944     0.091850   0.096642    0.184777\n",
            " 2.926316          21   -0.299775  1068.194298   2.108208  0.002176     0.071519   0.074521    0.187644\n",
            " 3.105263          15   -0.240310  1496.795403   2.341702  0.001198     0.052303   0.054471    0.189186\n",
            " 3.284211          10   -0.234878  2156.741840   2.508337  0.001018     0.025898   0.027302    0.193359\n",
            " 3.463158           8   -0.076269  2707.236724   2.652676  0.000785     0.016203   0.017322    0.194869\n",
            " 3.642105           3   -0.199807     0.858124  12.228711  0.000014     0.000736   0.001092    0.227032\n",
            " 3.821053           2    0.083553     1.008784  13.136211  0.000013     0.000351   0.000567    0.227240\n",
            " 4.000000           2    0.087476     1.121281   8.888872  0.000020     0.000367   0.000589    0.227397\n"
          ],
          "name": "stdout"
        }
      ]
    },
    {
      "cell_type": "markdown",
      "metadata": {
        "id": "lKVfi7ONMYMw"
      },
      "source": [
        "### using clusteval"
      ]
    },
    {
      "cell_type": "code",
      "metadata": {
        "id": "z-5f5CP8MhGO",
        "colab": {
          "base_uri": "https://localhost:8080/"
        },
        "outputId": "653b1588-8f8a-4d0f-9f5e-dcfcb6552009"
      },
      "source": [
        "! pip install clusteval\r\n",
        "from clusteval import clusteval"
      ],
      "execution_count": null,
      "outputs": [
        {
          "output_type": "stream",
          "text": [
            "Requirement already satisfied: clusteval in /usr/local/lib/python3.6/dist-packages (2.0.0)\n",
            "Requirement already satisfied: seaborn in /usr/local/lib/python3.6/dist-packages (from clusteval) (0.11.0)\n",
            "Requirement already satisfied: numpy in /usr/local/lib/python3.6/dist-packages (from clusteval) (1.19.4)\n",
            "Requirement already satisfied: sklearn in /usr/local/lib/python3.6/dist-packages (from clusteval) (0.0)\n",
            "Requirement already satisfied: matplotlib in /usr/local/lib/python3.6/dist-packages (from clusteval) (3.2.2)\n",
            "Requirement already satisfied: pandas in /usr/local/lib/python3.6/dist-packages (from clusteval) (1.1.5)\n",
            "Requirement already satisfied: tqdm in /usr/local/lib/python3.6/dist-packages (from clusteval) (4.41.1)\n",
            "Requirement already satisfied: scipy>=1.0 in /usr/local/lib/python3.6/dist-packages (from seaborn->clusteval) (1.4.1)\n",
            "Requirement already satisfied: scikit-learn in /usr/local/lib/python3.6/dist-packages (from sklearn->clusteval) (0.22.2.post1)\n",
            "Requirement already satisfied: cycler>=0.10 in /usr/local/lib/python3.6/dist-packages (from matplotlib->clusteval) (0.10.0)\n",
            "Requirement already satisfied: kiwisolver>=1.0.1 in /usr/local/lib/python3.6/dist-packages (from matplotlib->clusteval) (1.3.1)\n",
            "Requirement already satisfied: pyparsing!=2.0.4,!=2.1.2,!=2.1.6,>=2.0.1 in /usr/local/lib/python3.6/dist-packages (from matplotlib->clusteval) (2.4.7)\n",
            "Requirement already satisfied: python-dateutil>=2.1 in /usr/local/lib/python3.6/dist-packages (from matplotlib->clusteval) (2.8.1)\n",
            "Requirement already satisfied: pytz>=2017.2 in /usr/local/lib/python3.6/dist-packages (from pandas->clusteval) (2018.9)\n",
            "Requirement already satisfied: joblib>=0.11 in /usr/local/lib/python3.6/dist-packages (from scikit-learn->sklearn->clusteval) (1.0.0)\n",
            "Requirement already satisfied: six in /usr/local/lib/python3.6/dist-packages (from cycler>=0.10->matplotlib->clusteval) (1.15.0)\n"
          ],
          "name": "stdout"
        }
      ]
    },
    {
      "cell_type": "code",
      "metadata": {
        "colab": {
          "base_uri": "https://localhost:8080/"
        },
        "id": "mq27M3bO99J3",
        "outputId": "d5840214-3a1e-458c-dbf1-1affe37cd6d6"
      },
      "source": [
        "ce = clusteval(cluster='kmeans', method='silhouette', max_clust=20)\r\n",
        "ce.fit(train_inputs2d)"
      ],
      "execution_count": null,
      "outputs": [
        {
          "output_type": "stream",
          "text": [
            "\r  0%|          | 0/18 [00:00<?, ?it/s]"
          ],
          "name": "stderr"
        },
        {
          "output_type": "stream",
          "text": [
            "\n",
            "[clusteval] >Fit using kmeans with metric: euclidean, and linkage: ward\n",
            "[clusteval] >Evaluate using silhouette.\n"
          ],
          "name": "stdout"
        },
        {
          "output_type": "stream",
          "text": [
            "100%|██████████| 18/18 [18:48<00:00, 62.72s/it]"
          ],
          "name": "stderr"
        },
        {
          "output_type": "stream",
          "text": [
            "[clusteval] >Optimal number clusters detected: [2].\n",
            "[clusteval] >Fin.\n"
          ],
          "name": "stdout"
        },
        {
          "output_type": "stream",
          "text": [
            "\n"
          ],
          "name": "stderr"
        },
        {
          "output_type": "execute_result",
          "data": {
            "text/plain": [
              "{'fig': {'clustcutt': array([ 2,  3,  4,  5,  6,  7,  8,  9, 10, 11, 12, 13, 14, 15, 16, 17, 18,\n",
              "         19]),\n",
              "  'sillclust': array([ 2.,  3.,  4.,  5.,  6.,  7.,  8.,  9., 10., 11., 12., 13., 14.,\n",
              "         15., 16., 17., 18., 19.]),\n",
              "  'silscores': array([0.54193945, 0.37888295, 0.31563263, 0.25609774, 0.21650868,\n",
              "         0.21577832, 0.20465675, 0.20050424, 0.20050938, 0.20122135,\n",
              "         0.19515922, 0.2051068 , 0.20111758, 0.20939407, 0.1726051 ,\n",
              "         0.22036442, 0.22207266, 0.17577018])},\n",
              " 'labx': array([ 0, -1, -1, ..., -1,  0,  0], dtype=int32),\n",
              " 'max_d': None,\n",
              " 'max_d_lower': None,\n",
              " 'max_d_upper': None,\n",
              " 'method': 'silhouette',\n",
              " 'score':     clusters     score\n",
              " 0          2  0.541939\n",
              " 1          3  0.378883\n",
              " 2          4  0.315633\n",
              " 3          5  0.256098\n",
              " 4          6  0.216509\n",
              " 5          7  0.215778\n",
              " 6          8  0.204657\n",
              " 7          9  0.200504\n",
              " 8         10  0.200509\n",
              " 9         11  0.201221\n",
              " 10        12  0.195159\n",
              " 11        13  0.205107\n",
              " 12        14  0.201118\n",
              " 13        15  0.209394\n",
              " 14        16  0.172605\n",
              " 15        17  0.220364\n",
              " 16        18  0.222073\n",
              " 17        19  0.175770}"
            ]
          },
          "metadata": {
            "tags": []
          },
          "execution_count": 17
        }
      ]
    },
    {
      "cell_type": "code",
      "metadata": {
        "colab": {
          "base_uri": "https://localhost:8080/",
          "height": 551
        },
        "id": "zyzw8z_MP9kb",
        "outputId": "c5507908-4c4e-456b-9785-99bbb28ba5af"
      },
      "source": [
        "ce.plot()"
      ],
      "execution_count": null,
      "outputs": [
        {
          "output_type": "display_data",
          "data": {
            "image/png": "[encoded data removed]",
            "text/plain": [
              "<Figure size 1080x576 with 1 Axes>"
            ]
          },
          "metadata": {
            "tags": [],
            "needs_background": "light"
          }
        },
        {
          "output_type": "execute_result",
          "data": {
            "text/plain": [
              "(<Figure size 1080x576 with 1 Axes>,\n",
              " <matplotlib.axes._subplots.AxesSubplot at 0x7f4537f5b828>)"
            ]
          },
          "metadata": {
            "tags": []
          },
          "execution_count": 18
        }
      ]
    },
    {
      "cell_type": "code",
      "metadata": {
        "id": "-li7ekVVUi6h",
        "colab": {
          "base_uri": "https://localhost:8080/"
        },
        "outputId": "55e81262-5e44-40f1-e044-e2df8b4b53b1"
      },
      "source": [
        "ce = clusteval(cluster='kmeans', method='silhouette', metric=\"jaccard\", max_clust=20)\r\n",
        "ce.fit(train_inputs2d)"
      ],
      "execution_count": null,
      "outputs": [
        {
          "output_type": "stream",
          "text": [
            "\n",
            "  0%|          | 0/18 [00:00<?, ?it/s]\u001b[A"
          ],
          "name": "stderr"
        },
        {
          "output_type": "stream",
          "text": [
            "\n",
            "[clusteval] >Fit using kmeans with metric: jaccard, and linkage: ward\n",
            "[clusteval] >Evaluate using silhouette.\n"
          ],
          "name": "stdout"
        },
        {
          "output_type": "stream",
          "text": [
            "\n",
            "  6%|▌         | 1/18 [00:47<13:35, 47.98s/it]\u001b[A\n",
            " 11%|█         | 2/18 [01:36<12:52, 48.29s/it]\u001b[A\n",
            " 17%|█▋        | 3/18 [02:33<12:39, 50.63s/it]\u001b[A\n",
            " 22%|██▏       | 4/18 [03:27<12:05, 51.85s/it]\u001b[A\n",
            " 28%|██▊       | 5/18 [04:23<11:30, 53.13s/it]\u001b[A\n",
            " 33%|███▎      | 6/18 [05:22<10:57, 54.78s/it]\u001b[A\n",
            " 39%|███▉      | 7/18 [06:24<10:25, 56.91s/it]\u001b[A\n",
            " 44%|████▍     | 8/18 [07:24<09:39, 57.96s/it]\u001b[A\n",
            " 50%|█████     | 9/18 [08:30<09:03, 60.37s/it]\u001b[A\n",
            " 56%|█████▌    | 10/18 [09:39<08:22, 62.84s/it]\u001b[A\n",
            " 61%|██████    | 11/18 [10:47<07:30, 64.32s/it]\u001b[A\n",
            " 67%|██████▋   | 12/18 [11:56<06:34, 65.77s/it]\u001b[A\n",
            " 72%|███████▏  | 13/18 [13:07<05:37, 67.50s/it]\u001b[A\n",
            " 78%|███████▊  | 14/18 [14:14<04:29, 67.32s/it]\u001b[A\n",
            " 83%|████████▎ | 15/18 [15:27<03:26, 68.97s/it]\u001b[A\n",
            " 89%|████████▉ | 16/18 [16:41<02:21, 70.55s/it]\u001b[A\n",
            " 94%|█████████▍| 17/18 [17:55<01:11, 71.44s/it]\u001b[A\n",
            "100%|██████████| 18/18 [19:11<00:00, 63.95s/it]"
          ],
          "name": "stderr"
        },
        {
          "output_type": "stream",
          "text": [
            "[clusteval] >Optimal number clusters detected: [2].\n",
            "[clusteval] >Fin.\n"
          ],
          "name": "stdout"
        },
        {
          "output_type": "stream",
          "text": [
            "\n"
          ],
          "name": "stderr"
        },
        {
          "output_type": "execute_result",
          "data": {
            "text/plain": [
              "{'fig': {'clustcutt': array([ 2,  3,  4,  5,  6,  7,  8,  9, 10, 11, 12, 13, 14, 15, 16, 17, 18,\n",
              "         19]),\n",
              "  'sillclust': array([ 2.,  3.,  4.,  5.,  6.,  7.,  8.,  9., 10., 11., 12., 13., 14.,\n",
              "         15., 16., 17., 18., 19.]),\n",
              "  'silscores': array([0.54193945, 0.37888295, 0.31565633, 0.25609774, 0.21649568,\n",
              "         0.2125702 , 0.20465735, 0.20051259, 0.20048024, 0.19256196,\n",
              "         0.20288043, 0.20807075, 0.2130675 , 0.17395119, 0.1694204 ,\n",
              "         0.17639431, 0.17678397, 0.1782589 ])},\n",
              " 'labx': array([-1,  0,  0, ...,  0, -1, -1], dtype=int32),\n",
              " 'max_d': None,\n",
              " 'max_d_lower': None,\n",
              " 'max_d_upper': None,\n",
              " 'method': 'silhouette',\n",
              " 'score':     clusters     score\n",
              " 0          2  0.541939\n",
              " 1          3  0.378883\n",
              " 2          4  0.315656\n",
              " 3          5  0.256098\n",
              " 4          6  0.216496\n",
              " 5          7  0.212570\n",
              " 6          8  0.204657\n",
              " 7          9  0.200513\n",
              " 8         10  0.200480\n",
              " 9         11  0.192562\n",
              " 10        12  0.202880\n",
              " 11        13  0.208071\n",
              " 12        14  0.213067\n",
              " 13        15  0.173951\n",
              " 14        16  0.169420\n",
              " 15        17  0.176394\n",
              " 16        18  0.176784\n",
              " 17        19  0.178259}"
            ]
          },
          "metadata": {
            "tags": []
          },
          "execution_count": 19
        }
      ]
    },
    {
      "cell_type": "code",
      "metadata": {
        "colab": {
          "base_uri": "https://localhost:8080/",
          "height": 551
        },
        "id": "XslcNTHSbvhV",
        "outputId": "6555877e-370d-400a-a6d3-1e0cf0ee5794"
      },
      "source": [
        "ce.plot()"
      ],
      "execution_count": null,
      "outputs": [
        {
          "output_type": "display_data",
          "data": {
            "image/png": "[encoded data removed]",
            "text/plain": [
              "<Figure size 1080x576 with 1 Axes>"
            ]
          },
          "metadata": {
            "tags": [],
            "needs_background": "light"
          }
        },
        {
          "output_type": "execute_result",
          "data": {
            "text/plain": [
              "(<Figure size 1080x576 with 1 Axes>,\n",
              " <matplotlib.axes._subplots.AxesSubplot at 0x7f1d40d2ab38>)"
            ]
          },
          "metadata": {
            "tags": []
          },
          "execution_count": 18
        }
      ]
    },
    {
      "cell_type": "code",
      "metadata": {
        "colab": {
          "base_uri": "https://localhost:8080/"
        },
        "id": "bpRuM4w-oipn",
        "outputId": "63b7809f-92c4-411d-fffe-ae6b5c534525"
      },
      "source": [
        "ce = clusteval(cluster=\"agglomerative\", method=\"dbindex\" , max_clust=20)\r\n",
        "ce.fit(train_inputs2d)"
      ],
      "execution_count": null,
      "outputs": [
        {
          "output_type": "stream",
          "text": [
            "\n",
            "[clusteval] >Fit using agglomerative with metric: euclidean, and linkage: ward\n"
          ],
          "name": "stdout"
        },
        {
          "output_type": "stream",
          "text": [
            "\n",
            "  0%|          | 0/18 [00:00<?, ?it/s]\u001b[A"
          ],
          "name": "stderr"
        },
        {
          "output_type": "stream",
          "text": [
            "[clusteval] >Evaluate using dbindex.\n"
          ],
          "name": "stdout"
        },
        {
          "output_type": "stream",
          "text": [
            "\n",
            "  6%|▌         | 1/18 [00:00<00:09,  1.86it/s]\u001b[A\n",
            " 11%|█         | 2/18 [00:01<00:08,  1.84it/s]\u001b[A\n",
            " 17%|█▋        | 3/18 [00:01<00:08,  1.82it/s]\u001b[A\n",
            " 22%|██▏       | 4/18 [00:02<00:07,  1.80it/s]\u001b[A\n",
            " 28%|██▊       | 5/18 [00:02<00:07,  1.75it/s]\u001b[A\n",
            " 33%|███▎      | 6/18 [00:03<00:06,  1.72it/s]\u001b[A\n",
            " 39%|███▉      | 7/18 [00:04<00:06,  1.68it/s]\u001b[A\n",
            " 44%|████▍     | 8/18 [00:04<00:06,  1.65it/s]\u001b[A\n",
            " 50%|█████     | 9/18 [00:05<00:05,  1.62it/s]\u001b[A\n",
            " 56%|█████▌    | 10/18 [00:05<00:05,  1.60it/s]\u001b[A\n",
            " 61%|██████    | 11/18 [00:06<00:04,  1.60it/s]\u001b[A\n",
            " 67%|██████▋   | 12/18 [00:07<00:03,  1.60it/s]\u001b[A\n",
            " 72%|███████▏  | 13/18 [00:07<00:03,  1.59it/s]\u001b[A\n",
            " 78%|███████▊  | 14/18 [00:08<00:02,  1.58it/s]\u001b[A\n",
            " 83%|████████▎ | 15/18 [00:09<00:01,  1.59it/s]\u001b[A\n",
            " 89%|████████▉ | 16/18 [00:09<00:01,  1.60it/s]\u001b[A\n",
            " 94%|█████████▍| 17/18 [00:10<00:00,  1.60it/s]\u001b[A\n",
            "100%|██████████| 18/18 [00:11<00:00,  1.63it/s]"
          ],
          "name": "stderr"
        },
        {
          "output_type": "stream",
          "text": [
            "[clusteval] >Compute dendrogram threshold.\n",
            "[clusteval] >Optimal number clusters detected: [19].\n",
            "[clusteval] >Fin.\n"
          ],
          "name": "stdout"
        },
        {
          "output_type": "stream",
          "text": [
            "\n"
          ],
          "name": "stderr"
        },
        {
          "output_type": "execute_result",
          "data": {
            "text/plain": [
              "{'fig': {'clustcutt': array([ 2,  3,  4,  5,  6,  7,  8,  9, 10, 11, 12, 13, 14, 15, 16, 17, 18,\n",
              "         19]),\n",
              "  'dbclust': array([ 2.,  3.,  4.,  5.,  6.,  7.,  8.,  9., 10., 11., 12., 13., 14.,\n",
              "         15., 16., 17., 18., 19.]),\n",
              "  'scores': array([0.35274648, 0.33219088, 0.33948757, 0.45937565, 0.38281304,\n",
              "         0.28835274, 0.27787911, 0.28653259, 0.25787933, 0.23443576,\n",
              "         0.21489944, 0.21473387, 0.19939574, 0.18610269, 0.17447127,\n",
              "         0.1499802 , 0.14164796, 0.13419281])},\n",
              " 'labx': array([13,  4, 11, ...,  6, 15, 15], dtype=int32),\n",
              " 'max_d': 158.75346176725884,\n",
              " 'max_d_lower': 157.66385116040044,\n",
              " 'max_d_upper': 159.84307237411727,\n",
              " 'method': 'dbindex',\n",
              " 'score':     clusters     score\n",
              " 0          2  0.352746\n",
              " 1          3  0.332191\n",
              " 2          4  0.339488\n",
              " 3          5  0.459376\n",
              " 4          6  0.382813\n",
              " 5          7  0.288353\n",
              " 6          8  0.277879\n",
              " 7          9  0.286533\n",
              " 8         10  0.257879\n",
              " 9         11  0.234436\n",
              " 10        12  0.214899\n",
              " 11        13  0.214734\n",
              " 12        14  0.199396\n",
              " 13        15  0.186103\n",
              " 14        16  0.174471\n",
              " 15        17  0.149980\n",
              " 16        18  0.141648\n",
              " 17        19  0.134193}"
            ]
          },
          "metadata": {
            "tags": []
          },
          "execution_count": 22
        }
      ]
    },
    {
      "cell_type": "code",
      "metadata": {
        "colab": {
          "base_uri": "https://localhost:8080/",
          "height": 551
        },
        "id": "ZbCqOO-Cqk6L",
        "outputId": "015d8c63-e951-4867-dac4-f82be50d581b"
      },
      "source": [
        "ce.plot()"
      ],
      "execution_count": null,
      "outputs": [
        {
          "output_type": "display_data",
          "data": {
            "image/png": "[encoded data removed]",
            "text/plain": [
              "<Figure size 1080x576 with 1 Axes>"
            ]
          },
          "metadata": {
            "tags": [],
            "needs_background": "light"
          }
        },
        {
          "output_type": "execute_result",
          "data": {
            "text/plain": [
              "(<Figure size 1080x576 with 1 Axes>,\n",
              " <matplotlib.axes._subplots.AxesSubplot at 0x7f1d40bcfdd8>)"
            ]
          },
          "metadata": {
            "tags": []
          },
          "execution_count": 23
        }
      ]
    },
    {
      "cell_type": "code",
      "metadata": {
        "colab": {
          "base_uri": "https://localhost:8080/"
        },
        "id": "7YRoq4QTw6rM",
        "outputId": "b6198011-d691-4364-d326-d42962900db9"
      },
      "source": [
        "ce = clusteval(cluster=\"agglomerative\", method=\"silhouette\" , max_clust=20)\r\n",
        "ce.fit(train_inputs2d)"
      ],
      "execution_count": null,
      "outputs": [
        {
          "output_type": "stream",
          "text": [
            "\n",
            "[clusteval] >Fit using agglomerative with metric: euclidean, and linkage: ward\n"
          ],
          "name": "stdout"
        },
        {
          "output_type": "stream",
          "text": [
            "\n",
            "  0%|          | 0/18 [00:00<?, ?it/s]\u001b[A"
          ],
          "name": "stderr"
        },
        {
          "output_type": "stream",
          "text": [
            "[clusteval] >Evaluate using silhouette.\n"
          ],
          "name": "stdout"
        },
        {
          "output_type": "stream",
          "text": [
            "\n",
            "  6%|▌         | 1/18 [00:43<12:13, 43.12s/it]\u001b[A\n",
            " 11%|█         | 2/18 [01:26<11:29, 43.11s/it]\u001b[A\n",
            " 17%|█▋        | 3/18 [02:08<10:44, 42.98s/it]\u001b[A\n",
            " 22%|██▏       | 4/18 [02:51<09:58, 42.76s/it]\u001b[A\n",
            " 28%|██▊       | 5/18 [03:33<09:13, 42.59s/it]\u001b[A\n",
            " 33%|███▎      | 6/18 [04:15<08:29, 42.44s/it]\u001b[A\n",
            " 39%|███▉      | 7/18 [04:57<07:45, 42.32s/it]\u001b[A\n",
            " 44%|████▍     | 8/18 [05:39<07:02, 42.27s/it]\u001b[A\n",
            " 50%|█████     | 9/18 [06:21<06:20, 42.23s/it]\u001b[A\n",
            " 56%|█████▌    | 10/18 [07:03<05:37, 42.21s/it]\u001b[A\n",
            " 61%|██████    | 11/18 [07:46<04:55, 42.19s/it]\u001b[A\n",
            " 67%|██████▋   | 12/18 [08:28<04:12, 42.14s/it]\u001b[A\n",
            " 72%|███████▏  | 13/18 [09:10<03:30, 42.12s/it]\u001b[A\n",
            " 78%|███████▊  | 14/18 [09:52<02:48, 42.13s/it]\u001b[A\n",
            " 83%|████████▎ | 15/18 [10:34<02:06, 42.12s/it]\u001b[A\n",
            " 89%|████████▉ | 16/18 [11:16<01:24, 42.11s/it]\u001b[A\n",
            " 94%|█████████▍| 17/18 [11:58<00:42, 42.13s/it]\u001b[A\n",
            "100%|██████████| 18/18 [12:40<00:00, 42.26s/it]"
          ],
          "name": "stderr"
        },
        {
          "output_type": "stream",
          "text": [
            "[clusteval] >Compute dendrogram threshold.\n",
            "[clusteval] >Optimal number clusters detected: [2].\n",
            "[clusteval] >Fin.\n"
          ],
          "name": "stdout"
        },
        {
          "output_type": "stream",
          "text": [
            "\n"
          ],
          "name": "stderr"
        },
        {
          "output_type": "execute_result",
          "data": {
            "text/plain": [
              "{'fig': {'clustcutt': array([ 2,  3,  4,  5,  6,  7,  8,  9, 10, 11, 12, 13, 14, 15, 16, 17, 18,\n",
              "         19]),\n",
              "  'sillclust': array([ 2.,  3.,  4.,  5.,  6.,  7.,  8.,  9., 10., 11., 12., 13., 14.,\n",
              "         15., 16., 17., 18., 19.]),\n",
              "  'silscores': array([0.51145197, 0.33931459, 0.2792111 , 0.22239699, 0.18031306,\n",
              "         0.18417292, 0.1791121 , 0.17187081, 0.17456094, 0.18084198,\n",
              "         0.17742515, 0.17963129, 0.17633802, 0.18124202, 0.18488484,\n",
              "         0.19149603, 0.1933416 , 0.16013296])},\n",
              " 'labx': array([1, 0, 0, ..., 0, 1, 1], dtype=int32),\n",
              " 'max_d': 1663.097849494531,\n",
              " 'max_d_lower': 842.149429307909,\n",
              " 'max_d_upper': 2484.046269681153,\n",
              " 'method': 'silhouette',\n",
              " 'score':     clusters     score\n",
              " 0          2  0.511452\n",
              " 1          3  0.339315\n",
              " 2          4  0.279211\n",
              " 3          5  0.222397\n",
              " 4          6  0.180313\n",
              " 5          7  0.184173\n",
              " 6          8  0.179112\n",
              " 7          9  0.171871\n",
              " 8         10  0.174561\n",
              " 9         11  0.180842\n",
              " 10        12  0.177425\n",
              " 11        13  0.179631\n",
              " 12        14  0.176338\n",
              " 13        15  0.181242\n",
              " 14        16  0.184885\n",
              " 15        17  0.191496\n",
              " 16        18  0.193342\n",
              " 17        19  0.160133}"
            ]
          },
          "metadata": {
            "tags": []
          },
          "execution_count": 24
        }
      ]
    },
    {
      "cell_type": "code",
      "metadata": {
        "colab": {
          "base_uri": "https://localhost:8080/",
          "height": 551
        },
        "id": "vn5-nf9LxDCq",
        "outputId": "569f58c2-dc6e-485f-b4bf-6a81046795a5"
      },
      "source": [
        "ce.plot()"
      ],
      "execution_count": null,
      "outputs": [
        {
          "output_type": "display_data",
          "data": {
            "image/png": "[encoded data removed]",
            "text/plain": [
              "<Figure size 1080x576 with 1 Axes>"
            ]
          },
          "metadata": {
            "tags": [],
            "needs_background": "light"
          }
        },
        {
          "output_type": "execute_result",
          "data": {
            "text/plain": [
              "(<Figure size 1080x576 with 1 Axes>,\n",
              " <matplotlib.axes._subplots.AxesSubplot at 0x7f1d40adeeb8>)"
            ]
          },
          "metadata": {
            "tags": []
          },
          "execution_count": 25
        }
      ]
    },
    {
      "cell_type": "markdown",
      "metadata": {
        "id": "A__zXd-T0Jk5"
      },
      "source": [
        "### visualize cluster centers"
      ]
    },
    {
      "cell_type": "code",
      "metadata": {
        "colab": {
          "base_uri": "https://localhost:8080/",
          "height": 810,
          "referenced_widgets": [
            "37a50dfd1f504039a8c3baa0bcb9f15d",
            "76c0eaa4ddb048daa7375172c34ff9c8",
            "8ca85e6e764446daa07088289413c1ed",
            "a5d0575f209a4abd86b9feee8818d8d6",
            "1f2378013c114456988dc2d00b8c69f1",
            "3f720a0dc7d84fb59c53fa0973f898fb",
            "08aba702373b4aa29206b4a256f8f3b2",
            "78b6ea42559c45599a3c02abf3062a6e"
          ]
        },
        "id": "j8U_ZUPU0NRe",
        "outputId": "1cde20c4-5e40-4375-ad75-f6327b267bf6"
      },
      "source": [
        "cluster_centers = clusters_f.form_clusters(train_inputs2d, \"KMeans\", [20], train_labels)\n",
        "\n",
        "print(\"\\ncluster centers visualized\")\n",
        "plotting_f.plotClusters(cluster_centers, sample_shape)"
      ],
      "execution_count": null,
      "outputs": [
        {
          "output_type": "display_data",
          "data": {
            "application/vnd.jupyter.widget-view+json": {
              "model_id": "37a50dfd1f504039a8c3baa0bcb9f15d",
              "version_minor": 0,
              "version_major": 2
            },
            "text/plain": [
              "HBox(children=(FloatProgress(value=0.0, max=1.0), HTML(value='')))"
            ]
          },
          "metadata": {
            "tags": []
          }
        },
        {
          "output_type": "stream",
          "text": [
            "\n",
            "runtime:  121.16784930229187\n",
            "\n",
            "memory consumption:\n",
            "Partition of a set of 900401 objects. Total size = 614925787 bytes.\n",
            " Index  Count   %     Size   % Cumulative  % Kind (class / dict of class)\n",
            "     0   3214   0 501634661  82 501634661  82 numpy.ndarray\n",
            "     1 246498  27 34933652   6 536568313  87 str\n",
            "     2 235820  26 18727240   3 555295553  90 tuple\n",
            "     3  97088  11  7700373   1 562995926  92 bytes\n",
            "     4  19974   2  7251512   1 570247438  93 dict (no owner)\n",
            "     5  49315   5  7135040   1 577382478  94 types.CodeType\n",
            "     6  46493   5  6323048   1 583705526  95 function\n",
            "     7   6064   1  5940584   1 589646110  96 type\n",
            "     8   2455   0  3539248   1 593185358  96 dict of module\n",
            "     9   6064   1  3112408   1 596297766  97 dict of type\n",
            "<2328 more rows. Type e.g. '_.more' to view.>\n",
            "\n",
            " n_clusters  silhouette      cal_har  dav_bould  adj_rand  adj_mut_inf  v_measure  fowlk_mall\n",
            "         20    0.196018  2089.134135   1.637783  0.030962      0.12444   0.126057    0.086518\n",
            "\n",
            "cluster centers visualized\n"
          ],
          "name": "stdout"
        },
        {
          "output_type": "display_data",
          "data": {
            "image/png": "[encoded data removed]",
            "text/plain": [
              "<Figure size 1080x432 with 21 Axes>"
            ]
          },
          "metadata": {
            "tags": [],
            "needs_background": "light"
          }
        }
      ]
    },
    {
      "cell_type": "markdown",
      "metadata": {
        "id": "ivc26LiGkzVX"
      },
      "source": [
        "## neural network"
      ]
    },
    {
      "cell_type": "markdown",
      "metadata": {
        "id": "uX744zTQn6cj"
      },
      "source": [
        "### define network"
      ]
    },
    {
      "cell_type": "code",
      "metadata": {
        "id": "ZaqP1joSk1CU"
      },
      "source": [
        "class Net(nn.Module):\n",
        "    def __init__(self):\n",
        "        super(Net, self).__init__()\n",
        "        # 4 input channels, 6 output channels, row convolution kernel of size 3\n",
        "        self.conv1 = nn.Conv1d(4, 6, 3)\n",
        "        self.conv2 = nn.Conv1d(6, 16, 3)\n",
        "        # an affine operation: y = Wx + b\n",
        "        self.fc1 = nn.Linear(368, 120) \n",
        "        self.fc2 = nn.Linear(120, 84)\n",
        "        self.fc3 = nn.Linear(84, 20)\n",
        "\n",
        "    def forward(self, x):\n",
        "        # output given by : math.floor((inp-(k-1)-1)/s+1)\n",
        "        x = F.max_pool1d(F.relu(self.conv1(x)), 2)\n",
        "        x = F.max_pool1d(F.relu(self.conv2(x)), 2)\n",
        "        x = x.view(-1, self.num_flat_features(x))\n",
        "        x = F.relu(self.fc1(x))\n",
        "        x = F.relu(self.fc2(x))\n",
        "        x = self.fc3(x)\n",
        "        return x\n",
        "\n",
        "    def num_flat_features(self, x):\n",
        "        size = x.size()[1:]  # all dimensions except the batch dimension\n",
        "        num_features = 1\n",
        "        for s in size:\n",
        "            num_features *= s\n",
        "        return num_features"
      ],
      "execution_count": null,
      "outputs": []
    },
    {
      "cell_type": "markdown",
      "metadata": {
        "id": "sDyvdk9apc4R"
      },
      "source": [
        "### create network"
      ]
    },
    {
      "cell_type": "code",
      "metadata": {
        "id": "Tl5-WqbDdTyZ"
      },
      "source": [
        "net = Net().to(device)\n",
        "\n",
        "#Define a Loss function and optimizer\n",
        "criterion = nn.CrossEntropyLoss()\n",
        "optimizer = optim.SGD(net.parameters(), lr=0.001, momentum=0.9)"
      ],
      "execution_count": null,
      "outputs": []
    },
    {
      "cell_type": "markdown",
      "metadata": {
        "id": "S9GxTChEpgI5"
      },
      "source": [
        "### train network"
      ]
    },
    {
      "cell_type": "code",
      "metadata": {
        "colab": {
          "base_uri": "https://localhost:8080/",
          "height": 517,
          "referenced_widgets": [
            "fab5b0a215e94f868f97d0f6ef8a71f5",
            "6ba21ef49dd34d44bb9c02e0d8805078",
            "9eab099c9788462ebbe82d2ff37d7565",
            "57a0d0824b04432a9fb6760297448608",
            "3cef411198fa4f6095cd76df3f2d316d",
            "706507ec26c94ef59da00c2ad3ad76ed",
            "31b9d209b9624d20a18d35336cb1c432",
            "81227b9129a84efea393fdadbc910b82"
          ]
        },
        "id": "JxBOWB_-dzpn",
        "outputId": "d95034f9-6301-45e4-cd5e-a6241b487143"
      },
      "source": [
        "best_params = network_f.trainNet(net,criterion,optimizer, \n",
        "                                  train_loader,val_loader,\n",
        "                                  epochs=150)"
      ],
      "execution_count": null,
      "outputs": [
        {
          "output_type": "display_data",
          "data": {
            "application/vnd.jupyter.widget-view+json": {
              "model_id": "fab5b0a215e94f868f97d0f6ef8a71f5",
              "version_minor": 0,
              "version_major": 2
            },
            "text/plain": [
              "HBox(children=(FloatProgress(value=0.0, max=150.0), HTML(value='')))"
            ]
          },
          "metadata": {
            "tags": []
          }
        },
        {
          "output_type": "stream",
          "text": [
            "epoch: 15, train loss: 2.028, val loss: 2.011\n",
            "epoch: 30, train loss: 1.142, val loss: 1.257\n",
            "epoch: 45, train loss: 0.802, val loss: 0.966\n",
            "epoch: 60, train loss: 0.648, val loss: 0.821\n",
            "epoch: 75, train loss: 0.561, val loss: 0.805\n",
            "epoch: 90, train loss: 0.499, val loss: 0.781\n",
            "epoch: 105, train loss: 0.450, val loss: 0.794\n",
            "epoch: 120, train loss: 0.411, val loss: 0.825\n",
            "epoch: 135, train loss: 0.375, val loss: 0.812\n",
            "epoch: 150, train loss: 0.351, val loss: 0.895\n",
            "\n",
            "Finished Training\n"
          ],
          "name": "stdout"
        },
        {
          "output_type": "display_data",
          "data": {
            "image/png": "[encoded data removed]",
            "text/plain": [
              "<Figure size 432x288 with 1 Axes>"
            ]
          },
          "metadata": {
            "tags": [],
            "needs_background": "light"
          }
        }
      ]
    },
    {
      "cell_type": "code",
      "metadata": {
        "colab": {
          "base_uri": "https://localhost:8080/"
        },
        "id": "kLFBN2-hR5cF",
        "outputId": "a26c25c1-cb11-473e-fb3c-22856160d450"
      },
      "source": [
        "net.load_state_dict(best_params)"
      ],
      "execution_count": null,
      "outputs": [
        {
          "output_type": "execute_result",
          "data": {
            "text/plain": [
              "<All keys matched successfully>"
            ]
          },
          "metadata": {
            "tags": []
          },
          "execution_count": 17
        }
      ]
    },
    {
      "cell_type": "markdown",
      "metadata": {
        "id": "B3ZjkhAEpi-E"
      },
      "source": [
        "### evaluate network"
      ]
    },
    {
      "cell_type": "code",
      "metadata": {
        "colab": {
          "base_uri": "https://localhost:8080/",
          "height": 1000,
          "referenced_widgets": [
            "a57ed9d4e8f34659bade27997aad157e",
            "548dd7a2527a41ac96340dec0fa86dcc",
            "9503e58caab04554921bad0515cd3aad",
            "0946143944254144a92f4808f279c2ff",
            "4d270812475a49d7a29fbaebf1d16a7c",
            "d10fb41de99e45858992719f4eb532dd",
            "2fa0d94d95bf4f7585507a56ed6fe01f",
            "d7da35cc064c43cea499647213c78a95",
            "5354b830380d43d786900aa010383327",
            "c659f9b4fd064fb480981643ffde5cf7",
            "221b173675034f798fcef1b3815c0e30",
            "cd7bb82a617345a1a82cbeb93d943fae",
            "b94336e11b2d44b9a676769333323be2",
            "857c06b7fc1a4f58af822c2cd878a321",
            "e8a0ef82812b4f0faf320ba47039d6b1",
            "643ec88194ff45c0a92846dcdde88c9f"
          ]
        },
        "id": "xRhndsv-Q1Ec",
        "outputId": "ba144038-09d9-46fb-d711-5b8341c89dd6"
      },
      "source": [
        "print(\"evaluation results on train data\")\n",
        "network_f.evaluate(net,train_loader,classes)\n",
        "print(\"evaluation results on test data\")\n",
        "network_f.evaluate(net,test_loader,classes)"
      ],
      "execution_count": null,
      "outputs": [
        {
          "output_type": "stream",
          "text": [
            "evaluation results on train data\n"
          ],
          "name": "stdout"
        },
        {
          "output_type": "display_data",
          "data": {
            "application/vnd.jupyter.widget-view+json": {
              "model_id": "a57ed9d4e8f34659bade27997aad157e",
              "version_minor": 0,
              "version_major": 2
            },
            "text/plain": [
              "HBox(children=(FloatProgress(value=0.0, max=352.0), HTML(value='')))"
            ]
          },
          "metadata": {
            "tags": []
          }
        },
        {
          "output_type": "stream",
          "text": [
            "\n",
            "              precision    recall  f1-score   support\n",
            "\n",
            "           a     0.8678    0.8553    0.8615       760\n",
            "           b     0.7474    0.7978    0.7717       623\n",
            "           c     0.9740    0.9920    0.9829       377\n",
            "           d     0.8150    0.7972    0.8060       641\n",
            "           e     0.9721    0.9650    0.9685       686\n",
            "           g     0.7415    0.8132    0.7757       589\n",
            "           h     0.7579    0.7214    0.7392       499\n",
            "           l     0.9973    0.9945    0.9959       365\n",
            "           m     0.8674    0.9525    0.9080       611\n",
            "           n     0.8711    0.6414    0.7388       474\n",
            "           o     0.9696    0.8531    0.9076       524\n",
            "           p     0.7929    0.7737    0.7832       579\n",
            "           q     0.8696    0.9539    0.9098       629\n",
            "           r     0.7505    0.7427    0.7466       478\n",
            "           s     0.8981    0.9706    0.9330       545\n",
            "           u     0.7475    0.7078    0.7271       527\n",
            "           v     0.9564    0.9844    0.9702       513\n",
            "           w     0.6732    0.8047    0.7331       471\n",
            "           y     0.8358    0.7510    0.7911       522\n",
            "           z     0.9789    0.9380    0.9580       839\n",
            "\n",
            "    accuracy                         0.8529     11252\n",
            "   macro avg     0.8542    0.8505    0.8504     11252\n",
            "weighted avg     0.8554    0.8529    0.8524     11252\n",
            "\n",
            "evaluation results on test data\n"
          ],
          "name": "stdout"
        },
        {
          "output_type": "display_data",
          "data": {
            "application/vnd.jupyter.widget-view+json": {
              "model_id": "5354b830380d43d786900aa010383327",
              "version_minor": 0,
              "version_major": 2
            },
            "text/plain": [
              "HBox(children=(FloatProgress(value=0.0, max=472.0), HTML(value='')))"
            ]
          },
          "metadata": {
            "tags": []
          }
        },
        {
          "output_type": "stream",
          "text": [
            "\n",
            "              precision    recall  f1-score   support\n",
            "\n",
            "           a     0.7751    0.7270    0.7503      1000\n",
            "           b     0.6251    0.7090    0.6644       842\n",
            "           c     0.9237    0.9453    0.9344       512\n",
            "           d     0.7244    0.7421    0.7331       857\n",
            "           e     0.9347    0.8900    0.9118       900\n",
            "           g     0.6005    0.6167    0.6085       780\n",
            "           h     0.6203    0.6052    0.6127       656\n",
            "           l     0.9874    0.9593    0.9731       491\n",
            "           m     0.7709    0.8165    0.7931       812\n",
            "           n     0.6695    0.4750    0.5558       661\n",
            "           o     0.8922    0.8112    0.8498       694\n",
            "           p     0.6635    0.6403    0.6517       770\n",
            "           q     0.7709    0.9077    0.8337       834\n",
            "           r     0.5967    0.5550    0.5751       645\n",
            "           s     0.8566    0.9367    0.8949       727\n",
            "           u     0.5978    0.5905    0.5941       735\n",
            "           v     0.9220    0.9636    0.9423       687\n",
            "           w     0.5345    0.6129    0.5710       682\n",
            "           y     0.7252    0.6385    0.6791       711\n",
            "           z     0.9335    0.9284    0.9310      1104\n",
            "\n",
            "    accuracy                         0.7560     15100\n",
            "   macro avg     0.7562    0.7536    0.7530     15100\n",
            "weighted avg     0.7569    0.7560    0.7547     15100\n",
            "\n"
          ],
          "name": "stdout"
        }
      ]
    }
  ]
}