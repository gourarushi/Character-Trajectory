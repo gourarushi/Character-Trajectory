{
  "nbformat": 4,
  "nbformat_minor": 0,
  "metadata": {
    "colab": {
      "name": "CharacterTrajectories_Patches.ipynb",
      "provenance": [],
      "collapsed_sections": [],
      "toc_visible": true
    },
    "kernelspec": {
      "display_name": "Python 3",
      "name": "python3"
    },
    "widgets": {
      "application/vnd.jupyter.widget-state+json": {
        "bd8cb1b83cd14b2b97dbc8a2a9f4c851": {
          "model_module": "@jupyter-widgets/controls",
          "model_name": "HBoxModel",
          "state": {
            "_view_name": "HBoxView",
            "_dom_classes": [],
            "_model_name": "HBoxModel",
            "_view_module": "@jupyter-widgets/controls",
            "_model_module_version": "1.5.0",
            "_view_count": null,
            "_view_module_version": "1.5.0",
            "box_style": "",
            "layout": "IPY_MODEL_00ab295683e3485d9626f0e2faa8f97f",
            "_model_module": "@jupyter-widgets/controls",
            "children": [
              "IPY_MODEL_c78a2b57bcfd40ffa63b889f555142eb",
              "IPY_MODEL_c7946e01bd1b41128ec88fab45dd7d0f"
            ]
          }
        },
        "00ab295683e3485d9626f0e2faa8f97f": {
          "model_module": "@jupyter-widgets/base",
          "model_name": "LayoutModel",
          "state": {
            "_view_name": "LayoutView",
            "grid_template_rows": null,
            "right": null,
            "justify_content": null,
            "_view_module": "@jupyter-widgets/base",
            "overflow": null,
            "_model_module_version": "1.2.0",
            "_view_count": null,
            "flex_flow": null,
            "width": null,
            "min_width": null,
            "border": null,
            "align_items": null,
            "bottom": null,
            "_model_module": "@jupyter-widgets/base",
            "top": null,
            "grid_column": null,
            "overflow_y": null,
            "overflow_x": null,
            "grid_auto_flow": null,
            "grid_area": null,
            "grid_template_columns": null,
            "flex": null,
            "_model_name": "LayoutModel",
            "justify_items": null,
            "grid_row": null,
            "max_height": null,
            "align_content": null,
            "visibility": null,
            "align_self": null,
            "height": null,
            "min_height": null,
            "padding": null,
            "grid_auto_rows": null,
            "grid_gap": null,
            "max_width": null,
            "order": null,
            "_view_module_version": "1.2.0",
            "grid_template_areas": null,
            "object_position": null,
            "object_fit": null,
            "grid_auto_columns": null,
            "margin": null,
            "display": null,
            "left": null
          }
        },
        "c78a2b57bcfd40ffa63b889f555142eb": {
          "model_module": "@jupyter-widgets/controls",
          "model_name": "FloatProgressModel",
          "state": {
            "_view_name": "ProgressView",
            "style": "IPY_MODEL_ccb58c1b23e5477090aa16ceef79890d",
            "_dom_classes": [],
            "description": "100%",
            "_model_name": "FloatProgressModel",
            "bar_style": "success",
            "max": 1422,
            "_view_module": "@jupyter-widgets/controls",
            "_model_module_version": "1.5.0",
            "value": 1422,
            "_view_count": null,
            "_view_module_version": "1.5.0",
            "orientation": "horizontal",
            "min": 0,
            "description_tooltip": null,
            "_model_module": "@jupyter-widgets/controls",
            "layout": "IPY_MODEL_5380593965c946c8b19a265fb3978eb7"
          }
        },
        "c7946e01bd1b41128ec88fab45dd7d0f": {
          "model_module": "@jupyter-widgets/controls",
          "model_name": "HTMLModel",
          "state": {
            "_view_name": "HTMLView",
            "style": "IPY_MODEL_246cd0a3e22f46c19bb4f278001aa87e",
            "_dom_classes": [],
            "description": "",
            "_model_name": "HTMLModel",
            "placeholder": "​",
            "_view_module": "@jupyter-widgets/controls",
            "_model_module_version": "1.5.0",
            "value": " 1422/1422 [10:44&lt;00:00,  2.21it/s]",
            "_view_count": null,
            "_view_module_version": "1.5.0",
            "description_tooltip": null,
            "_model_module": "@jupyter-widgets/controls",
            "layout": "IPY_MODEL_b621dee954784222b7f56d97e9d4a1f0"
          }
        },
        "ccb58c1b23e5477090aa16ceef79890d": {
          "model_module": "@jupyter-widgets/controls",
          "model_name": "ProgressStyleModel",
          "state": {
            "_view_name": "StyleView",
            "_model_name": "ProgressStyleModel",
            "description_width": "initial",
            "_view_module": "@jupyter-widgets/base",
            "_model_module_version": "1.5.0",
            "_view_count": null,
            "_view_module_version": "1.2.0",
            "bar_color": null,
            "_model_module": "@jupyter-widgets/controls"
          }
        },
        "5380593965c946c8b19a265fb3978eb7": {
          "model_module": "@jupyter-widgets/base",
          "model_name": "LayoutModel",
          "state": {
            "_view_name": "LayoutView",
            "grid_template_rows": null,
            "right": null,
            "justify_content": null,
            "_view_module": "@jupyter-widgets/base",
            "overflow": null,
            "_model_module_version": "1.2.0",
            "_view_count": null,
            "flex_flow": null,
            "width": null,
            "min_width": null,
            "border": null,
            "align_items": null,
            "bottom": null,
            "_model_module": "@jupyter-widgets/base",
            "top": null,
            "grid_column": null,
            "overflow_y": null,
            "overflow_x": null,
            "grid_auto_flow": null,
            "grid_area": null,
            "grid_template_columns": null,
            "flex": null,
            "_model_name": "LayoutModel",
            "justify_items": null,
            "grid_row": null,
            "max_height": null,
            "align_content": null,
            "visibility": null,
            "align_self": null,
            "height": null,
            "min_height": null,
            "padding": null,
            "grid_auto_rows": null,
            "grid_gap": null,
            "max_width": null,
            "order": null,
            "_view_module_version": "1.2.0",
            "grid_template_areas": null,
            "object_position": null,
            "object_fit": null,
            "grid_auto_columns": null,
            "margin": null,
            "display": null,
            "left": null
          }
        },
        "246cd0a3e22f46c19bb4f278001aa87e": {
          "model_module": "@jupyter-widgets/controls",
          "model_name": "DescriptionStyleModel",
          "state": {
            "_view_name": "StyleView",
            "_model_name": "DescriptionStyleModel",
            "description_width": "",
            "_view_module": "@jupyter-widgets/base",
            "_model_module_version": "1.5.0",
            "_view_count": null,
            "_view_module_version": "1.2.0",
            "_model_module": "@jupyter-widgets/controls"
          }
        },
        "b621dee954784222b7f56d97e9d4a1f0": {
          "model_module": "@jupyter-widgets/base",
          "model_name": "LayoutModel",
          "state": {
            "_view_name": "LayoutView",
            "grid_template_rows": null,
            "right": null,
            "justify_content": null,
            "_view_module": "@jupyter-widgets/base",
            "overflow": null,
            "_model_module_version": "1.2.0",
            "_view_count": null,
            "flex_flow": null,
            "width": null,
            "min_width": null,
            "border": null,
            "align_items": null,
            "bottom": null,
            "_model_module": "@jupyter-widgets/base",
            "top": null,
            "grid_column": null,
            "overflow_y": null,
            "overflow_x": null,
            "grid_auto_flow": null,
            "grid_area": null,
            "grid_template_columns": null,
            "flex": null,
            "_model_name": "LayoutModel",
            "justify_items": null,
            "grid_row": null,
            "max_height": null,
            "align_content": null,
            "visibility": null,
            "align_self": null,
            "height": null,
            "min_height": null,
            "padding": null,
            "grid_auto_rows": null,
            "grid_gap": null,
            "max_width": null,
            "order": null,
            "_view_module_version": "1.2.0",
            "grid_template_areas": null,
            "object_position": null,
            "object_fit": null,
            "grid_auto_columns": null,
            "margin": null,
            "display": null,
            "left": null
          }
        },
        "471cfc0f181a4218a6365ff2c9649bfb": {
          "model_module": "@jupyter-widgets/controls",
          "model_name": "HBoxModel",
          "state": {
            "_view_name": "HBoxView",
            "_dom_classes": [],
            "_model_name": "HBoxModel",
            "_view_module": "@jupyter-widgets/controls",
            "_model_module_version": "1.5.0",
            "_view_count": null,
            "_view_module_version": "1.5.0",
            "box_style": "",
            "layout": "IPY_MODEL_6b8d1733eac743669659bee4d9dfc14e",
            "_model_module": "@jupyter-widgets/controls",
            "children": [
              "IPY_MODEL_98e2fc3ce9d946678fc51640fb0f7416",
              "IPY_MODEL_657041c610bd47bc9b12b07df9133cfa"
            ]
          }
        },
        "6b8d1733eac743669659bee4d9dfc14e": {
          "model_module": "@jupyter-widgets/base",
          "model_name": "LayoutModel",
          "state": {
            "_view_name": "LayoutView",
            "grid_template_rows": null,
            "right": null,
            "justify_content": null,
            "_view_module": "@jupyter-widgets/base",
            "overflow": null,
            "_model_module_version": "1.2.0",
            "_view_count": null,
            "flex_flow": null,
            "width": null,
            "min_width": null,
            "border": null,
            "align_items": null,
            "bottom": null,
            "_model_module": "@jupyter-widgets/base",
            "top": null,
            "grid_column": null,
            "overflow_y": null,
            "overflow_x": null,
            "grid_auto_flow": null,
            "grid_area": null,
            "grid_template_columns": null,
            "flex": null,
            "_model_name": "LayoutModel",
            "justify_items": null,
            "grid_row": null,
            "max_height": null,
            "align_content": null,
            "visibility": null,
            "align_self": null,
            "height": null,
            "min_height": null,
            "padding": null,
            "grid_auto_rows": null,
            "grid_gap": null,
            "max_width": null,
            "order": null,
            "_view_module_version": "1.2.0",
            "grid_template_areas": null,
            "object_position": null,
            "object_fit": null,
            "grid_auto_columns": null,
            "margin": null,
            "display": null,
            "left": null
          }
        },
        "98e2fc3ce9d946678fc51640fb0f7416": {
          "model_module": "@jupyter-widgets/controls",
          "model_name": "FloatProgressModel",
          "state": {
            "_view_name": "ProgressView",
            "style": "IPY_MODEL_154bfc9987134e42a2bbe72c0e8aa83c",
            "_dom_classes": [],
            "description": "100%",
            "_model_name": "FloatProgressModel",
            "bar_style": "success",
            "max": 1436,
            "_view_module": "@jupyter-widgets/controls",
            "_model_module_version": "1.5.0",
            "value": 1436,
            "_view_count": null,
            "_view_module_version": "1.5.0",
            "orientation": "horizontal",
            "min": 0,
            "description_tooltip": null,
            "_model_module": "@jupyter-widgets/controls",
            "layout": "IPY_MODEL_4ae3e07a46094e928e67a1dc4549de9d"
          }
        },
        "657041c610bd47bc9b12b07df9133cfa": {
          "model_module": "@jupyter-widgets/controls",
          "model_name": "HTMLModel",
          "state": {
            "_view_name": "HTMLView",
            "style": "IPY_MODEL_522a62dc41134ce39c27ab7f501391f9",
            "_dom_classes": [],
            "description": "",
            "_model_name": "HTMLModel",
            "placeholder": "​",
            "_view_module": "@jupyter-widgets/controls",
            "_model_module_version": "1.5.0",
            "value": " 1436/1436 [11:52&lt;00:00,  2.02it/s]",
            "_view_count": null,
            "_view_module_version": "1.5.0",
            "description_tooltip": null,
            "_model_module": "@jupyter-widgets/controls",
            "layout": "IPY_MODEL_f31625845c404ff7aff232691e2cf018"
          }
        },
        "154bfc9987134e42a2bbe72c0e8aa83c": {
          "model_module": "@jupyter-widgets/controls",
          "model_name": "ProgressStyleModel",
          "state": {
            "_view_name": "StyleView",
            "_model_name": "ProgressStyleModel",
            "description_width": "initial",
            "_view_module": "@jupyter-widgets/base",
            "_model_module_version": "1.5.0",
            "_view_count": null,
            "_view_module_version": "1.2.0",
            "bar_color": null,
            "_model_module": "@jupyter-widgets/controls"
          }
        },
        "4ae3e07a46094e928e67a1dc4549de9d": {
          "model_module": "@jupyter-widgets/base",
          "model_name": "LayoutModel",
          "state": {
            "_view_name": "LayoutView",
            "grid_template_rows": null,
            "right": null,
            "justify_content": null,
            "_view_module": "@jupyter-widgets/base",
            "overflow": null,
            "_model_module_version": "1.2.0",
            "_view_count": null,
            "flex_flow": null,
            "width": null,
            "min_width": null,
            "border": null,
            "align_items": null,
            "bottom": null,
            "_model_module": "@jupyter-widgets/base",
            "top": null,
            "grid_column": null,
            "overflow_y": null,
            "overflow_x": null,
            "grid_auto_flow": null,
            "grid_area": null,
            "grid_template_columns": null,
            "flex": null,
            "_model_name": "LayoutModel",
            "justify_items": null,
            "grid_row": null,
            "max_height": null,
            "align_content": null,
            "visibility": null,
            "align_self": null,
            "height": null,
            "min_height": null,
            "padding": null,
            "grid_auto_rows": null,
            "grid_gap": null,
            "max_width": null,
            "order": null,
            "_view_module_version": "1.2.0",
            "grid_template_areas": null,
            "object_position": null,
            "object_fit": null,
            "grid_auto_columns": null,
            "margin": null,
            "display": null,
            "left": null
          }
        },
        "522a62dc41134ce39c27ab7f501391f9": {
          "model_module": "@jupyter-widgets/controls",
          "model_name": "DescriptionStyleModel",
          "state": {
            "_view_name": "StyleView",
            "_model_name": "DescriptionStyleModel",
            "description_width": "",
            "_view_module": "@jupyter-widgets/base",
            "_model_module_version": "1.5.0",
            "_view_count": null,
            "_view_module_version": "1.2.0",
            "_model_module": "@jupyter-widgets/controls"
          }
        },
        "f31625845c404ff7aff232691e2cf018": {
          "model_module": "@jupyter-widgets/base",
          "model_name": "LayoutModel",
          "state": {
            "_view_name": "LayoutView",
            "grid_template_rows": null,
            "right": null,
            "justify_content": null,
            "_view_module": "@jupyter-widgets/base",
            "overflow": null,
            "_model_module_version": "1.2.0",
            "_view_count": null,
            "flex_flow": null,
            "width": null,
            "min_width": null,
            "border": null,
            "align_items": null,
            "bottom": null,
            "_model_module": "@jupyter-widgets/base",
            "top": null,
            "grid_column": null,
            "overflow_y": null,
            "overflow_x": null,
            "grid_auto_flow": null,
            "grid_area": null,
            "grid_template_columns": null,
            "flex": null,
            "_model_name": "LayoutModel",
            "justify_items": null,
            "grid_row": null,
            "max_height": null,
            "align_content": null,
            "visibility": null,
            "align_self": null,
            "height": null,
            "min_height": null,
            "padding": null,
            "grid_auto_rows": null,
            "grid_gap": null,
            "max_width": null,
            "order": null,
            "_view_module_version": "1.2.0",
            "grid_template_areas": null,
            "object_position": null,
            "object_fit": null,
            "grid_auto_columns": null,
            "margin": null,
            "display": null,
            "left": null
          }
        },
        "4a8cf95d68a9499aa89fad7e005236d9": {
          "model_module": "@jupyter-widgets/controls",
          "model_name": "HBoxModel",
          "state": {
            "_view_name": "HBoxView",
            "_dom_classes": [],
            "_model_name": "HBoxModel",
            "_view_module": "@jupyter-widgets/controls",
            "_model_module_version": "1.5.0",
            "_view_count": null,
            "_view_module_version": "1.5.0",
            "box_style": "",
            "layout": "IPY_MODEL_ca60a0b7f3634efbb1e6f60f8a525317",
            "_model_module": "@jupyter-widgets/controls",
            "children": [
              "IPY_MODEL_8200ba9a7e6145809c33c9dc82c933a7",
              "IPY_MODEL_0e590a6e11f14d20aee65f5b4e34d6d2"
            ]
          }
        },
        "ca60a0b7f3634efbb1e6f60f8a525317": {
          "model_module": "@jupyter-widgets/base",
          "model_name": "LayoutModel",
          "state": {
            "_view_name": "LayoutView",
            "grid_template_rows": null,
            "right": null,
            "justify_content": null,
            "_view_module": "@jupyter-widgets/base",
            "overflow": null,
            "_model_module_version": "1.2.0",
            "_view_count": null,
            "flex_flow": null,
            "width": null,
            "min_width": null,
            "border": null,
            "align_items": null,
            "bottom": null,
            "_model_module": "@jupyter-widgets/base",
            "top": null,
            "grid_column": null,
            "overflow_y": null,
            "overflow_x": null,
            "grid_auto_flow": null,
            "grid_area": null,
            "grid_template_columns": null,
            "flex": null,
            "_model_name": "LayoutModel",
            "justify_items": null,
            "grid_row": null,
            "max_height": null,
            "align_content": null,
            "visibility": null,
            "align_self": null,
            "height": null,
            "min_height": null,
            "padding": null,
            "grid_auto_rows": null,
            "grid_gap": null,
            "max_width": null,
            "order": null,
            "_view_module_version": "1.2.0",
            "grid_template_areas": null,
            "object_position": null,
            "object_fit": null,
            "grid_auto_columns": null,
            "margin": null,
            "display": null,
            "left": null
          }
        },
        "8200ba9a7e6145809c33c9dc82c933a7": {
          "model_module": "@jupyter-widgets/controls",
          "model_name": "FloatProgressModel",
          "state": {
            "_view_name": "ProgressView",
            "style": "IPY_MODEL_5927cc90fe374270897b914b6fe2e3c0",
            "_dom_classes": [],
            "description": "100%",
            "_model_name": "FloatProgressModel",
            "bar_style": "success",
            "max": 100,
            "_view_module": "@jupyter-widgets/controls",
            "_model_module_version": "1.5.0",
            "value": 100,
            "_view_count": null,
            "_view_module_version": "1.5.0",
            "orientation": "horizontal",
            "min": 0,
            "description_tooltip": null,
            "_model_module": "@jupyter-widgets/controls",
            "layout": "IPY_MODEL_a8cc0f02d156486d94bff2ce7dc399d9"
          }
        },
        "0e590a6e11f14d20aee65f5b4e34d6d2": {
          "model_module": "@jupyter-widgets/controls",
          "model_name": "HTMLModel",
          "state": {
            "_view_name": "HTMLView",
            "style": "IPY_MODEL_30f6220c2a9c43449caab8ef2a5e2464",
            "_dom_classes": [],
            "description": "",
            "_model_name": "HTMLModel",
            "placeholder": "​",
            "_view_module": "@jupyter-widgets/controls",
            "_model_module_version": "1.5.0",
            "value": " 100/100 [02:44&lt;00:00,  1.64s/it]",
            "_view_count": null,
            "_view_module_version": "1.5.0",
            "description_tooltip": null,
            "_model_module": "@jupyter-widgets/controls",
            "layout": "IPY_MODEL_448c1e538242428a86ab9d87d788cf4b"
          }
        },
        "5927cc90fe374270897b914b6fe2e3c0": {
          "model_module": "@jupyter-widgets/controls",
          "model_name": "ProgressStyleModel",
          "state": {
            "_view_name": "StyleView",
            "_model_name": "ProgressStyleModel",
            "description_width": "initial",
            "_view_module": "@jupyter-widgets/base",
            "_model_module_version": "1.5.0",
            "_view_count": null,
            "_view_module_version": "1.2.0",
            "bar_color": null,
            "_model_module": "@jupyter-widgets/controls"
          }
        },
        "a8cc0f02d156486d94bff2ce7dc399d9": {
          "model_module": "@jupyter-widgets/base",
          "model_name": "LayoutModel",
          "state": {
            "_view_name": "LayoutView",
            "grid_template_rows": null,
            "right": null,
            "justify_content": null,
            "_view_module": "@jupyter-widgets/base",
            "overflow": null,
            "_model_module_version": "1.2.0",
            "_view_count": null,
            "flex_flow": null,
            "width": null,
            "min_width": null,
            "border": null,
            "align_items": null,
            "bottom": null,
            "_model_module": "@jupyter-widgets/base",
            "top": null,
            "grid_column": null,
            "overflow_y": null,
            "overflow_x": null,
            "grid_auto_flow": null,
            "grid_area": null,
            "grid_template_columns": null,
            "flex": null,
            "_model_name": "LayoutModel",
            "justify_items": null,
            "grid_row": null,
            "max_height": null,
            "align_content": null,
            "visibility": null,
            "align_self": null,
            "height": null,
            "min_height": null,
            "padding": null,
            "grid_auto_rows": null,
            "grid_gap": null,
            "max_width": null,
            "order": null,
            "_view_module_version": "1.2.0",
            "grid_template_areas": null,
            "object_position": null,
            "object_fit": null,
            "grid_auto_columns": null,
            "margin": null,
            "display": null,
            "left": null
          }
        },
        "30f6220c2a9c43449caab8ef2a5e2464": {
          "model_module": "@jupyter-widgets/controls",
          "model_name": "DescriptionStyleModel",
          "state": {
            "_view_name": "StyleView",
            "_model_name": "DescriptionStyleModel",
            "description_width": "",
            "_view_module": "@jupyter-widgets/base",
            "_model_module_version": "1.5.0",
            "_view_count": null,
            "_view_module_version": "1.2.0",
            "_model_module": "@jupyter-widgets/controls"
          }
        },
        "448c1e538242428a86ab9d87d788cf4b": {
          "model_module": "@jupyter-widgets/base",
          "model_name": "LayoutModel",
          "state": {
            "_view_name": "LayoutView",
            "grid_template_rows": null,
            "right": null,
            "justify_content": null,
            "_view_module": "@jupyter-widgets/base",
            "overflow": null,
            "_model_module_version": "1.2.0",
            "_view_count": null,
            "flex_flow": null,
            "width": null,
            "min_width": null,
            "border": null,
            "align_items": null,
            "bottom": null,
            "_model_module": "@jupyter-widgets/base",
            "top": null,
            "grid_column": null,
            "overflow_y": null,
            "overflow_x": null,
            "grid_auto_flow": null,
            "grid_area": null,
            "grid_template_columns": null,
            "flex": null,
            "_model_name": "LayoutModel",
            "justify_items": null,
            "grid_row": null,
            "max_height": null,
            "align_content": null,
            "visibility": null,
            "align_self": null,
            "height": null,
            "min_height": null,
            "padding": null,
            "grid_auto_rows": null,
            "grid_gap": null,
            "max_width": null,
            "order": null,
            "_view_module_version": "1.2.0",
            "grid_template_areas": null,
            "object_position": null,
            "object_fit": null,
            "grid_auto_columns": null,
            "margin": null,
            "display": null,
            "left": null
          }
        }
      }
    }
  },
  "cells": [
    {
      "cell_type": "markdown",
      "metadata": {
        "id": "dRdZv9fuV0db"
      },
      "source": [
        "## Imports modules"
      ]
    },
    {
      "cell_type": "code",
      "metadata": {
        "id": "eR2fLsWLVo3D",
        "outputId": "22a482b8-c44a-4bb9-e16a-c83f31b13d3b",
        "colab": {
          "base_uri": "https://localhost:8080/"
        }
      },
      "source": [
        "import numpy as np\n",
        "\n",
        "# to get and read data\n",
        "import os\n",
        "import requests\n",
        "from zipfile import ZipFile\n",
        "from scipy.io import arff\n",
        "\n",
        "# to plot the data\n",
        "import matplotlib.pyplot as plt\n",
        "import matplotlib.cm as cm\n",
        "\n",
        "# for neural network\n",
        "import torch\n",
        "import torch.nn as nn\n",
        "import torch.nn.functional as F\n",
        "import torch.optim as optim\n",
        "from torch.utils.data import DataLoader, Dataset\n",
        "\n",
        "# for splitting data and evaluating results\n",
        "from sklearn.model_selection import train_test_split\n",
        "from sklearn.metrics import classification_report\n",
        "\n",
        "# to track progress\n",
        "from tqdm.notebook import tqdm\n",
        "\n",
        "device = torch.device(\"cuda:0\" if torch.cuda.is_available() else \"cpu\")\n",
        "print(device)"
      ],
      "execution_count": null,
      "outputs": [
        {
          "output_type": "stream",
          "text": [
            "cpu\n"
          ],
          "name": "stdout"
        }
      ]
    },
    {
      "cell_type": "markdown",
      "metadata": {
        "id": "G4hCtIEpUp4c"
      },
      "source": [
        "## get and read data"
      ]
    },
    {
      "cell_type": "markdown",
      "metadata": {
        "id": "60UX9yxGssKT"
      },
      "source": [
        "get data"
      ]
    },
    {
      "cell_type": "code",
      "metadata": {
        "id": "_OoLkKjsSu7i",
        "outputId": "8c2fd0fe-277a-48dd-e584-a07ab6bcb7f1",
        "colab": {
          "base_uri": "https://localhost:8080/"
        }
      },
      "source": [
        "# download zip\n",
        "\n",
        "if not os.path.exists('CharacterTrajectories.zip'):\n",
        "    url = 'http://www.timeseriesclassification.com/Downloads/CharacterTrajectories.zip'\n",
        "    r = requests.get(url, allow_redirects=True)\n",
        "    open('CharacterTrajectories.zip', 'wb').write(r.content)\n",
        "    print('zip downloaded')\n",
        "else:\n",
        "    print('zip already exists')\n",
        "\n",
        "\n",
        "# extract folder from zip\n",
        "if not os.path.exists('CharacterTrajectories'):\n",
        "    with ZipFile('CharacterTrajectories.zip', 'r') as zipObj:\n",
        "      # Extract all the contents of zip file in current directory\n",
        "      zipObj.extractall('CharacterTrajectories')\n",
        "    print('folder extracted from zip')\n",
        "else:\n",
        "    print('zip already extracted')"
      ],
      "execution_count": null,
      "outputs": [
        {
          "output_type": "stream",
          "text": [
            "zip downloaded\n",
            "folder extracted from zip\n"
          ],
          "name": "stdout"
        }
      ]
    },
    {
      "cell_type": "markdown",
      "metadata": {
        "id": "o9hK9E-qsMSI"
      },
      "source": [
        "read data"
      ]
    },
    {
      "cell_type": "code",
      "metadata": {
        "id": "2uZCEvlPnuG_"
      },
      "source": [
        "# ignoring metadata at index 1, arff -> (data,meta)\n",
        "train_data = arff.loadarff('CharacterTrajectories/CharacterTrajectories_TRAIN.arff')[0]\n",
        "test_data = arff.loadarff('CharacterTrajectories/CharacterTrajectories_TEST.arff')[0]"
      ],
      "execution_count": null,
      "outputs": []
    },
    {
      "cell_type": "code",
      "metadata": {
        "id": "iZgBldgaWnVP",
        "outputId": "0510b2c3-7d06-42a3-9670-5a255f3337a9",
        "colab": {
          "base_uri": "https://localhost:8080/",
          "height": 286
        }
      },
      "source": [
        "# Distribution of sample lenghts\n",
        "\n",
        "lengths = []\n",
        "\n",
        "for sample in train_data:\n",
        "  input = sample[0][0]\n",
        "  input = np.array(list(input))\n",
        "  len1 = np.where(np.isnan(input))[0][0]\n",
        "  lengths.append(len1)\n",
        "\n",
        "max_len = np.max(lengths)\n",
        "print('max length =',max_len)\n",
        "_ = plt.hist(lengths)"
      ],
      "execution_count": null,
      "outputs": [
        {
          "output_type": "stream",
          "text": [
            "max length = 180\n"
          ],
          "name": "stdout"
        },
        {
          "output_type": "display_data",
          "data": {
            "image/png": "[encoded data removed]",
            "text/plain": [
              "<Figure size 432x288 with 1 Axes>"
            ]
          },
          "metadata": {
            "tags": [],
            "needs_background": "light"
          }
        }
      ]
    },
    {
      "cell_type": "code",
      "metadata": {
        "id": "K-PTmOJa2pMX",
        "outputId": "d7812180-1e4c-4599-adfe-b2f40950c6f5",
        "colab": {
          "base_uri": "https://localhost:8080/"
        }
      },
      "source": [
        "classes = ['a','b','c','d','e','g','h','l','m','n','o','p','q','r','s','u','v','w','y','z']\n",
        "print('number of classes :',len(classes))\n",
        "\n",
        "print('\\ntrain data contains',len(train_data),'samples')\n",
        "print('test data contains',len(test_data),'samples')\n",
        "\n",
        "print('\\neach sample has 3 channels : x,y and force')"
      ],
      "execution_count": null,
      "outputs": [
        {
          "output_type": "stream",
          "text": [
            "number of classes : 20\n",
            "\n",
            "train data contains 1422 samples\n",
            "test data contains 1436 samples\n",
            "\n",
            "each sample has 3 channels : x,y and force\n"
          ],
          "name": "stdout"
        }
      ]
    },
    {
      "cell_type": "markdown",
      "metadata": {
        "id": "fw9BK2jsHMyn"
      },
      "source": [
        "function to return patch"
      ]
    },
    {
      "cell_type": "code",
      "metadata": {
        "id": "Fe3J5HInVXCB"
      },
      "source": [
        "def interpolate(arr,newSize):\n",
        "  l = len(arr)\n",
        "  indices = list(range(0,l))\n",
        "  newIndices = np.linspace(0, l-1 , newSize)\n",
        "  newArr = [np.interp(i,indices,arr) for i in newIndices]\n",
        "  return newArr"
      ],
      "execution_count": null,
      "outputs": []
    },
    {
      "cell_type": "code",
      "metadata": {
        "id": "wWMxmLtAhI0q"
      },
      "source": [
        "def patch_sample(sample, size, window_size=20, stride=10):\n",
        "\n",
        "  patches = []\n",
        "  \n",
        "  input = sample[0]\n",
        "  label = sample[1]\n",
        "  inputLen = len(input[0])\n",
        "  inputLen = max_len if inputLen > max_len else inputLen\n",
        "  n_patches = int(np.ceil((inputLen - window_size)/stride) + 1)\n",
        "\n",
        "  for i in range(n_patches):\n",
        "\n",
        "    channels = []\n",
        "    start = stride*i\n",
        "    end   = stride*i + window_size\n",
        "\n",
        "    for channel in input:\n",
        "      values = []\n",
        "      indicator = []\n",
        "      for i in range(max_len):\n",
        "        if np.isnan(channel[i]):\n",
        "          break\n",
        "        if (i in range(start,end)):\n",
        "          values.append(channel[i])\n",
        "          indicator.append(1)\n",
        "        else:\n",
        "          values.append(0)\n",
        "          indicator.append(0)\n",
        "      values = interpolate(values, newSize=size)  \n",
        "      channels.append(values)\n",
        "\n",
        "    indicator = interpolate(indicator, newSize=size)\n",
        "    channels.append(indicator)\n",
        "    patches.append((channels,label))\n",
        "\n",
        "  return patches"
      ],
      "execution_count": null,
      "outputs": []
    },
    {
      "cell_type": "code",
      "metadata": {
        "id": "yOXh5pL33Yfa"
      },
      "source": [
        "def patch_dataset(data):\n",
        "  data1 = []\n",
        "  for sample in tqdm(data):\n",
        "    patches = patch_sample(sample, size=90)\n",
        "    data1.append(patches)\n",
        "  data1 = [patch for patches in data1 for patch in patches]\n",
        "  return data1"
      ],
      "execution_count": null,
      "outputs": []
    },
    {
      "cell_type": "code",
      "metadata": {
        "id": "le8dyUPa4U1g",
        "outputId": "62adbecf-155e-419a-a1b6-76e145fa08e1",
        "colab": {
          "base_uri": "https://localhost:8080/",
          "height": 115,
          "referenced_widgets": [
            "bd8cb1b83cd14b2b97dbc8a2a9f4c851",
            "00ab295683e3485d9626f0e2faa8f97f",
            "c78a2b57bcfd40ffa63b889f555142eb",
            "c7946e01bd1b41128ec88fab45dd7d0f",
            "ccb58c1b23e5477090aa16ceef79890d",
            "5380593965c946c8b19a265fb3978eb7",
            "246cd0a3e22f46c19bb4f278001aa87e",
            "b621dee954784222b7f56d97e9d4a1f0",
            "471cfc0f181a4218a6365ff2c9649bfb",
            "6b8d1733eac743669659bee4d9dfc14e",
            "98e2fc3ce9d946678fc51640fb0f7416",
            "657041c610bd47bc9b12b07df9133cfa",
            "154bfc9987134e42a2bbe72c0e8aa83c",
            "4ae3e07a46094e928e67a1dc4549de9d",
            "522a62dc41134ce39c27ab7f501391f9",
            "f31625845c404ff7aff232691e2cf018"
          ]
        }
      },
      "source": [
        "train_patchData = patch_dataset(train_data)\n",
        "test_patchData = patch_dataset(test_data)"
      ],
      "execution_count": null,
      "outputs": [
        {
          "output_type": "display_data",
          "data": {
            "application/vnd.jupyter.widget-view+json": {
              "model_id": "bd8cb1b83cd14b2b97dbc8a2a9f4c851",
              "version_minor": 0,
              "version_major": 2
            },
            "text/plain": [
              "HBox(children=(FloatProgress(value=0.0, max=1422.0), HTML(value='')))"
            ]
          },
          "metadata": {
            "tags": []
          }
        },
        {
          "output_type": "stream",
          "text": [
            "\n"
          ],
          "name": "stdout"
        },
        {
          "output_type": "display_data",
          "data": {
            "application/vnd.jupyter.widget-view+json": {
              "model_id": "471cfc0f181a4218a6365ff2c9649bfb",
              "version_minor": 0,
              "version_major": 2
            },
            "text/plain": [
              "HBox(children=(FloatProgress(value=0.0, max=1436.0), HTML(value='')))"
            ]
          },
          "metadata": {
            "tags": []
          }
        },
        {
          "output_type": "stream",
          "text": [
            "\n"
          ],
          "name": "stdout"
        }
      ]
    },
    {
      "cell_type": "code",
      "metadata": {
        "id": "jfYI_e1pX7Ts"
      },
      "source": [
        "train_patchInputs, train_patchLabels = list(zip(*train_patchData))\n",
        "test_patchInputs, test_patchLabels = list(zip(*test_patchData))\n",
        "\n",
        "# convert to np array\n",
        "train_patchInputs = np.array([ [ np.array(list(channel), dtype=float) for channel in input ]  for input in train_patchInputs])\n",
        "test_patchInputs = np.array([ [ np.array(list(channel), dtype=float) for channel in input ]  for input in test_patchInputs])\n",
        "\n",
        "# subtract 1 from labels to start indexing from 0\n",
        "train_patchLabels = np.array(train_patchLabels, dtype=int) - 1\n",
        "test_patchLabels = np.array(test_patchLabels, dtype=int) - 1"
      ],
      "execution_count": null,
      "outputs": []
    },
    {
      "cell_type": "markdown",
      "metadata": {
        "id": "n6bg9nUw2M-R"
      },
      "source": [
        "create dataset and dataloader"
      ]
    },
    {
      "cell_type": "code",
      "metadata": {
        "id": "jtXkfBgXSTrK"
      },
      "source": [
        "class mydataset(Dataset):\n",
        "  def __init__(self, inputs, labels):\n",
        "    self.inputs = inputs\n",
        "    self.labels = labels\n",
        "\n",
        "  def __len__(self):\n",
        "    return len(self.inputs)\n",
        "\n",
        "  def __getitem__(self, index):\n",
        "    input = self.inputs[index]\n",
        "    label = self.labels[index]\n",
        "    return input,label"
      ],
      "execution_count": null,
      "outputs": []
    },
    {
      "cell_type": "code",
      "metadata": {
        "id": "OMwCrcRIcRpm"
      },
      "source": [
        "train_patchInputs, val_patchInputs, train_patchLabels, val_patchLabels, = train_test_split(train_patchInputs, train_patchLabels, test_size=0.25, random_state=0)\n",
        "\n",
        "train_patchDataset = mydataset(train_patchInputs, train_patchLabels)\n",
        "train_patchLoader = DataLoader(train_patchDataset, batch_size=50, shuffle=True)\n",
        "\n",
        "val_patchDataset = mydataset(val_patchInputs, val_patchLabels)\n",
        "val_patchLoader = DataLoader(val_patchDataset, batch_size=50, shuffle=False)\n",
        "\n",
        "test_patchDataset = mydataset(test_patchInputs, test_patchLabels)\n",
        "test_patchLoader = DataLoader(test_patchDataset, batch_size=50, shuffle=False)"
      ],
      "execution_count": null,
      "outputs": []
    },
    {
      "cell_type": "markdown",
      "metadata": {
        "id": "ivc26LiGkzVX"
      },
      "source": [
        "## define the network"
      ]
    },
    {
      "cell_type": "code",
      "metadata": {
        "id": "ZaqP1joSk1CU"
      },
      "source": [
        "class Net(nn.Module):\n",
        "    def __init__(self):\n",
        "        super(Net, self).__init__()\n",
        "        # 4 input channels, 6 output channels, row convolution kernel of size 3\n",
        "        self.conv1 = nn.Conv1d(4, 6, 3)\n",
        "        self.conv2 = nn.Conv1d(6, 16, 3)\n",
        "        # an affine operation: y = Wx + b\n",
        "        self.fc1 = nn.Linear(336, 120) \n",
        "        self.fc2 = nn.Linear(120, 84)\n",
        "        self.fc3 = nn.Linear(84, 20)\n",
        "\n",
        "    def forward(self, x):\n",
        "        x = F.max_pool1d(F.relu(self.conv1(x)), 2)\n",
        "        x = F.max_pool1d(F.relu(self.conv2(x)), 2)\n",
        "        x = x.view(-1, self.num_flat_features(x))\n",
        "        x = F.relu(self.fc1(x))\n",
        "        x = F.relu(self.fc2(x))\n",
        "        x = self.fc3(x)\n",
        "        return x\n",
        "\n",
        "    def num_flat_features(self, x):\n",
        "        size = x.size()[1:]  # all dimensions except the batch dimension\n",
        "        num_features = 1\n",
        "        for s in size:\n",
        "            num_features *= s\n",
        "        return num_features"
      ],
      "execution_count": null,
      "outputs": []
    },
    {
      "cell_type": "code",
      "metadata": {
        "id": "kAApT4BMlEdW"
      },
      "source": [
        "def evaluate(data_loader):\n",
        "  y_true= []\n",
        "  y_pred = []\n",
        "  net.eval()\n",
        "\n",
        "  for _, (inputBatch,labelBatch) in enumerate(data_loader):\n",
        "    with torch.no_grad():\n",
        "      inputBatch = inputBatch.float()\n",
        "      labelBatch = labelBatch.type(torch.LongTensor)\n",
        "      inputBatch, labelBatch = inputBatch.to(device), labelBatch.to(device)\n",
        "      outputBatch = net(inputBatch)\n",
        "      \n",
        "      for output,label in zip(outputBatch,labelBatch):\n",
        "        output, label = output.cpu(), label.cpu()\n",
        "        y_true.append(label)\n",
        "        pred = np.argmax(output)\n",
        "        y_pred.append(pred)\n",
        "\n",
        "  print(classification_report(y_true, y_pred, target_names=classes, digits=4))"
      ],
      "execution_count": null,
      "outputs": []
    },
    {
      "cell_type": "code",
      "metadata": {
        "id": "Tl5-WqbDdTyZ"
      },
      "source": [
        "net = Net().to(device)\n",
        "\n",
        "#Define a Loss function and optimizer\n",
        "criterion = nn.CrossEntropyLoss()\n",
        "optimizer = optim.SGD(net.parameters(), lr=0.001, momentum=0.9)"
      ],
      "execution_count": null,
      "outputs": []
    },
    {
      "cell_type": "code",
      "metadata": {
        "id": "Sk7TE_K0dUaT",
        "outputId": "24071aa2-fcf3-4281-8ab3-63cf2a901204",
        "colab": {
          "base_uri": "https://localhost:8080/",
          "height": 433,
          "referenced_widgets": [
            "4a8cf95d68a9499aa89fad7e005236d9",
            "ca60a0b7f3634efbb1e6f60f8a525317",
            "8200ba9a7e6145809c33c9dc82c933a7",
            "0e590a6e11f14d20aee65f5b4e34d6d2",
            "5927cc90fe374270897b914b6fe2e3c0",
            "a8cc0f02d156486d94bff2ce7dc399d9",
            "30f6220c2a9c43449caab8ef2a5e2464",
            "448c1e538242428a86ab9d87d788cf4b"
          ]
        }
      },
      "source": [
        "batch_avgTrainLoss = []\n",
        "batch_avgValLoss = []\n",
        "\n",
        "for epoch in tqdm(range(100)):  # loop over the dataset multiple times\n",
        "\n",
        "    train_loss = []\n",
        "    val_loss = []\n",
        "    \n",
        "    net.train()\n",
        "    for i, (inputBatch,labelBatch) in enumerate(train_patchLoader):\n",
        "        \n",
        "        inputBatch, labelBatch = inputBatch.to(device), labelBatch.to(device)\n",
        "        inputBatch = inputBatch.float()\n",
        "\n",
        "        # zero the parameter gradients\n",
        "        optimizer.zero_grad()\n",
        "\n",
        "        # forward + backward + optimize\n",
        "        outputBatch = net(inputBatch)\n",
        "        loss = criterion(outputBatch, labelBatch)\n",
        "        loss.backward()\n",
        "        optimizer.step()\n",
        "\n",
        "        # print statistics\n",
        "        train_loss.append(loss.item())\n",
        "    \n",
        "    net.eval()\n",
        "    for i, (inputBatch,labelBatch) in enumerate(val_patchLoader):\n",
        "      with torch.no_grad():\n",
        "        \n",
        "        inputBatch, labelBatch = inputBatch.to(device), labelBatch.to(device)\n",
        "        inputBatch = inputBatch.float()\n",
        "\n",
        "        # forward + backward + optimize\n",
        "        outputBatch = net(inputBatch)\n",
        "        loss = criterion(outputBatch, labelBatch)\n",
        "        val_loss.append(loss.item())    \n",
        "        \n",
        "    avg_trainLoss = sum(train_loss) / len(train_loss)\n",
        "    avg_valLoss = sum(val_loss) / len(val_loss)\n",
        "    batch_avgTrainLoss.append(avg_trainLoss)\n",
        "    batch_avgValLoss.append(avg_valLoss)\n",
        "\n",
        "    # print statistics\n",
        "    if epoch % 20 == 19:\n",
        "      print('epoch: %d, train loss: %.3f, val loss: %.3f' % (epoch + 1, avg_trainLoss, avg_valLoss))\n",
        "\n",
        "print('Finished Training')\n",
        "plt.plot(batch_avgTrainLoss, label='train loss')\n",
        "plt.plot(batch_avgValLoss, label='val loss')\n",
        "plt.legend()"
      ],
      "execution_count": null,
      "outputs": [
        {
          "output_type": "display_data",
          "data": {
            "application/vnd.jupyter.widget-view+json": {
              "model_id": "4a8cf95d68a9499aa89fad7e005236d9",
              "version_minor": 0,
              "version_major": 2
            },
            "text/plain": [
              "HBox(children=(FloatProgress(value=0.0), HTML(value='')))"
            ]
          },
          "metadata": {
            "tags": []
          }
        },
        {
          "output_type": "stream",
          "text": [
            "epoch: 20, train loss: 2.247, val loss: 2.234\n",
            "epoch: 40, train loss: 1.557, val loss: 1.604\n",
            "epoch: 60, train loss: 1.363, val loss: 1.454\n",
            "epoch: 80, train loss: 1.268, val loss: 1.391\n",
            "epoch: 100, train loss: 1.209, val loss: 1.392\n",
            "\n",
            "Finished Training\n"
          ],
          "name": "stdout"
        },
        {
          "output_type": "execute_result",
          "data": {
            "text/plain": [
              "<matplotlib.legend.Legend at 0x7f72306c8978>"
            ]
          },
          "metadata": {
            "tags": []
          },
          "execution_count": 189
        },
        {
          "output_type": "display_data",
          "data": {
            "image/png": "[encoded data removed]",
            "text/plain": [
              "<Figure size 432x288 with 1 Axes>"
            ]
          },
          "metadata": {
            "tags": [],
            "needs_background": "light"
          }
        }
      ]
    },
    {
      "cell_type": "code",
      "metadata": {
        "id": "hnIBBn6Hdhn3",
        "outputId": "f22e7449-7ecf-4ad4-ccd8-75743c456b01",
        "colab": {
          "base_uri": "https://localhost:8080/"
        }
      },
      "source": [
        "print(\"evaluation results on train data\")\n",
        "evaluate(train_patchLoader)\n",
        "print(\"evaluation results on test data\")\n",
        "evaluate(test_patchLoader)"
      ],
      "execution_count": null,
      "outputs": [
        {
          "output_type": "stream",
          "text": [
            "evaluation results on train data\n",
            "              precision    recall  f1-score   support\n",
            "\n",
            "           a     0.7114    0.6820    0.6964      1066\n",
            "           b     0.6200    0.7102    0.6620       866\n",
            "           c     0.9506    0.4510    0.6117       938\n",
            "           d     0.7424    0.6855    0.7128       992\n",
            "           e     0.9074    0.5658    0.6970      1177\n",
            "           g     0.7221    0.6093    0.6609       883\n",
            "           h     0.5676    0.5038    0.5338       792\n",
            "           l     0.2021    0.9512    0.3334      1127\n",
            "           m     0.8774    0.6930    0.7744       785\n",
            "           n     0.7448    0.3896    0.5116       824\n",
            "           o     0.9615    0.5899    0.7312       890\n",
            "           p     0.8462    0.5295    0.6514       831\n",
            "           q     0.7897    0.7887    0.7892       781\n",
            "           r     0.7005    0.5326    0.6051       751\n",
            "           s     0.8643    0.6962    0.7712       869\n",
            "           u     0.8031    0.3210    0.4587       813\n",
            "           v     0.8379    0.6250    0.7159       984\n",
            "           w     0.6632    0.4096    0.5064       774\n",
            "           y     0.7015    0.5238    0.5997       884\n",
            "           z     0.9514    0.7806    0.8576      1103\n",
            "\n",
            "    accuracy                         0.6116     18130\n",
            "   macro avg     0.7582    0.6019    0.6440     18130\n",
            "weighted avg     0.7569    0.6116    0.6457     18130\n",
            "\n",
            "evaluation results on test data\n",
            "              precision    recall  f1-score   support\n",
            "\n",
            "           a     0.6890    0.6060    0.6448      1462\n",
            "           b     0.5443    0.6661    0.5991      1207\n",
            "           c     0.9059    0.4225    0.5763      1207\n",
            "           d     0.6719    0.6664    0.6692      1343\n",
            "           e     0.8830    0.5395    0.6698      1581\n",
            "           g     0.6418    0.5286    0.5797      1173\n",
            "           h     0.4892    0.4154    0.4493      1088\n",
            "           l     0.1915    0.9371    0.3180      1479\n",
            "           m     0.8210    0.5696    0.6725      1071\n",
            "           n     0.5772    0.3077    0.4014      1105\n",
            "           o     0.9308    0.5352    0.6796      1207\n",
            "           p     0.7519    0.4456    0.5596      1122\n",
            "           q     0.7054    0.7723    0.7373      1054\n",
            "           r     0.6172    0.4284    0.5058      1020\n",
            "           s     0.8324    0.6760    0.7461      1139\n",
            "           u     0.6350    0.2620    0.3710      1122\n",
            "           v     0.8182    0.5905    0.6859      1326\n",
            "           w     0.5691    0.3576    0.4392      1071\n",
            "           y     0.6711    0.4766    0.5573      1173\n",
            "           z     0.9117    0.7839    0.8430      1462\n",
            "\n",
            "    accuracy                         0.5607     24412\n",
            "   macro avg     0.6929    0.5494    0.5853     24412\n",
            "weighted avg     0.6946    0.5607    0.5897     24412\n",
            "\n"
          ],
          "name": "stdout"
        }
      ]
    }
  ]
}